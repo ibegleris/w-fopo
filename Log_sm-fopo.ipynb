{
 "cells": [
  {
   "cell_type": "markdown",
   "metadata": {
    "collapsed": true
   },
   "source": [
    "# Logbook regarding the Single Mode FOPO\n"
   ]
  },
  {
   "cell_type": "markdown",
   "metadata": {},
   "source": [
    "# Log for the fibre OPO\n"
   ]
  },
  {
   "cell_type": "markdown",
   "metadata": {},
   "source": [
    "## Single mode fibre OPO\n",
    "\n",
    "### 24/3/2015\n",
    "\n",
    "Did a quick literature search for single mode fibre OPO's. \n",
    "\n",
    "\n",
    "First fibre OPO reported in: M. Nakazawa, K. Suzuki, H.A. Haus, IEEE J. Quantum Electron. 25 (1989) 2036.\n",
    "[8]\n",
    "\n",
    "They had two papers, technically the modulation isnatbility laser that they are proposing is a opo (taken from Widely tunable femtosecond fiber optical parametric oscillator Yongzhong)\n",
    "\n",
    "\n",
    "Paper Widely tunable femtosecond fiber optical parametric oscillator Yongzhong\n",
    "\n",
    "is very close to what I want to do. What they are doing is solving a combination of the fwm equations with a dispersion term in the frount. They are not inclusing raman, just the spm xpm fwm terms. The first part of the equation is VERY close to peters MMGLSE making me think that it is a combination of the NLSE and AGRAWAL equations although it could be the first one withought the raman.\n",
    "\n",
    "Additionally what they are using is the degenerate fwm equations."
   ]
  },
  {
   "cell_type": "markdown",
   "metadata": {},
   "source": [
    "## Entry 1 15/09/2016\n",
    "\n",
    "I have started looking in to coding a single mode FOPO. At first I am going to create a hybrid code between the telecoms code and the original Multimode code. I am still going to use the MM-GNLSE since it will make it easier to add more modes in the future.\n",
    "\n",
    "### Tasks for tommorow:\n",
    "* Write a code that just propagates CW pump and signal through a fibre.\n",
    "* Check how it fairs\n",
    "* Write some tests for it if you can\n"
   ]
  },
  {
   "cell_type": "markdown",
   "metadata": {
    "collapsed": true
   },
   "source": [
    "## Entry 2 16/09/2016\n",
    "What I want this code to do:\n",
    "* Have 2 or 3 CW pwmps through the fibre\n",
    "* At the end of the fibre the spectrum is multipled by some wavelength dependent 'function that will kick out either the signal or idler depending what I want to export\n",
    "* The previous signal will be inputed back along with more pump signal \n",
    "* oscilate until there is no change from previous\n",
    "code is being built in: [single-mode-code](single-mode-fibre-opo/code)"
   ]
  },
  {
   "cell_type": "markdown",
   "metadata": {
    "collapsed": true
   },
   "source": [
    "## Entry 3 20/09/2016\n",
    "* MM-gnlse is set such that it has one pump in one mode and propagates. nobackfeeding yet. I am trying to find a paper which to simulate it.\n",
    "* **IMPORTANT In FOPO theory there are two types of conversion efficiencies**.\n",
    "    * Internal conversio efficiency. Ratio of pump at input to idler at the output of the **fibre**\n",
    "    * External conversion efficiency. Ration of the pump at input to the idler output of the **FOPO**\n",
    "    * When there is a signal is seeded. The signal at input to the idler at fibre output\n",
    "* potential paper to replicate is the recent:\n",
    "    High-efficiency CW all-fiber parametric\n",
    "High-efficiency CW all-fiber parametric \n",
    "oscillator tunable in 0.92-1 \n",
    "μ\n",
    "m range "
   ]
  },
  {
   "cell_type": "markdown",
   "metadata": {
    "collapsed": true
   },
   "source": [
    "## Entry 4 9/10/2016\n",
    "I have understood what the dispersion is going in ekaterina. They are following a convention at which the expend the dispersion around the central pump buuut then expand the coefficiencts around the zero dispersion wavelength. \n",
    "\n",
    "i.e. he phase missmatch due to dispersion only for a MI \n",
    "\n",
    "\n",
    "ref [Broadband fiber optical parametric amplifiers, M.E. Marhic,]:\n",
    "$$\n",
    "\\Delta \\beta = 2 \\sum^{\\infty}_{m=1}\\frac{\\beta_{2m}}{2m!}\\left(\\omega_s - \\omega_p\\right)^{2m}\n",
    "$$\n",
    ", where\n",
    "$$\n",
    "\\beta_{2m} = \\left(\\frac{d^{2m} \\beta}{d \\omega^{2m}}\\right)_{\\omega = \\omega_p}\n",
    "$$\n",
    "\n",
    "Howerver we are given the dispersion parameters around the zero dispersion wavelength \n",
    "$$\n",
    "\\beta_{0m} = \\left(\\frac{d^{m} \\beta}{d \\omega^{m}}\\right)_{\\omega = \\omega_0}\n",
    "$$\n",
    "\n",
    "making us do things like:\n",
    "\n",
    "$$\n",
    "\\beta_{2m} \\approx \\beta_{03} \\left(\\omega_p - \\omega_0\\right) +\\frac{\\beta_{04}}{2} \\left(\\omega_p- \\omega_0\\right)^2\n",
    "$$\n",
    "\n",
    "and \n",
    "\n",
    "$$\n",
    "\\beta_{4m} \\approx  \\beta_{04}\n",
    "$$\n",
    "\n",
    "The last part helps me since I will always pick the central wavelength of the pulse to be that of the pump and hence I can shift the dispersions like this. Great!"
   ]
  },
  {
   "cell_type": "markdown",
   "metadata": {
    "collapsed": true
   },
   "source": [
    "### nonlinearity\n",
    "On the other hand on the nonlinearity we only have gamma, but we are talking of only one mode in a single polarisation. so from peters paper\n",
    "$$\n",
    "Q = \\frac{n^2_0}{3 n_{eff}^2 A_{eff}} \\Rightarrow A_{eff} = \\frac{n^2_0}{3 n^2_{eff} Q} \\approx \\frac{1}{3 Q}\n",
    "$$\n",
    "\n",
    "so \n",
    "\n",
    "$$\n",
    "\\gamma = \\frac{n_2 \\omega_c}{c A_{eff}} = \\frac{n_2 \\omega 3 Q}{c} \\Rightarrow \n",
    "$$\n",
    "\n",
    "$$\n",
    "Q = \\frac{ \\gamma}{3 n_2 \\left(\\frac{2 \\pi}{\\lambda} \\right)}\n",
    "$$"
   ]
  },
  {
   "cell_type": "markdown",
   "metadata": {},
   "source": [
    "## Experimental figure of Zlobina et al. 2015\n",
    "<img src=\"graphs_for_logs/single_mode_single_dirrection/zlobina_2015_aparatus.png\">"
   ]
  },
  {
   "cell_type": "markdown",
   "metadata": {},
   "source": [
    "### The WDMS"
   ]
  },
  {
   "cell_type": "markdown",
   "metadata": {
    "collapsed": true
   },
   "source": [
    "The WDMS have a periodic dependance on what the let through for each port. In particular for Ekaterinas I do not have any idea what the wdms are so I need to estimate them.\n",
    "\n",
    "An example is shown below for what I am talking about (from thor labs):\n",
    "\n",
    "<img src=\"graphs_for_logs/single_mode_single_dirrection/wdm_thor_labs.gif\">\n",
    "\n",
    "\n",
    "So I need to decide whether I want to include a clas like the raman. Hence to load the displayed functions for each port (in a hypothetical one like above) or like in this situation estimate the function with inputs (min,max,length,freequency etc). \n"
   ]
  },
  {
   "cell_type": "markdown",
   "metadata": {},
   "source": [
    "#### For the WDM function estimation:\n",
    "It needs to be a $sin$ function but in absolute.\n",
    "I here have taken the conversion of insertion loss being: "
   ]
  },
  {
   "cell_type": "code",
   "execution_count": 1,
   "metadata": {
    "collapsed": false
   },
   "outputs": [],
   "source": [
    "%matplotlib inline"
   ]
  },
  {
   "cell_type": "code",
   "execution_count": 2,
   "metadata": {
    "collapsed": false,
    "scrolled": false
   },
   "outputs": [],
   "source": [
    "import numpy as np\n",
    "from scipy.constants import c, pi\n",
    "import matplotlib.pyplot as plt\n",
    "class WDM(object):\n",
    "    def __init__(self,x1,x2):\n",
    "        self.x1 = x1 # High part of port 1 \n",
    "        self.x2 = x2 # Low wavelength of port 1\n",
    "        self.omega = 0.5*pi/np.abs(x1 - x2)\n",
    "        self.phi = pi - self.omega*self.x2\n",
    "        return None\n",
    "\n",
    "\n",
    "    def il_port1(self,lamda):\n",
    "        return (np.sin(self.omega*lamda+self.phi))**2\n",
    "\n",
    "\n",
    "    def il_port2(self,lamda):\n",
    "        return (np.sin(self.omega*lamda+self.phi+pi/2))**2\n",
    "\n",
    "\n",
    "    def plot(self,lamda):\n",
    "        fig = plt.figure()\n",
    "        plt.plot(lamda,self.il_port1(lamda), label = \"%0.2f\" % (self.x1*1e9) +' nm port') \n",
    "        plt.plot(lamda,self.il_port1(lamda), label =  \"%0.2f\" % (self.x2*1e9) +' nm port')\n",
    "        plt.legend(loc='upper center', bbox_to_anchor=(0.5, 1.11),ncol=2)\n",
    "        plt.xlabel(r'$\\lambda (\\mu m)$')\n",
    "        plt.ylabel(r'$Insertion loss (dB)$')\n",
    "        plt.ylim(-100,0)\n",
    "        plt.show()\n",
    "        return None\n",
    "\n",
    "\n",
    "    def plot_dB(self,lamda):\n",
    "        fig = plt.figure()\n",
    "        plt.plot(lamda,10*np.log10(self.il_port1(lamda)), label =  \"%0.2f\" % (self.x1) +' nm port') \n",
    "        plt.plot(lamda,10*np.log10(self.il_port2(lamda)), label =  \"%0.2f\" % (self.x2) +' nm port')\n",
    "        plt.legend(loc='upper center', bbox_to_anchor=(0.5, 1.16), ncol=2)\n",
    "        plt.xlabel(r'$\\lambda (\\mu m)$')\n",
    "        plt.ylim(-100,0)\n",
    "        plt.ylabel(r'$Insertion loss (dB)$')\n",
    "        plt.show()\n",
    "        return None\n"
   ]
  },
  {
   "cell_type": "code",
   "execution_count": 3,
   "metadata": {
    "collapsed": false
   },
   "outputs": [],
   "source": [
    "lv = np.linspace(900,1550,20148)"
   ]
  },
  {
   "cell_type": "code",
   "execution_count": 4,
   "metadata": {
    "collapsed": false
   },
   "outputs": [
    {
     "ename": "TypeError",
     "evalue": "__init__() takes 3 positional arguments but 4 were given",
     "output_type": "error",
     "traceback": [
      "\u001b[0;31m---------------------------------------------------------------------------\u001b[0m",
      "\u001b[0;31mTypeError\u001b[0m                                 Traceback (most recent call last)",
      "\u001b[0;32m<ipython-input-4-885d346ec5b2>\u001b[0m in \u001b[0;36m<module>\u001b[0;34m()\u001b[0m\n\u001b[0;32m----> 1\u001b[0;31m \u001b[0mWDM1\u001b[0m \u001b[0;34m=\u001b[0m \u001b[0mWDM\u001b[0m\u001b[0;34m(\u001b[0m\u001b[0;36m1050\u001b[0m\u001b[0;34m,\u001b[0m \u001b[0;36m1200\u001b[0m\u001b[0;34m,\u001b[0m\u001b[0mlv\u001b[0m\u001b[0;34m)\u001b[0m\u001b[0;34m\u001b[0m\u001b[0m\n\u001b[0m\u001b[1;32m      2\u001b[0m \u001b[0mWDM2\u001b[0m \u001b[0;34m=\u001b[0m \u001b[0mWDM\u001b[0m\u001b[0;34m(\u001b[0m\u001b[0;36m1200\u001b[0m\u001b[0;34m,\u001b[0m \u001b[0;36m930\u001b[0m\u001b[0;34m,\u001b[0m\u001b[0mlv\u001b[0m\u001b[0;34m)\u001b[0m\u001b[0;34m\u001b[0m\u001b[0m\n\u001b[1;32m      3\u001b[0m \u001b[0mWDM1\u001b[0m\u001b[0;34m.\u001b[0m\u001b[0mplot_dB\u001b[0m\u001b[0;34m(\u001b[0m\u001b[0mlv\u001b[0m\u001b[0;34m)\u001b[0m\u001b[0;34m\u001b[0m\u001b[0m\n\u001b[1;32m      4\u001b[0m \u001b[0mWDM2\u001b[0m\u001b[0;34m.\u001b[0m\u001b[0mplot_dB\u001b[0m\u001b[0;34m(\u001b[0m\u001b[0mlv\u001b[0m\u001b[0;34m)\u001b[0m\u001b[0;34m\u001b[0m\u001b[0m\n",
      "\u001b[0;31mTypeError\u001b[0m: __init__() takes 3 positional arguments but 4 were given"
     ]
    }
   ],
   "source": [
    "WDM1 = WDM(1050, 1200,lv)\n",
    "WDM2 = WDM(1200, 930,lv)\n",
    "WDM1.plot_dB(lv)\n",
    "WDM2.plot_dB(lv)"
   ]
  },
  {
   "cell_type": "markdown",
   "metadata": {},
   "source": [
    "### Entry 20/10/2016\n",
    "I have allot of data including pdf and movies of the simulating CW through the OPO\n",
    "# wrong"
   ]
  },
  {
   "cell_type": "code",
   "execution_count": null,
   "metadata": {
    "collapsed": true
   },
   "outputs": [],
   "source": [
    "import io\n",
    "import base64\n",
    "from IPython.display import HTML\n",
    "from scipy.constants import c,pi\n",
    "import numpy as np\n",
    "import matplotlib.pyplot as plt\n",
    "def video(fname):\n",
    "    video = io.open(fname, 'r+b').read()\n",
    "    encoded = base64.b64encode(video)\n",
    "    return HTML(data='''<video alt=\"test\" controls>\n",
    "                    <source src=\"data:video/mp4;base64,{0}\" type=\"video/mp4\" />\n",
    "                 </video>'''.format(encoded.decode('ascii')))"
   ]
  },
  {
   "cell_type": "markdown",
   "metadata": {},
   "source": [
    "[All the oscilator](graphs_for_logs/single_mode_single_dirrection/movies/wavelength_space0.pdf)"
   ]
  },
  {
   "cell_type": "code",
   "execution_count": null,
   "metadata": {
    "collapsed": false
   },
   "outputs": [],
   "source": [
    "video('graphs_for_logs/single_mode_single_dirrection/movies/wavelength_space0.mp4')"
   ]
  },
  {
   "cell_type": "markdown",
   "metadata": {},
   "source": [
    "[Before_PCF](graphs_for_logs/single_mode_single_dirrection/movies/wavelength_space1.pdf)"
   ]
  },
  {
   "cell_type": "code",
   "execution_count": null,
   "metadata": {
    "collapsed": false
   },
   "outputs": [],
   "source": [
    "video('graphs_for_logs/single_mode_single_dirrection/movies/wavelength_space1.mp4')"
   ]
  },
  {
   "cell_type": "markdown",
   "metadata": {},
   "source": [
    "[After_PCF](graphs_for_logs/single_mode_single_dirrection/movies/wavelength_space2.pdf)"
   ]
  },
  {
   "cell_type": "code",
   "execution_count": null,
   "metadata": {
    "collapsed": false
   },
   "outputs": [],
   "source": [
    "video('graphs_for_logs/single_mode_single_dirrection/movies/wavelength_space2.mp4')"
   ]
  },
  {
   "cell_type": "markdown",
   "metadata": {},
   "source": [
    "[After_WDM2](graphs_for_logs/single_mode_single_dirrection/movies/wavelength_space3.pdf)"
   ]
  },
  {
   "cell_type": "code",
   "execution_count": null,
   "metadata": {
    "collapsed": false
   },
   "outputs": [],
   "source": [
    "video('graphs_for_logs/single_mode_single_dirrection/movies/wavelength_space3.mp4')"
   ]
  },
  {
   "cell_type": "markdown",
   "metadata": {},
   "source": [
    "[After_WDM1_before_pump_added](graphs_for_logs/single_mode_single_dirrection/movies/wavelength_space4.pdf)"
   ]
  },
  {
   "cell_type": "code",
   "execution_count": null,
   "metadata": {
    "collapsed": false
   },
   "outputs": [],
   "source": [
    "video('graphs_for_logs/single_mode_single_dirrection/movies/wavelength_space4.mp4')"
   ]
  },
  {
   "cell_type": "markdown",
   "metadata": {},
   "source": [
    "[Exiting wave](graphs_for_logs/single_mode_single_dirrection/movies/wavelength_space5.pdf)"
   ]
  },
  {
   "cell_type": "code",
   "execution_count": null,
   "metadata": {
    "collapsed": false
   },
   "outputs": [],
   "source": [
    "video('graphs_for_logs/single_mode_single_dirrection/movies/wavelength_space5.mp4')"
   ]
  },
  {
   "cell_type": "markdown",
   "metadata": {},
   "source": [
    "### Peters Comments\n",
    "* The delta lines do not seem logical. You need sidebands the same way of MI. Run the simmulation for no WDM's. and see what happens\n",
    "* You cannot go bellow the quantum noise. When the firt input happens you have noise comming in from the WDM1 on the other power this will lead to the noise floor being the noise floor.\n",
    "\n"
   ]
  },
  {
   "cell_type": "markdown",
   "metadata": {
    "collapsed": true
   },
   "source": [
    "### Entry 27/1/2016\n",
    "Have taken a break from this so that to write a presentation for the CDT. Will have to take another break because of the poster the CDT is asking me to do.\n",
    "\n",
    "The specific fibre that we have been looking in to (zlobina) has been measured by them and shown in a paper in 2012 (Ekaterina A. Zlobina, Sergey I. Kablukov, and Sergey A. Babin, \"Phase matching for parametric generation in polarization maintaining photonic crystal fiber pumped by tunable Yb-doped fiber laser,\" J. Opt. Soc. Am. B 29, 1959-1967 (2012) ).\n",
    "Within that she explains that in that fibre $\\beta_2 = 0$ THIS EXPLAINS MY CONFUSION!\n",
    "\n",
    "In the appendix she is kind enough to do the calculations for the phase missmatch up to $\\beta_5$. Along with my inclusion for $\\beta_2$ which she dissregards we have:\n",
    "\n",
    "$$\n",
    "\\Delta \\beta = \\beta(\\omega_p +\\Omega) + \\beta(\\omega_p -\\Omega) - 2\\beta(\\omega)\n",
    "$$\n",
    "\n",
    "And a central freequency $\\omega_0$ we have $\\omega = \\omega_p - \\omega_0$\n",
    "\n",
    "Within the expansion:\n",
    "\n",
    "$\\beta_0, beta_1$ drops out:\n",
    "\n",
    "* $\\beta_2 \\Rightarrow \\beta_2 \\Omega^2$\n",
    "* $\\beta_3 \\Rightarrow \\beta_3 \\omega \\Omega^2$\n",
    "* $\\beta_4 \\Rightarrow \\frac{\\beta_4}{12} \\Omega^2\\left(\\omega^2  + \\Omega^2 \\right)$\n",
    "* $\\beta_5 \\Rightarrow \\frac{\\beta_5}{12} \\Omega^2 \\omega\\left(2\\omega^3  + \\Omega^2 \\right)$\n",
    "\n",
    "\n",
    "\n",
    "So \n",
    "$$\n",
    "\\Delta \\beta (\\Omega) = \\Omega \\left[\\left(\\frac{\\beta_4}{12} + \\omega \\frac{\\beta_5}{12} \\right) \\Omega^{3} + \\left(\\beta_2+ \\omega \\beta_3 + \\omega^{2}\\frac{\\beta_4}{2} + \\omega^{3} \\frac{\\beta_5}{6}\\right) \\Omega \\right]\n",
    "$$\n",
    "\n",
    "\n",
    "From the agrawal (no pump depletion), which we can assume in these cases since the fibre is not that long. Pase matching occurs when:\n",
    "\n",
    "\n",
    "$$\n",
    "\\Delta \\beta ^{'} = \\Delta \\beta + 2 \\gamma P_{0} = 0 \n",
    "$$\n",
    "\n",
    "Then with \n",
    "\n",
    "$$\n",
    "a = \\frac{\\beta_4}{12} + \\omega \\frac{\\beta_5}{12}\n",
    "$$\n",
    "\n",
    "$$\n",
    "b = \\beta_2+ \\omega \\beta_3 + \\omega^{2}\\frac{\\beta_4}{2} + \\omega^{3} \\frac{\\beta_5}{6}\n",
    "$$\n",
    "\n",
    "and \n",
    "\n",
    "$$\n",
    "c = 2 \\gamma P_{0}\n",
    "$$\n",
    "\n",
    "Phase matching will occur at:\n",
    "\n",
    "$$\n",
    "\\Omega = \\sqrt{\\frac{-b \\pm \\sqrt{b^2 - 4 a c}}{2a}}\n",
    "$$\n",
    "\n",
    ", with omega real and possitive.\n",
    "\n",
    "HOWEVER remember difference in $\\omega$ does not mean difference in $\\lambda$.\n",
    "\n",
    "\n",
    "The parametric $\\lambda's$ are found by:\n",
    "\n",
    "$$\\lambda_s = \\lambda_p + \\frac{\\Omega \\lambda^2_p}{(2\\pi c - \\Omega \\lambda_p)}$$\n",
    "\n",
    "$$\\lambda_i = \\lambda_p + \\frac{\\Omega \\lambda^2_p}{(-2\\pi c - \\Omega \\lambda_p)}$$"
   ]
  },
  {
   "cell_type": "code",
   "execution_count": 15,
   "metadata": {
    "collapsed": false
   },
   "outputs": [
    {
     "name": "stdout",
     "output_type": "stream",
     "text": [
      "Warning: Cannot change to a different GUI toolkit: qt. Using notebook instead.\n"
     ]
    }
   ],
   "source": [
    "%matplotlib qt"
   ]
  },
  {
   "cell_type": "code",
   "execution_count": 16,
   "metadata": {
    "collapsed": true
   },
   "outputs": [],
   "source": [
    "def betas_transf(betas, lamdap,lamdac):\n",
    "    omegap = 2* pi * c / lamdap\n",
    "    omegac = 2 * pi * c /lamdac\n",
    "    betap = np.zeros(np.shape(betas))\n",
    "    for i,b in enumerate(betas):\n",
    "        if i == 1000:\n",
    "            betap[i] = betas[i]\n",
    "        else:\n",
    "            temp = 0\n",
    "            fact_count = 0\n",
    "            for j in range(i, len(betas)):\n",
    "                #print(i, betas[j], fact_count)\n",
    "                temp += factorial(fact_count)*betas[j] * (omegap - omegac)**fact_count\n",
    "                fact_count +=1\n",
    "            betap[i] = temp\n",
    "    return betap"
   ]
  },
  {
   "cell_type": "code",
   "execution_count": 17,
   "metadata": {
    "collapsed": false
   },
   "outputs": [
    {
     "name": "stdout",
     "output_type": "stream",
     "text": [
      "902.393761923\n",
      "913.1083293\n",
      "924.987143421\n",
      "938.440713202\n",
      "954.174450579\n",
      "973.577551567\n",
      "999.767722465\n",
      "1028.25422045\n",
      "1038.19180723\n",
      "1042.4010584\n"
     ]
    },
    {
     "data": {
      "application/javascript": [
       "/* Put everything inside the global mpl namespace */\n",
       "window.mpl = {};\n",
       "\n",
       "mpl.get_websocket_type = function() {\n",
       "    if (typeof(WebSocket) !== 'undefined') {\n",
       "        return WebSocket;\n",
       "    } else if (typeof(MozWebSocket) !== 'undefined') {\n",
       "        return MozWebSocket;\n",
       "    } else {\n",
       "        alert('Your browser does not have WebSocket support.' +\n",
       "              'Please try Chrome, Safari or Firefox ≥ 6. ' +\n",
       "              'Firefox 4 and 5 are also supported but you ' +\n",
       "              'have to enable WebSockets in about:config.');\n",
       "    };\n",
       "}\n",
       "\n",
       "mpl.figure = function(figure_id, websocket, ondownload, parent_element) {\n",
       "    this.id = figure_id;\n",
       "\n",
       "    this.ws = websocket;\n",
       "\n",
       "    this.supports_binary = (this.ws.binaryType != undefined);\n",
       "\n",
       "    if (!this.supports_binary) {\n",
       "        var warnings = document.getElementById(\"mpl-warnings\");\n",
       "        if (warnings) {\n",
       "            warnings.style.display = 'block';\n",
       "            warnings.textContent = (\n",
       "                \"This browser does not support binary websocket messages. \" +\n",
       "                    \"Performance may be slow.\");\n",
       "        }\n",
       "    }\n",
       "\n",
       "    this.imageObj = new Image();\n",
       "\n",
       "    this.context = undefined;\n",
       "    this.message = undefined;\n",
       "    this.canvas = undefined;\n",
       "    this.rubberband_canvas = undefined;\n",
       "    this.rubberband_context = undefined;\n",
       "    this.format_dropdown = undefined;\n",
       "\n",
       "    this.image_mode = 'full';\n",
       "\n",
       "    this.root = $('<div/>');\n",
       "    this._root_extra_style(this.root)\n",
       "    this.root.attr('style', 'display: inline-block');\n",
       "\n",
       "    $(parent_element).append(this.root);\n",
       "\n",
       "    this._init_header(this);\n",
       "    this._init_canvas(this);\n",
       "    this._init_toolbar(this);\n",
       "\n",
       "    var fig = this;\n",
       "\n",
       "    this.waiting = false;\n",
       "\n",
       "    this.ws.onopen =  function () {\n",
       "            fig.send_message(\"supports_binary\", {value: fig.supports_binary});\n",
       "            fig.send_message(\"send_image_mode\", {});\n",
       "            fig.send_message(\"refresh\", {});\n",
       "        }\n",
       "\n",
       "    this.imageObj.onload = function() {\n",
       "            if (fig.image_mode == 'full') {\n",
       "                // Full images could contain transparency (where diff images\n",
       "                // almost always do), so we need to clear the canvas so that\n",
       "                // there is no ghosting.\n",
       "                fig.context.clearRect(0, 0, fig.canvas.width, fig.canvas.height);\n",
       "            }\n",
       "            fig.context.drawImage(fig.imageObj, 0, 0);\n",
       "        };\n",
       "\n",
       "    this.imageObj.onunload = function() {\n",
       "        this.ws.close();\n",
       "    }\n",
       "\n",
       "    this.ws.onmessage = this._make_on_message_function(this);\n",
       "\n",
       "    this.ondownload = ondownload;\n",
       "}\n",
       "\n",
       "mpl.figure.prototype._init_header = function() {\n",
       "    var titlebar = $(\n",
       "        '<div class=\"ui-dialog-titlebar ui-widget-header ui-corner-all ' +\n",
       "        'ui-helper-clearfix\"/>');\n",
       "    var titletext = $(\n",
       "        '<div class=\"ui-dialog-title\" style=\"width: 100%; ' +\n",
       "        'text-align: center; padding: 3px;\"/>');\n",
       "    titlebar.append(titletext)\n",
       "    this.root.append(titlebar);\n",
       "    this.header = titletext[0];\n",
       "}\n",
       "\n",
       "\n",
       "\n",
       "mpl.figure.prototype._canvas_extra_style = function(canvas_div) {\n",
       "\n",
       "}\n",
       "\n",
       "\n",
       "mpl.figure.prototype._root_extra_style = function(canvas_div) {\n",
       "\n",
       "}\n",
       "\n",
       "mpl.figure.prototype._init_canvas = function() {\n",
       "    var fig = this;\n",
       "\n",
       "    var canvas_div = $('<div/>');\n",
       "\n",
       "    canvas_div.attr('style', 'position: relative; clear: both; outline: 0');\n",
       "\n",
       "    function canvas_keyboard_event(event) {\n",
       "        return fig.key_event(event, event['data']);\n",
       "    }\n",
       "\n",
       "    canvas_div.keydown('key_press', canvas_keyboard_event);\n",
       "    canvas_div.keyup('key_release', canvas_keyboard_event);\n",
       "    this.canvas_div = canvas_div\n",
       "    this._canvas_extra_style(canvas_div)\n",
       "    this.root.append(canvas_div);\n",
       "\n",
       "    var canvas = $('<canvas/>');\n",
       "    canvas.addClass('mpl-canvas');\n",
       "    canvas.attr('style', \"left: 0; top: 0; z-index: 0; outline: 0\")\n",
       "\n",
       "    this.canvas = canvas[0];\n",
       "    this.context = canvas[0].getContext(\"2d\");\n",
       "\n",
       "    var rubberband = $('<canvas/>');\n",
       "    rubberband.attr('style', \"position: absolute; left: 0; top: 0; z-index: 1;\")\n",
       "\n",
       "    var pass_mouse_events = true;\n",
       "\n",
       "    canvas_div.resizable({\n",
       "        start: function(event, ui) {\n",
       "            pass_mouse_events = false;\n",
       "        },\n",
       "        resize: function(event, ui) {\n",
       "            fig.request_resize(ui.size.width, ui.size.height);\n",
       "        },\n",
       "        stop: function(event, ui) {\n",
       "            pass_mouse_events = true;\n",
       "            fig.request_resize(ui.size.width, ui.size.height);\n",
       "        },\n",
       "    });\n",
       "\n",
       "    function mouse_event_fn(event) {\n",
       "        if (pass_mouse_events)\n",
       "            return fig.mouse_event(event, event['data']);\n",
       "    }\n",
       "\n",
       "    rubberband.mousedown('button_press', mouse_event_fn);\n",
       "    rubberband.mouseup('button_release', mouse_event_fn);\n",
       "    // Throttle sequential mouse events to 1 every 20ms.\n",
       "    rubberband.mousemove('motion_notify', mouse_event_fn);\n",
       "\n",
       "    rubberband.mouseenter('figure_enter', mouse_event_fn);\n",
       "    rubberband.mouseleave('figure_leave', mouse_event_fn);\n",
       "\n",
       "    canvas_div.on(\"wheel\", function (event) {\n",
       "        event = event.originalEvent;\n",
       "        event['data'] = 'scroll'\n",
       "        if (event.deltaY < 0) {\n",
       "            event.step = 1;\n",
       "        } else {\n",
       "            event.step = -1;\n",
       "        }\n",
       "        mouse_event_fn(event);\n",
       "    });\n",
       "\n",
       "    canvas_div.append(canvas);\n",
       "    canvas_div.append(rubberband);\n",
       "\n",
       "    this.rubberband = rubberband;\n",
       "    this.rubberband_canvas = rubberband[0];\n",
       "    this.rubberband_context = rubberband[0].getContext(\"2d\");\n",
       "    this.rubberband_context.strokeStyle = \"#000000\";\n",
       "\n",
       "    this._resize_canvas = function(width, height) {\n",
       "        // Keep the size of the canvas, canvas container, and rubber band\n",
       "        // canvas in synch.\n",
       "        canvas_div.css('width', width)\n",
       "        canvas_div.css('height', height)\n",
       "\n",
       "        canvas.attr('width', width);\n",
       "        canvas.attr('height', height);\n",
       "\n",
       "        rubberband.attr('width', width);\n",
       "        rubberband.attr('height', height);\n",
       "    }\n",
       "\n",
       "    // Set the figure to an initial 600x600px, this will subsequently be updated\n",
       "    // upon first draw.\n",
       "    this._resize_canvas(600, 600);\n",
       "\n",
       "    // Disable right mouse context menu.\n",
       "    $(this.rubberband_canvas).bind(\"contextmenu\",function(e){\n",
       "        return false;\n",
       "    });\n",
       "\n",
       "    function set_focus () {\n",
       "        canvas.focus();\n",
       "        canvas_div.focus();\n",
       "    }\n",
       "\n",
       "    window.setTimeout(set_focus, 100);\n",
       "}\n",
       "\n",
       "mpl.figure.prototype._init_toolbar = function() {\n",
       "    var fig = this;\n",
       "\n",
       "    var nav_element = $('<div/>')\n",
       "    nav_element.attr('style', 'width: 100%');\n",
       "    this.root.append(nav_element);\n",
       "\n",
       "    // Define a callback function for later on.\n",
       "    function toolbar_event(event) {\n",
       "        return fig.toolbar_button_onclick(event['data']);\n",
       "    }\n",
       "    function toolbar_mouse_event(event) {\n",
       "        return fig.toolbar_button_onmouseover(event['data']);\n",
       "    }\n",
       "\n",
       "    for(var toolbar_ind in mpl.toolbar_items) {\n",
       "        var name = mpl.toolbar_items[toolbar_ind][0];\n",
       "        var tooltip = mpl.toolbar_items[toolbar_ind][1];\n",
       "        var image = mpl.toolbar_items[toolbar_ind][2];\n",
       "        var method_name = mpl.toolbar_items[toolbar_ind][3];\n",
       "\n",
       "        if (!name) {\n",
       "            // put a spacer in here.\n",
       "            continue;\n",
       "        }\n",
       "        var button = $('<button/>');\n",
       "        button.addClass('ui-button ui-widget ui-state-default ui-corner-all ' +\n",
       "                        'ui-button-icon-only');\n",
       "        button.attr('role', 'button');\n",
       "        button.attr('aria-disabled', 'false');\n",
       "        button.click(method_name, toolbar_event);\n",
       "        button.mouseover(tooltip, toolbar_mouse_event);\n",
       "\n",
       "        var icon_img = $('<span/>');\n",
       "        icon_img.addClass('ui-button-icon-primary ui-icon');\n",
       "        icon_img.addClass(image);\n",
       "        icon_img.addClass('ui-corner-all');\n",
       "\n",
       "        var tooltip_span = $('<span/>');\n",
       "        tooltip_span.addClass('ui-button-text');\n",
       "        tooltip_span.html(tooltip);\n",
       "\n",
       "        button.append(icon_img);\n",
       "        button.append(tooltip_span);\n",
       "\n",
       "        nav_element.append(button);\n",
       "    }\n",
       "\n",
       "    var fmt_picker_span = $('<span/>');\n",
       "\n",
       "    var fmt_picker = $('<select/>');\n",
       "    fmt_picker.addClass('mpl-toolbar-option ui-widget ui-widget-content');\n",
       "    fmt_picker_span.append(fmt_picker);\n",
       "    nav_element.append(fmt_picker_span);\n",
       "    this.format_dropdown = fmt_picker[0];\n",
       "\n",
       "    for (var ind in mpl.extensions) {\n",
       "        var fmt = mpl.extensions[ind];\n",
       "        var option = $(\n",
       "            '<option/>', {selected: fmt === mpl.default_extension}).html(fmt);\n",
       "        fmt_picker.append(option)\n",
       "    }\n",
       "\n",
       "    // Add hover states to the ui-buttons\n",
       "    $( \".ui-button\" ).hover(\n",
       "        function() { $(this).addClass(\"ui-state-hover\");},\n",
       "        function() { $(this).removeClass(\"ui-state-hover\");}\n",
       "    );\n",
       "\n",
       "    var status_bar = $('<span class=\"mpl-message\"/>');\n",
       "    nav_element.append(status_bar);\n",
       "    this.message = status_bar[0];\n",
       "}\n",
       "\n",
       "mpl.figure.prototype.request_resize = function(x_pixels, y_pixels) {\n",
       "    // Request matplotlib to resize the figure. Matplotlib will then trigger a resize in the client,\n",
       "    // which will in turn request a refresh of the image.\n",
       "    this.send_message('resize', {'width': x_pixels, 'height': y_pixels});\n",
       "}\n",
       "\n",
       "mpl.figure.prototype.send_message = function(type, properties) {\n",
       "    properties['type'] = type;\n",
       "    properties['figure_id'] = this.id;\n",
       "    this.ws.send(JSON.stringify(properties));\n",
       "}\n",
       "\n",
       "mpl.figure.prototype.send_draw_message = function() {\n",
       "    if (!this.waiting) {\n",
       "        this.waiting = true;\n",
       "        this.ws.send(JSON.stringify({type: \"draw\", figure_id: this.id}));\n",
       "    }\n",
       "}\n",
       "\n",
       "\n",
       "mpl.figure.prototype.handle_save = function(fig, msg) {\n",
       "    var format_dropdown = fig.format_dropdown;\n",
       "    var format = format_dropdown.options[format_dropdown.selectedIndex].value;\n",
       "    fig.ondownload(fig, format);\n",
       "}\n",
       "\n",
       "\n",
       "mpl.figure.prototype.handle_resize = function(fig, msg) {\n",
       "    var size = msg['size'];\n",
       "    if (size[0] != fig.canvas.width || size[1] != fig.canvas.height) {\n",
       "        fig._resize_canvas(size[0], size[1]);\n",
       "        fig.send_message(\"refresh\", {});\n",
       "    };\n",
       "}\n",
       "\n",
       "mpl.figure.prototype.handle_rubberband = function(fig, msg) {\n",
       "    var x0 = msg['x0'];\n",
       "    var y0 = fig.canvas.height - msg['y0'];\n",
       "    var x1 = msg['x1'];\n",
       "    var y1 = fig.canvas.height - msg['y1'];\n",
       "    x0 = Math.floor(x0) + 0.5;\n",
       "    y0 = Math.floor(y0) + 0.5;\n",
       "    x1 = Math.floor(x1) + 0.5;\n",
       "    y1 = Math.floor(y1) + 0.5;\n",
       "    var min_x = Math.min(x0, x1);\n",
       "    var min_y = Math.min(y0, y1);\n",
       "    var width = Math.abs(x1 - x0);\n",
       "    var height = Math.abs(y1 - y0);\n",
       "\n",
       "    fig.rubberband_context.clearRect(\n",
       "        0, 0, fig.canvas.width, fig.canvas.height);\n",
       "\n",
       "    fig.rubberband_context.strokeRect(min_x, min_y, width, height);\n",
       "}\n",
       "\n",
       "mpl.figure.prototype.handle_figure_label = function(fig, msg) {\n",
       "    // Updates the figure title.\n",
       "    fig.header.textContent = msg['label'];\n",
       "}\n",
       "\n",
       "mpl.figure.prototype.handle_cursor = function(fig, msg) {\n",
       "    var cursor = msg['cursor'];\n",
       "    switch(cursor)\n",
       "    {\n",
       "    case 0:\n",
       "        cursor = 'pointer';\n",
       "        break;\n",
       "    case 1:\n",
       "        cursor = 'default';\n",
       "        break;\n",
       "    case 2:\n",
       "        cursor = 'crosshair';\n",
       "        break;\n",
       "    case 3:\n",
       "        cursor = 'move';\n",
       "        break;\n",
       "    }\n",
       "    fig.rubberband_canvas.style.cursor = cursor;\n",
       "}\n",
       "\n",
       "mpl.figure.prototype.handle_message = function(fig, msg) {\n",
       "    fig.message.textContent = msg['message'];\n",
       "}\n",
       "\n",
       "mpl.figure.prototype.handle_draw = function(fig, msg) {\n",
       "    // Request the server to send over a new figure.\n",
       "    fig.send_draw_message();\n",
       "}\n",
       "\n",
       "mpl.figure.prototype.handle_image_mode = function(fig, msg) {\n",
       "    fig.image_mode = msg['mode'];\n",
       "}\n",
       "\n",
       "mpl.figure.prototype.updated_canvas_event = function() {\n",
       "    // Called whenever the canvas gets updated.\n",
       "    this.send_message(\"ack\", {});\n",
       "}\n",
       "\n",
       "// A function to construct a web socket function for onmessage handling.\n",
       "// Called in the figure constructor.\n",
       "mpl.figure.prototype._make_on_message_function = function(fig) {\n",
       "    return function socket_on_message(evt) {\n",
       "        if (evt.data instanceof Blob) {\n",
       "            /* FIXME: We get \"Resource interpreted as Image but\n",
       "             * transferred with MIME type text/plain:\" errors on\n",
       "             * Chrome.  But how to set the MIME type?  It doesn't seem\n",
       "             * to be part of the websocket stream */\n",
       "            evt.data.type = \"image/png\";\n",
       "\n",
       "            /* Free the memory for the previous frames */\n",
       "            if (fig.imageObj.src) {\n",
       "                (window.URL || window.webkitURL).revokeObjectURL(\n",
       "                    fig.imageObj.src);\n",
       "            }\n",
       "\n",
       "            fig.imageObj.src = (window.URL || window.webkitURL).createObjectURL(\n",
       "                evt.data);\n",
       "            fig.updated_canvas_event();\n",
       "            fig.waiting = false;\n",
       "            return;\n",
       "        }\n",
       "        else if (typeof evt.data === 'string' && evt.data.slice(0, 21) == \"data:image/png;base64\") {\n",
       "            fig.imageObj.src = evt.data;\n",
       "            fig.updated_canvas_event();\n",
       "            fig.waiting = false;\n",
       "            return;\n",
       "        }\n",
       "\n",
       "        var msg = JSON.parse(evt.data);\n",
       "        var msg_type = msg['type'];\n",
       "\n",
       "        // Call the  \"handle_{type}\" callback, which takes\n",
       "        // the figure and JSON message as its only arguments.\n",
       "        try {\n",
       "            var callback = fig[\"handle_\" + msg_type];\n",
       "        } catch (e) {\n",
       "            console.log(\"No handler for the '\" + msg_type + \"' message type: \", msg);\n",
       "            return;\n",
       "        }\n",
       "\n",
       "        if (callback) {\n",
       "            try {\n",
       "                // console.log(\"Handling '\" + msg_type + \"' message: \", msg);\n",
       "                callback(fig, msg);\n",
       "            } catch (e) {\n",
       "                console.log(\"Exception inside the 'handler_\" + msg_type + \"' callback:\", e, e.stack, msg);\n",
       "            }\n",
       "        }\n",
       "    };\n",
       "}\n",
       "\n",
       "// from http://stackoverflow.com/questions/1114465/getting-mouse-location-in-canvas\n",
       "mpl.findpos = function(e) {\n",
       "    //this section is from http://www.quirksmode.org/js/events_properties.html\n",
       "    var targ;\n",
       "    if (!e)\n",
       "        e = window.event;\n",
       "    if (e.target)\n",
       "        targ = e.target;\n",
       "    else if (e.srcElement)\n",
       "        targ = e.srcElement;\n",
       "    if (targ.nodeType == 3) // defeat Safari bug\n",
       "        targ = targ.parentNode;\n",
       "\n",
       "    // jQuery normalizes the pageX and pageY\n",
       "    // pageX,Y are the mouse positions relative to the document\n",
       "    // offset() returns the position of the element relative to the document\n",
       "    var x = e.pageX - $(targ).offset().left;\n",
       "    var y = e.pageY - $(targ).offset().top;\n",
       "\n",
       "    return {\"x\": x, \"y\": y};\n",
       "};\n",
       "\n",
       "/*\n",
       " * return a copy of an object with only non-object keys\n",
       " * we need this to avoid circular references\n",
       " * http://stackoverflow.com/a/24161582/3208463\n",
       " */\n",
       "function simpleKeys (original) {\n",
       "  return Object.keys(original).reduce(function (obj, key) {\n",
       "    if (typeof original[key] !== 'object')\n",
       "        obj[key] = original[key]\n",
       "    return obj;\n",
       "  }, {});\n",
       "}\n",
       "\n",
       "mpl.figure.prototype.mouse_event = function(event, name) {\n",
       "    var canvas_pos = mpl.findpos(event)\n",
       "\n",
       "    if (name === 'button_press')\n",
       "    {\n",
       "        this.canvas.focus();\n",
       "        this.canvas_div.focus();\n",
       "    }\n",
       "\n",
       "    var x = canvas_pos.x;\n",
       "    var y = canvas_pos.y;\n",
       "\n",
       "    this.send_message(name, {x: x, y: y, button: event.button,\n",
       "                             step: event.step,\n",
       "                             guiEvent: simpleKeys(event)});\n",
       "\n",
       "    /* This prevents the web browser from automatically changing to\n",
       "     * the text insertion cursor when the button is pressed.  We want\n",
       "     * to control all of the cursor setting manually through the\n",
       "     * 'cursor' event from matplotlib */\n",
       "    event.preventDefault();\n",
       "    return false;\n",
       "}\n",
       "\n",
       "mpl.figure.prototype._key_event_extra = function(event, name) {\n",
       "    // Handle any extra behaviour associated with a key event\n",
       "}\n",
       "\n",
       "mpl.figure.prototype.key_event = function(event, name) {\n",
       "\n",
       "    // Prevent repeat events\n",
       "    if (name == 'key_press')\n",
       "    {\n",
       "        if (event.which === this._key)\n",
       "            return;\n",
       "        else\n",
       "            this._key = event.which;\n",
       "    }\n",
       "    if (name == 'key_release')\n",
       "        this._key = null;\n",
       "\n",
       "    var value = '';\n",
       "    if (event.ctrlKey && event.which != 17)\n",
       "        value += \"ctrl+\";\n",
       "    if (event.altKey && event.which != 18)\n",
       "        value += \"alt+\";\n",
       "    if (event.shiftKey && event.which != 16)\n",
       "        value += \"shift+\";\n",
       "\n",
       "    value += 'k';\n",
       "    value += event.which.toString();\n",
       "\n",
       "    this._key_event_extra(event, name);\n",
       "\n",
       "    this.send_message(name, {key: value,\n",
       "                             guiEvent: simpleKeys(event)});\n",
       "    return false;\n",
       "}\n",
       "\n",
       "mpl.figure.prototype.toolbar_button_onclick = function(name) {\n",
       "    if (name == 'download') {\n",
       "        this.handle_save(this, null);\n",
       "    } else {\n",
       "        this.send_message(\"toolbar_button\", {name: name});\n",
       "    }\n",
       "};\n",
       "\n",
       "mpl.figure.prototype.toolbar_button_onmouseover = function(tooltip) {\n",
       "    this.message.textContent = tooltip;\n",
       "};\n",
       "mpl.toolbar_items = [[\"Home\", \"Reset original view\", \"fa fa-home icon-home\", \"home\"], [\"Back\", \"Back to  previous view\", \"fa fa-arrow-left icon-arrow-left\", \"back\"], [\"Forward\", \"Forward to next view\", \"fa fa-arrow-right icon-arrow-right\", \"forward\"], [\"\", \"\", \"\", \"\"], [\"Pan\", \"Pan axes with left mouse, zoom with right\", \"fa fa-arrows icon-move\", \"pan\"], [\"Zoom\", \"Zoom to rectangle\", \"fa fa-square-o icon-check-empty\", \"zoom\"], [\"\", \"\", \"\", \"\"], [\"Download\", \"Download plot\", \"fa fa-floppy-o icon-save\", \"download\"]];\n",
       "\n",
       "mpl.extensions = [\"eps\", \"pdf\", \"png\", \"ps\", \"raw\", \"svg\"];\n",
       "\n",
       "mpl.default_extension = \"png\";var comm_websocket_adapter = function(comm) {\n",
       "    // Create a \"websocket\"-like object which calls the given IPython comm\n",
       "    // object with the appropriate methods. Currently this is a non binary\n",
       "    // socket, so there is still some room for performance tuning.\n",
       "    var ws = {};\n",
       "\n",
       "    ws.close = function() {\n",
       "        comm.close()\n",
       "    };\n",
       "    ws.send = function(m) {\n",
       "        //console.log('sending', m);\n",
       "        comm.send(m);\n",
       "    };\n",
       "    // Register the callback with on_msg.\n",
       "    comm.on_msg(function(msg) {\n",
       "        //console.log('receiving', msg['content']['data'], msg);\n",
       "        // Pass the mpl event to the overriden (by mpl) onmessage function.\n",
       "        ws.onmessage(msg['content']['data'])\n",
       "    });\n",
       "    return ws;\n",
       "}\n",
       "\n",
       "mpl.mpl_figure_comm = function(comm, msg) {\n",
       "    // This is the function which gets called when the mpl process\n",
       "    // starts-up an IPython Comm through the \"matplotlib\" channel.\n",
       "\n",
       "    var id = msg.content.data.id;\n",
       "    // Get hold of the div created by the display call when the Comm\n",
       "    // socket was opened in Python.\n",
       "    var element = $(\"#\" + id);\n",
       "    var ws_proxy = comm_websocket_adapter(comm)\n",
       "\n",
       "    function ondownload(figure, format) {\n",
       "        window.open(figure.imageObj.src);\n",
       "    }\n",
       "\n",
       "    var fig = new mpl.figure(id, ws_proxy,\n",
       "                           ondownload,\n",
       "                           element.get(0));\n",
       "\n",
       "    // Call onopen now - mpl needs it, as it is assuming we've passed it a real\n",
       "    // web socket which is closed, not our websocket->open comm proxy.\n",
       "    ws_proxy.onopen();\n",
       "\n",
       "    fig.parent_element = element.get(0);\n",
       "    fig.cell_info = mpl.find_output_cell(\"<div id='\" + id + \"'></div>\");\n",
       "    if (!fig.cell_info) {\n",
       "        console.error(\"Failed to find cell for figure\", id, fig);\n",
       "        return;\n",
       "    }\n",
       "\n",
       "    var output_index = fig.cell_info[2]\n",
       "    var cell = fig.cell_info[0];\n",
       "\n",
       "};\n",
       "\n",
       "mpl.figure.prototype.handle_close = function(fig, msg) {\n",
       "    fig.root.unbind('remove')\n",
       "\n",
       "    // Update the output cell to use the data from the current canvas.\n",
       "    fig.push_to_output();\n",
       "    var dataURL = fig.canvas.toDataURL();\n",
       "    // Re-enable the keyboard manager in IPython - without this line, in FF,\n",
       "    // the notebook keyboard shortcuts fail.\n",
       "    IPython.keyboard_manager.enable()\n",
       "    $(fig.parent_element).html('<img src=\"' + dataURL + '\">');\n",
       "    fig.close_ws(fig, msg);\n",
       "}\n",
       "\n",
       "mpl.figure.prototype.close_ws = function(fig, msg){\n",
       "    fig.send_message('closing', msg);\n",
       "    // fig.ws.close()\n",
       "}\n",
       "\n",
       "mpl.figure.prototype.push_to_output = function(remove_interactive) {\n",
       "    // Turn the data on the canvas into data in the output cell.\n",
       "    var dataURL = this.canvas.toDataURL();\n",
       "    this.cell_info[1]['text/html'] = '<img src=\"' + dataURL + '\">';\n",
       "}\n",
       "\n",
       "mpl.figure.prototype.updated_canvas_event = function() {\n",
       "    // Tell IPython that the notebook contents must change.\n",
       "    IPython.notebook.set_dirty(true);\n",
       "    this.send_message(\"ack\", {});\n",
       "    var fig = this;\n",
       "    // Wait a second, then push the new image to the DOM so\n",
       "    // that it is saved nicely (might be nice to debounce this).\n",
       "    setTimeout(function () { fig.push_to_output() }, 1000);\n",
       "}\n",
       "\n",
       "mpl.figure.prototype._init_toolbar = function() {\n",
       "    var fig = this;\n",
       "\n",
       "    var nav_element = $('<div/>')\n",
       "    nav_element.attr('style', 'width: 100%');\n",
       "    this.root.append(nav_element);\n",
       "\n",
       "    // Define a callback function for later on.\n",
       "    function toolbar_event(event) {\n",
       "        return fig.toolbar_button_onclick(event['data']);\n",
       "    }\n",
       "    function toolbar_mouse_event(event) {\n",
       "        return fig.toolbar_button_onmouseover(event['data']);\n",
       "    }\n",
       "\n",
       "    for(var toolbar_ind in mpl.toolbar_items){\n",
       "        var name = mpl.toolbar_items[toolbar_ind][0];\n",
       "        var tooltip = mpl.toolbar_items[toolbar_ind][1];\n",
       "        var image = mpl.toolbar_items[toolbar_ind][2];\n",
       "        var method_name = mpl.toolbar_items[toolbar_ind][3];\n",
       "\n",
       "        if (!name) { continue; };\n",
       "\n",
       "        var button = $('<button class=\"btn btn-default\" href=\"#\" title=\"' + name + '\"><i class=\"fa ' + image + ' fa-lg\"></i></button>');\n",
       "        button.click(method_name, toolbar_event);\n",
       "        button.mouseover(tooltip, toolbar_mouse_event);\n",
       "        nav_element.append(button);\n",
       "    }\n",
       "\n",
       "    // Add the status bar.\n",
       "    var status_bar = $('<span class=\"mpl-message\" style=\"text-align:right; float: right;\"/>');\n",
       "    nav_element.append(status_bar);\n",
       "    this.message = status_bar[0];\n",
       "\n",
       "    // Add the close button to the window.\n",
       "    var buttongrp = $('<div class=\"btn-group inline pull-right\"></div>');\n",
       "    var button = $('<button class=\"btn btn-mini btn-primary\" href=\"#\" title=\"Stop Interaction\"><i class=\"fa fa-power-off icon-remove icon-large\"></i></button>');\n",
       "    button.click(function (evt) { fig.handle_close(fig, {}); } );\n",
       "    button.mouseover('Stop Interaction', toolbar_mouse_event);\n",
       "    buttongrp.append(button);\n",
       "    var titlebar = this.root.find($('.ui-dialog-titlebar'));\n",
       "    titlebar.prepend(buttongrp);\n",
       "}\n",
       "\n",
       "mpl.figure.prototype._root_extra_style = function(el){\n",
       "    var fig = this\n",
       "    el.on(\"remove\", function(){\n",
       "\tfig.close_ws(fig, {});\n",
       "    });\n",
       "}\n",
       "\n",
       "mpl.figure.prototype._canvas_extra_style = function(el){\n",
       "    // this is important to make the div 'focusable\n",
       "    el.attr('tabindex', 0)\n",
       "    // reach out to IPython and tell the keyboard manager to turn it's self\n",
       "    // off when our div gets focus\n",
       "\n",
       "    // location in version 3\n",
       "    if (IPython.notebook.keyboard_manager) {\n",
       "        IPython.notebook.keyboard_manager.register_events(el);\n",
       "    }\n",
       "    else {\n",
       "        // location in version 2\n",
       "        IPython.keyboard_manager.register_events(el);\n",
       "    }\n",
       "\n",
       "}\n",
       "\n",
       "mpl.figure.prototype._key_event_extra = function(event, name) {\n",
       "    var manager = IPython.notebook.keyboard_manager;\n",
       "    if (!manager)\n",
       "        manager = IPython.keyboard_manager;\n",
       "\n",
       "    // Check for shift+enter\n",
       "    if (event.shiftKey && event.which == 13) {\n",
       "        this.canvas_div.blur();\n",
       "        // select the cell after this one\n",
       "        var index = IPython.notebook.find_cell_index(this.cell_info[0]);\n",
       "        IPython.notebook.select(index + 1);\n",
       "    }\n",
       "}\n",
       "\n",
       "mpl.figure.prototype.handle_save = function(fig, msg) {\n",
       "    fig.ondownload(fig, null);\n",
       "}\n",
       "\n",
       "\n",
       "mpl.find_output_cell = function(html_output) {\n",
       "    // Return the cell and output element which can be found *uniquely* in the notebook.\n",
       "    // Note - this is a bit hacky, but it is done because the \"notebook_saving.Notebook\"\n",
       "    // IPython event is triggered only after the cells have been serialised, which for\n",
       "    // our purposes (turning an active figure into a static one), is too late.\n",
       "    var cells = IPython.notebook.get_cells();\n",
       "    var ncells = cells.length;\n",
       "    for (var i=0; i<ncells; i++) {\n",
       "        var cell = cells[i];\n",
       "        if (cell.cell_type === 'code'){\n",
       "            for (var j=0; j<cell.output_area.outputs.length; j++) {\n",
       "                var data = cell.output_area.outputs[j];\n",
       "                if (data.data) {\n",
       "                    // IPython >= 3 moved mimebundle to data attribute of output\n",
       "                    data = data.data;\n",
       "                }\n",
       "                if (data['text/html'] == html_output) {\n",
       "                    return [cell, data, j];\n",
       "                }\n",
       "            }\n",
       "        }\n",
       "    }\n",
       "}\n",
       "\n",
       "// Register the function which deals with the matplotlib target/channel.\n",
       "// The kernel may be null if the page has been refreshed.\n",
       "if (IPython.notebook.kernel != null) {\n",
       "    IPython.notebook.kernel.comm_manager.register_target('matplotlib', mpl.mpl_figure_comm);\n",
       "}\n"
      ],
      "text/plain": [
       "<IPython.core.display.Javascript object>"
      ]
     },
     "metadata": {},
     "output_type": "display_data"
    },
    {
     "data": {
      "text/html": [
       "<img src=\"data:image/png;base64,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\">"
      ],
      "text/plain": [
       "<IPython.core.display.HTML object>"
      ]
     },
     "metadata": {},
     "output_type": "display_data"
    },
    {
     "name": "stdout",
     "output_type": "stream",
     "text": [
      "The asked for pump wavelength  1048.8816316376192 nm results in hits of: 938.440713202 nm idler and: 1188.23225861 nm signal.\n"
     ]
    }
   ],
   "source": [
    "import sys\n",
    "from scipy.constants import c,pi\n",
    "import numpy as np\n",
    "from math import factorial\n",
    "import matplotlib.pyplot as plt\n",
    "\n",
    "def domega(omegap,omega0,beta,gama, P0):\n",
    "    omega = omegap - omega0\n",
    "    a = beta[4]/12 #$+ omega * beta[5]/12\n",
    "    b = beta[2]#+ omega*beta[3] +omega**2 * beta[4]/2 + omega**3 * beta[5]/6\n",
    "    c = 2 * gama * P0\n",
    "    \n",
    "    det = b**2 - 4 * a * c\n",
    "    if det >= 0:\n",
    "        Omega = (-b + det**0.5)/(2*a)\n",
    "        \n",
    "        if Omega <0:\n",
    "            Omega = (-b - det**0.5)/(2*a)\n",
    "        if Omega <0:\n",
    "            print(\"No real solution!\")\n",
    "            sys.exit(\"No real solution!\")\n",
    "        else:\n",
    "            #print(Omega)\n",
    "            return Omega**0.5\n",
    "                \n",
    "\n",
    "    else:\n",
    "        print(' No real sollution in the det', det)\n",
    "        sys.exit(' No real sollution in the det', det)\n",
    "\n",
    "    return 1\n",
    "\n",
    "def dlamda_sig(Omega,lamdap):\n",
    "    return Omega * lamdap**2 / (2* pi* c - Omega * lamdap)*1e9\n",
    "\n",
    "def dlamda_idl(Omega,lamdap):\n",
    "    return Omega * lamdap**2 / (-2* pi* c - Omega * lamdap)*1e9\n",
    "\n",
    "N = 2**20\n",
    "beta0 = 0\n",
    "beta1 = 0\n",
    "beta2 = 0\n",
    "beta3 = 6.755e-2 *(1e-12)**3*1e-3\n",
    "beta4 = -1.001e-4 * (1e-12)**4*1e-3\n",
    "beta5 = 3.675*1e-7*(1e-12)**5*1e-3\n",
    "betas_or = [beta0,beta1,beta2,beta3,beta4,beta5]\n",
    "lamda_fast, lamda_slow = 1052.95e-9, 1051.85e-9\n",
    "lamda0 =  lamda_slow\n",
    "lamdap_const = 1.0488816316376193e-06\n",
    "\n",
    "lamdaps = np.linspace(1046e-9,1054e-9,10)\n",
    "lamdaps = np.ndarray.tolist(lamdaps)\n",
    "lami = []\n",
    "lams = []\n",
    "for lamdap in lamdaps:\n",
    "    betas = betas_transf(betas_or, lamdap,lamda0)\n",
    "    Omega  = domega(2*pi *c /lamdap,2*pi *c /lamda0,betas,10*1e-3,5.)\n",
    "    dlamda_s= dlamda_sig(Omega,lamdap)\n",
    "    dlamda_i =dlamda_idl(Omega,lamdap)\n",
    "    print(lamdap*1e9 + dlamda_i)\n",
    "    lami.append(lamdap*1e9 + dlamda_i)\n",
    "    lams.append(lamdap*1e9 + dlamda_s)\n",
    "lamdaps = [i*1e9 for i in lamdaps]\n",
    "\n",
    "loc = np.argsort(np.abs(np.asanyarray(lamdaps) - lamdap_const*1e9))[0] # location of the lamda0\n",
    "\n",
    "plt.plot(lamdaps,lami, label='idler')\n",
    "plt.plot(lamdaps,lams, label='signal')\n",
    "#plt.plot(A[:,0],A[:,1], label='mmgnlse')\n",
    "#plt.plot((lamda_fast*1e9,lamda_fast*1e9),(900,1250), label='fast zer disp')\n",
    "#plt.plot((lamda_slow*1e9,lamda_slow*1e9),(900,1250), label='slow zer disp')\n",
    "plt.plot((lamdap_const*1e9,lamdap_const*1e9),(900,1250), label='asked_for_wavelength')\n",
    "\n",
    "plt.gca().get_yaxis().get_major_formatter().set_useOffset(False)\n",
    "plt.gca().get_xaxis().get_major_formatter().set_useOffset(False)\n",
    "plt.ylabel('Parametric wavelength (nm)')\n",
    "plt.ylim([900,1250])\n",
    "plt.legend(loc=1)\n",
    "plt.xlabel('Pump wavelength (nm)')\n",
    "#plt.show()\n",
    "#plt.close('all')\n",
    "plt.show()\n",
    "print(\"The asked for pump wavelength \", lamdap_const*1e9,\"nm results in hits of:\",lami[loc] ,\"nm idler and:\",lams[loc],\"nm signal.\",)"
   ]
  },
  {
   "cell_type": "code",
   "execution_count": 13,
   "metadata": {
    "collapsed": false
   },
   "outputs": [],
   "source": [
    "def find_lami(lamdap, lamda0, betas, gama, P0,lamdai_asked,betas_or):\n",
    "    betas = betas_transf(betas_or, lamdap,lamda0)\n",
    "    Omega  = domega(2 * pi * c / lamdap, 2 * pi *c / lamda0, betas, gama, P0)\n",
    "    #dlamda_s= dlamda_sig(Omega,lamdap)\n",
    "    dlamda_i =dlamda_idl(Omega,lamdap)\n",
    "    print(lamdap,lamdap*1e9 + dlamda_i - lamdai_asked)\n",
    "    return lamdap*1e9 + dlamda_i - lamdai_asked"
   ]
  },
  {
   "cell_type": "code",
   "execution_count": 5,
   "metadata": {
    "collapsed": false
   },
   "outputs": [],
   "source": [
    "from scipy.optimize import fsolve"
   ]
  },
  {
   "cell_type": "code",
   "execution_count": 24,
   "metadata": {
    "collapsed": false
   },
   "outputs": [
    {
     "name": "stdout",
     "output_type": "stream",
     "text": [
      "[  1.04888163e-06] [ -2.27373675e-13]\n",
      "[  1.04888163e-06] [ -2.27373675e-13]\n",
      "[  1.04888163e-06] [ -2.27373675e-13]\n",
      "[  1.04888165e-06] [ 0.00026386]\n",
      "[  1.04888163e-06] [ -2.27373675e-13]\n"
     ]
    }
   ],
   "source": [
    "a = fsolve(find_lami,lamdap_const, args = (lamda0, betas, 10e-3, 5,942,betas_or),xtol=1.49012e-12,factor =0.1 )"
   ]
  },
  {
   "cell_type": "code",
   "execution_count": 27,
   "metadata": {
    "collapsed": false
   },
   "outputs": [
    {
     "data": {
      "text/plain": [
       "1.0488816316376193e-06"
      ]
     },
     "execution_count": 27,
     "metadata": {},
     "output_type": "execute_result"
    }
   ],
   "source": [
    "a[0]"
   ]
  },
  {
   "cell_type": "markdown",
   "metadata": {},
   "source": [
    "### Entry 9/11/2016\n",
    "    The code now finds the sidebands as shown above when run for only one dirrection. The accuracy of the integration needs to be very high to get themn unfortunately yet some speedup has been achieved by mklfft."
   ]
  },
  {
   "cell_type": "markdown",
   "metadata": {
    "collapsed": true
   },
   "source": [
    "### Entry 14/11/2016\n",
    "    Excelents. 10 tests are passing whcih all have to do with the pulse propagation within the fibre. However the WDM systems seem to have a problem. \n",
    "    \n",
    "The insetion loss is found by [Reference to the lecture I found]:\n",
    "    $$ IL = 10 log \\left(\\frac{P_{in}}{P_{out}}\\right)$$ \n",
    "    \n",
    "But in my definition it is the output over the input hence:\n",
    "        $$ IL = 10 log \\left(\\frac{P_{out}}{P_{in}}\\right)$$ \n"
   ]
  },
  {
   "cell_type": "markdown",
   "metadata": {
    "collapsed": true
   },
   "source": [
    "### Entry 15/11/2016\n",
    "Peter has said that technically the way I have modeled the WDM system is wrong. This is because the insertion loss above is the one for powers when U in the code is square root of power in arbitary units.\n",
    "\n",
    "Taking in to account the figure:\n",
    "\n",
    "<img src=\"graphs_for_logs/single_mode_single_dirrection/WDM_model.png\">.\n",
    "\n",
    "\n",
    "\n"
   ]
  },
  {
   "cell_type": "markdown",
   "metadata": {},
   "source": [
    "The matrix that can represent the system is shown:\n",
    "\n",
    "$$\\begin{bmatrix}\n",
    "    U^{1}_{out}         \\\\\n",
    "    U^{2}_{out}      \n",
    "\\end{bmatrix} =\n",
    "\\begin{bmatrix}\n",
    "    cos(f(\\lambda))       & sin(f(\\lambda)) \\\\\n",
    "    -sin(f(\\lambda))       &  cos(f(\\lambda)) \n",
    "\\end{bmatrix}\\begin{bmatrix}\n",
    "    U^{1}_{in} \\\\\n",
    "    U^{2}_{in}      \n",
    "\\end{bmatrix}\n",
    "$$"
   ]
  },
  {
   "cell_type": "markdown",
   "metadata": {},
   "source": [
    "The extra input should be noise. In both cases the WDM needs to have 2 outputs and two inputs."
   ]
  },
  {
   "cell_type": "markdown",
   "metadata": {
    "collapsed": true
   },
   "source": [
    "### Entry From a.u. to dBm/nm\n",
    "\n",
    "$$\n",
    "E(j) = \\int_{0}^{T} \\left|u(t)\\right|^{2} dt = \\int \\left|U(\\omega)\\right|^{2} d\\omega = \\int \\left|U(\\lambda)\\right|^{2} d\\lambda \n",
    "$$\n",
    "\n",
    "So \n",
    "$$\n",
    "P = \\frac{E(\\lambda)}{T} = \\int \\frac{\\left|U(\\lambda)\\right|^2}{T} d \\lambda \n",
    "$$"
   ]
  },
  {
   "cell_type": "markdown",
   "metadata": {},
   "source": [
    "### ENtry 22/11/2016\n",
    "Working on three pillars of the code. Needs to work by Friday \n",
    "* Introduce freequency based attenuation on the sides to eliminate the periodic FWM \n",
    "* Write a test for a.u. to dBm/nm and then use it in the equation\n",
    "* add attenuation on the WDM systems themselves. \n",
    "\n",
    "From which:\n",
    "* done and tested\n",
    "* done and tested\n",
    "* Not needed\n",
    "\n",
    "# After that I should consider what to run this model on that would reduce to a 2 page abstract for CLEO. \n"
   ]
  },
  {
   "cell_type": "markdown",
   "metadata": {
    "collapsed": true
   },
   "source": [
    "# Entry 25/11/2016 Meeting\n",
    "\n",
    "Dave Richardson would like somethng in the 2000nm conversion. This can be done. \n",
    "\n",
    "\n",
    "Continue working on the program. Tests it etc And think of Novel things for CLEO USA."
   ]
  },
  {
   "cell_type": "markdown",
   "metadata": {
    "collapsed": true
   },
   "source": [
    "### Entry 30/11/2015\n",
    "I have written/tested and virigously changed the code to an acceptable result. I use hdf5 to export my data and export ALLOT of it. Next immediate thing is to looka t why the idler has a kink when the signal does not (the soliton hypothesis).\n",
    "\n"
   ]
  },
  {
   "cell_type": "markdown",
   "metadata": {
    "collapsed": true
   },
   "source": [
    "# The soliton hypothesis\n",
    "In order to get a soliton we will need a soliton umber being an intiger. With the soliton number being:\n",
    "\n",
    "\n",
    "$$ N = \\sqrt{\\frac{\\gamma P T^2}{\\left|\\beta_{2}\\right|}} = \\sqrt{\\frac{L_{D}}{L_{NL}}} $$\n",
    "\n",
    "Out of this we know gamma and $\\beta_2 = \\beta_3 \\left( \\omega_p - \\omega_0\\right) +\\frac{\\beta_4}{2} \\left(\\omega_p - \\omega_0\\right)^2$."
   ]
  },
  {
   "cell_type": "code",
   "execution_count": null,
   "metadata": {
    "collapsed": true
   },
   "outputs": [],
   "source": [
    "from scipy.constants import c,pi\n",
    "def beta2_func(lamdap):\n",
    "    omegap = 2*pi*c/lamdap\n",
    "    omega0 = 2*pi*c/1051.85e-9\n",
    "    beta3 = 6.755e-2 *(1e-12)**3*1e-3\n",
    "    beta4 = -1.001e-4 * (1e-12)**4*1e-3\n",
    "    beta2 = (omegap - omega0)*beta3 + 0.5*beta4 * (omegap + omega0)**2\n",
    "    return beta2"
   ]
  },
  {
   "cell_type": "code",
   "execution_count": null,
   "metadata": {
    "collapsed": false
   },
   "outputs": [],
   "source": [
    "beta2 = beta2_func(1047.5e-9)\n",
    "gamma = 10*1e-3\n",
    "T = 2.4e-12\n",
    "P = 12\n",
    "N = (gamma*P*T**2/(-1*beta2))**0.5\n",
    "print(N)"
   ]
  },
  {
   "cell_type": "markdown",
   "metadata": {
    "collapsed": true
   },
   "source": [
    "# Entry 2/12/2016\n",
    "### So it turns out there is no Soliton. \n",
    "Proof in:\n",
    "[No soliton!](graphs_for_logs/single_mode_single_dirrection/Post+processing+specific.pdf)"
   ]
  },
  {
   "cell_type": "markdown",
   "metadata": {
    "collapsed": true
   },
   "source": [
    "# Entry 3/12/2016\n",
    "So since there is no real result from the soliton story we look in to others. Peter has said top do:\n",
    "1. Play with pump wavelength (kind of done in the paper itself)\n",
    "2. Play with pump power (how much power is to much power?\n",
    "3. Integrate idler area for the **conversion efficiency**\n",
    "4. Seed\n",
    "    1. change power\n",
    "    2. change wavelength\n",
    "    3. see the amount of noise that is at the output\n",
    "5. Pulses"
   ]
  },
  {
   "cell_type": "markdown",
   "metadata": {},
   "source": [
    "Answers to these ideas:\n",
    "1. done that. not much to give\n",
    "2. Pump power. There seems to be a threshold at which the maximum gain is heard. [reference OPO theory book] **useless to look at powers** this shows in my result\n",
    "3. Integrate really? Nee dto think about this\n",
    "4. \n",
    "\n"
   ]
  },
  {
   "cell_type": "markdown",
   "metadata": {
    "collapsed": true
   },
   "source": [
    "### Entry 8/11/2016 On conversion efficiency\n",
    "\n",
    "In order to calculate the conversion efficiency one needs to find the power of the idler. \n",
    "\n",
    "But since the idler will move according to things like power, wavelength or if you seed we require a computational definition that wilkl be good for all.\n",
    "\n",
    "**Idler definition**: \n",
    "\n",
    "At the point of the FOPO reaching a steady state the wavelength of the idler is defined as the wavelgength that has the highest power at shorter wavelengths to thaat of the pump plus an error number. That error number is so that the amplified noise around the pump wavelength can be dissregarded. \n",
    "\n",
    "Note 1: This can also apply to the signal but in longer wavelengths.\n",
    "\n",
    "Note 2: consider thhat you seed the FOPO. But the idler is not what you would expect from the seed. The idler is still the one that has the highest power regadless. \n",
    "\n",
    "\n",
    "** conversion efficiency**:\n",
    "By conversion efficiiency I call the conversion efficiency of the FOPO ie what set in and what exists the FOPO. Not to be confused with the conversion efficiency of the fibre parametric amplifier. \n",
    "\n",
    "\n",
    "To get the conversion efficiency one needs to find what he will consider as the idler power. \n",
    "My default definition to this is:\n",
    "\n",
    "$$ CE = \\frac{P_{out}}{P_{in}}$$ \n",
    "\n",
    "In the case CW $$P_{in} = P_{p} + P_{s}$$ is the pump at the input. \n",
    "\n",
    "The idler pump however is found by:\n",
    "\n",
    "$$ P_{out} = \\frac{\\int^{a}_{b} \\left|U(f)\\right|^2 df}{T}$$\n",
    "\n",
    "where $a$ and $b$ are the limits. I set the limits as default to be : $a,b =  f_{i} +,- 5 $ $ Thz$"
   ]
  },
  {
   "cell_type": "markdown",
   "metadata": {},
   "source": [
    "# Entry meeting 9/12/2016\n",
    "You could also look in to how the steady state is achived. \n",
    "\n",
    "ie a graph of how the power reaches the steady state. "
   ]
  },
  {
   "cell_type": "markdown",
   "metadata": {},
   "source": [
    "# Entry beofre christmas on splice model etc\n",
    "\n",
    "The original splice losses that I had was wrong. My problem was that I was considering the powers and not the electric field. \n",
    "\n",
    "\n",
    "Firstly a little bit about the beam splitter model. \n",
    "We assume a **lossless** beam splitter with two input electric fields ($E_{in1}$,$E_{in2}$)  and two outputs ($E_{out1}$,$E_{out2}$). \n",
    "\n",
    "The output electric field is subject to the input from the matrix equation:\n",
    "\n",
    "$$\\begin{bmatrix}\n",
    "    E^{1}_{out}         \\\\\n",
    "    E^{2}_{out}      \n",
    "\\end{bmatrix} =\n",
    "\\begin{bmatrix}\n",
    "    c_1       & c_2 \\\\\n",
    "    -c_2       &  c_1 \n",
    "\\end{bmatrix}\\begin{bmatrix}\n",
    "    E^{1}_{out} \\\\\n",
    "    E^{2}_{out}      \n",
    "\\end{bmatrix}\n",
    "$$.\n",
    "\n",
    "\n",
    "The first coefficient $c_1$ is found by assuming that no input is comming in to input port 1 and the second comes from equationg that the total energy needs to be conserved:\n",
    " $$\n",
    "  \\left|E^{1}_{out} \\right|^2 + \\left|E^{2}_{out} \\right|^2 = \\left|E^{1}_{in} \\right|^2 + \\left|E^{2}_{in} \\right|^2\n",
    " $$\n",
    ".\n",
    "\n",
    "Now for the splice loss itself. It is simmilar to the WDM model but with the prime exception that it is not freequency dependent. \n",
    "\n",
    "If $L$ is the splice loss in $dB$ then $$L = 10 log \\left(\\frac{P_{out}}{P_{in}}\\right)$$ with $L<0dB$.\n",
    "\n",
    "Hence the power at the output 1 if there is no input at port 2 is:\n",
    "\n",
    "$$\\left|E^{1}_{out} \\right|^2 = P_{out1} = 10^{0.1L} P_{in1}$$\n",
    "\n",
    "and hence one can conclude $$c_{1} = 10^{0.1 L}$$\n",
    ".\n",
    "\n",
    "\n",
    "$c_{2}$ can then be found by using the conservation of energy above and is found to be:\n",
    "$c_{2} = \\pm \\left(1 - 10^{0.1 L} \\right)^{0.5}$\n",
    "\n",
    "\n",
    "**The same principle works on the WDM model**\n"
   ]
  },
  {
   "cell_type": "markdown",
   "metadata": {},
   "source": [
    "# Things to do after christmas on the FOPO system \n",
    "\n",
    "1. Find proof that the NLSE works on the CW regime\n",
    "2. Look at the threshold power needed for our fopo and match it to the FOPO in the paper\n",
    "3. Figure out a concrete way to set a final sollution for the idler. 100 is sometimes to much and others not enough. \n",
    "4. Look at the discrepencies between the idler wavelengths that are coming out in the NLSE and what is actually expected by the basic theory. \n",
    "5. on the lter I used fsolve bove to inverseley clculte the pump wvelgth needed. I seem to be bit off originly, remember to run it."
   ]
  },
  {
   "cell_type": "markdown",
   "metadata": {},
   "source": [
    "# Back after christmas\n",
    "1. So in agrawal when he introduces the modulation instability for CW he talks from the NLSE. This to me is proof enough that it does work \n"
   ]
  },
  {
   "cell_type": "markdown",
   "metadata": {
    "collapsed": true
   },
   "source": [
    "# The marhic power threshold\n",
    "According to Marhic (optical parametric amplifiers, oscilators and related devices) the threshold power of the FOPO is found by: \n",
    "$$\n",
    "P_{th} = \\frac{1}{\\gamma L} arcosh \\left(\\frac{1}{\\sqrt{T}}\\right)\n",
    "$$\n",
    "\n",
    "So I use the FOPO parameters quoted and see bellow"
   ]
  },
  {
   "cell_type": "code",
   "execution_count": 14,
   "metadata": {
    "collapsed": false
   },
   "outputs": [
    {
     "name": "stdout",
     "output_type": "stream",
     "text": [
      " the paper quotes: 3.2720235024 3.56197188739 threshold powers for transmitance of: 0.72 0.68 at wavelengths of 930nm and 940 nm respectively\n"
     ]
    },
    {
     "data": {
      "image/png": "[encoded data removed]",
      "text/plain": [
       "<matplotlib.figure.Figure at 0x7f51de781e10>"
      ]
     },
     "metadata": {},
     "output_type": "display_data"
    }
   ],
   "source": [
    "import numpy as np\n",
    "import matplotlib.pyplot as plt\n",
    "from scipy.optimize import fsolve\n",
    "from math import acosh\n",
    "import matplotlib\n",
    "font = {'family' : 'sans-serif',\n",
    "        'size'   : 22}\n",
    "matplotlib.rc('font', **font)\n",
    "\n",
    "acosh = np.vectorize(acosh)\n",
    "g = 10e-3\n",
    "#g = 0.00092795\n",
    "L = 18\n",
    "T = np.linspace(0.1,1,512)\n",
    "\n",
    "\n",
    "\n",
    "def P_th(T, g , L):\n",
    "    a = (g*L)**(-1)\n",
    "    b = acosh(np.sqrt(T)**(-1))\n",
    "    return a*b\n",
    "\n",
    "P = P_th(T,g,L)\n",
    "print(' the paper quotes:', P_th(0.72,g,L), P_th(0.68,g,L), 'threshold powers for transmitance of:', 0.72, 0.68,'at wavelengths of 930nm and 940 nm respectively')\n",
    "\n",
    "fig = plt.figure(figsize=(20.0, 10.0))\n",
    "plt.plot(T,P)\n",
    "plt.xlabel(r'$T$')\n",
    "plt.ylabel(r'$P_{th}$')\n",
    "plt.show()"
   ]
  },
  {
   "cell_type": "code",
   "execution_count": 15,
   "metadata": {
    "collapsed": true
   },
   "outputs": [],
   "source": [
    "def find_P_th(T, P_find, g, L):\n",
    "    return np.abs(P_th(T, g,L) - P_find)"
   ]
  },
  {
   "cell_type": "markdown",
   "metadata": {},
   "source": [
    "#### The paper quotes theoretical threshold powers at:"
   ]
  },
  {
   "cell_type": "code",
   "execution_count": 16,
   "metadata": {
    "collapsed": false
   },
   "outputs": [
    {
     "name": "stdout",
     "output_type": "stream",
     "text": [
      "Transmittance of 0.716160016284\n"
     ]
    }
   ],
   "source": [
    "a = fsolve(find_P_th, 0.72, args = (3.3, g,L),xtol = 1e-13)\n",
    "print('Transmittance of',a[0])"
   ]
  },
  {
   "cell_type": "code",
   "execution_count": 17,
   "metadata": {
    "collapsed": false,
    "scrolled": true
   },
   "outputs": [
    {
     "name": "stdout",
     "output_type": "stream",
     "text": [
      "Transmittance of 0.674732770867\n"
     ]
    }
   ],
   "source": [
    "a = fsolve(find_P_th, 0.68, args = (3.6, g,L),xtol = 1e-12)\n",
    "print('Transmittance of',a[0])"
   ]
  },
  {
   "cell_type": "markdown",
   "metadata": {},
   "source": [
    "##### While mine finds:\n"
   ]
  },
  {
   "cell_type": "code",
   "execution_count": 18,
   "metadata": {
    "collapsed": false
   },
   "outputs": [
    {
     "name": "stdout",
     "output_type": "stream",
     "text": [
      "Transmittance of 0.426402309857\n"
     ]
    }
   ],
   "source": [
    "a = fsolve(find_P_th, 0.68, args = (5.5, g,L),xtol = 1e-12)\n",
    "print('Transmittance of',a[0])"
   ]
  },
  {
   "cell_type": "markdown",
   "metadata": {},
   "source": [
    "This is very different!!!"
   ]
  },
  {
   "cell_type": "markdown",
   "metadata": {},
   "source": [
    "**Hypothesis**:\n",
    "\n",
    "From the above we can see that the approximate 5.5W that we see as the threshold power in the model can be attributed to high losses in the system. I need to make sure I have the same transmition as the paper quotes that... changes with wavelength. "
   ]
  },
  {
   "cell_type": "markdown",
   "metadata": {
    "collapsed": true
   },
   "source": [
    "# The problem of loss\n",
    "It seems that due to the many splice losses I am expiriencing a larger threshold power. \n",
    "If the dB in loss is found by:\n",
    "\n",
    "$$\n",
    "L = 10 log \\left( \\frac{P_{out}}{P_{in}} \\right)\n",
    "$$\n",
    "\n",
    "Then the Transmitence can be found by:\n",
    "\n",
    "$$\n",
    "T  =  \\frac{P_{out}}{P_{in}} = 10^{\\frac{L}{10}}\n",
    "$$\n",
    "under I will have some python code with examples.\n"
   ]
  },
  {
   "cell_type": "code",
   "execution_count": 6,
   "metadata": {
    "collapsed": true
   },
   "outputs": [],
   "source": [
    "def Trans(L):\n",
    "    return 10 **(L / 10)"
   ]
  },
  {
   "cell_type": "code",
   "execution_count": 7,
   "metadata": {
    "collapsed": false
   },
   "outputs": [],
   "source": [
    "L  = np.linspace(-50, -0.001)"
   ]
  },
  {
   "cell_type": "code",
   "execution_count": 8,
   "metadata": {
    "collapsed": false
   },
   "outputs": [
    {
     "data": {
      "image/png": "[encoded data removed]",
      "text/plain": [
       "<matplotlib.figure.Figure at 0x7f42691b77b8>"
      ]
     },
     "metadata": {},
     "output_type": "display_data"
    }
   ],
   "source": [
    "fig = plt.figure(figsize=(20.0, 10.0))\n",
    "plt.plot(L,Trans(L))\n",
    "plt.xlabel('loss(dB)')\n",
    "plt.ylabel('T')\n",
    "plt.show()"
   ]
  },
  {
   "cell_type": "markdown",
   "metadata": {},
   "source": [
    "#### So I am going to use the losses of both the WDM's and the splice losses"
   ]
  },
  {
   "cell_type": "code",
   "execution_count": 171,
   "metadata": {
    "collapsed": false
   },
   "outputs": [],
   "source": [
    "# Define splice losses\n",
    "l1, l2 = 0.4895,0\n",
    "#l1, l2 = 10,0"
   ]
  },
  {
   "cell_type": "code",
   "execution_count": 172,
   "metadata": {
    "collapsed": true
   },
   "outputs": [],
   "source": [
    "%matplotlib inline"
   ]
  },
  {
   "cell_type": "code",
   "execution_count": 173,
   "metadata": {
    "collapsed": true
   },
   "outputs": [],
   "source": [
    "lv = np.linspace(900, 1300,1024)"
   ]
  },
  {
   "cell_type": "code",
   "execution_count": 174,
   "metadata": {
    "collapsed": false
   },
   "outputs": [],
   "source": [
    "from functions import *\n",
    "WDM1 = WDM(1200, 1050,lv)\n",
    "WDM2 = WDM(930, 1200, lv)\n",
    "WDM3 = WDM(930, 1050,lv)\n",
    "WDM4 = WDM(930, 1200,lv)\n"
   ]
  },
  {
   "cell_type": "code",
   "execution_count": 175,
   "metadata": {
    "collapsed": false
   },
   "outputs": [],
   "source": [
    "def db(x):\n",
    "    return 10*np.log10(x)\n",
    "\n",
    "def wdm_losses(l):\n",
    "    return db(WDM1.il_port2(l)) + db(WDM2.il_port2(l)) + db(WDM3.il_port2(l)) + db(WDM3.il_port2(l))\n",
    "\n",
    "\n",
    "def total_loss(l, l1,l2):\n",
    "    return  -2*l1 + -7*l2 + wdm_losses(l) - 0.021\n",
    "\n",
    "def totalT(l,l1, l2):\n",
    "    return 10**(total_loss(l,l1,l2)/10)"
   ]
  },
  {
   "cell_type": "code",
   "execution_count": 176,
   "metadata": {
    "collapsed": false
   },
   "outputs": [
    {
     "data": {
      "text/plain": [
       "0.51348820845687571"
      ]
     },
     "execution_count": 176,
     "metadata": {},
     "output_type": "execute_result"
    }
   ],
   "source": [
    "wdm_losses(930) - wdm_losses(940) "
   ]
  },
  {
   "cell_type": "code",
   "execution_count": 177,
   "metadata": {
    "collapsed": false
   },
   "outputs": [
    {
     "data": {
      "text/plain": [
       "0.021567553652585225"
      ]
     },
     "execution_count": 177,
     "metadata": {},
     "output_type": "execute_result"
    }
   ],
   "source": [
    "10**(totalT(930,l1, l2)/10) - 10**(totalT(940,l1, l2)/10)"
   ]
  },
  {
   "cell_type": "code",
   "execution_count": 178,
   "metadata": {
    "collapsed": false
   },
   "outputs": [
    {
     "data": {
      "text/plain": [
       "3.2831269865199477"
      ]
     },
     "execution_count": 178,
     "metadata": {},
     "output_type": "execute_result"
    }
   ],
   "source": [
    "P_th(totalT(930,l1, l2), g,L)"
   ]
  },
  {
   "cell_type": "code",
   "execution_count": 179,
   "metadata": {
    "collapsed": false
   },
   "outputs": [
    {
     "data": {
      "text/plain": [
       "0.71847663786403793"
      ]
     },
     "execution_count": 179,
     "metadata": {},
     "output_type": "execute_result"
    }
   ],
   "source": [
    "totalT(930,l1, l2)"
   ]
  },
  {
   "cell_type": "code",
   "execution_count": 180,
   "metadata": {
    "collapsed": false
   },
   "outputs": [
    {
     "name": "stdout",
     "output_type": "stream",
     "text": [
      "transmition at 930, and 940 is: 0.718476637864, 0.638357301585 diference: 0.0801193362786 giving 3.28312698652 3.86270234374\n"
     ]
    }
   ],
   "source": [
    "print('transmition at 930, and 940 is: '+str(totalT(930,l1, l2))+', '+str(totalT(940,l1, l2))+ ' diference: '+ str(totalT(930,l1, l2) - totalT(940,l1, l2))+' giving '+str(P_th(totalT(930,l1, l2), g,L))+' '+str(P_th(totalT(940,l1, l2), g,L)))"
   ]
  },
  {
   "cell_type": "code",
   "execution_count": 168,
   "metadata": {
    "collapsed": false,
    "scrolled": false
   },
   "outputs": [
    {
     "data": {
      "image/png": "[encoded data removed]",
      "text/plain": [
       "<matplotlib.figure.Figure at 0x7f425943f668>"
      ]
     },
     "metadata": {},
     "output_type": "display_data"
    }
   ],
   "source": [
    "fig = plt.figure(figsize=(20.0, 10.0))\n",
    "plt.gca().get_yaxis().get_major_formatter().set_useOffset(False)\n",
    "plt.plot(lv, totalT(lv,l1, l2))\n",
    "plt.xlabel(r'$\\lambda(nm)$')\n",
    "plt.ylabel(r'$T$')\n",
    "\n",
    "plt.show()"
   ]
  },
  {
   "cell_type": "markdown",
   "metadata": {},
   "source": [
    "##### Clearly my transmittance is  low to get those good threshold powers. \n",
    "But the paper quotes: 3.2720235024 W 3.56197188739 W threshold powers for transmitance of: 0.72 0.68 at wavelengths of 930nm and 940 nm respectively. So all we need to do is solve/minimize totalT(l,l1, l2) and that would give us the splice losses of the system.\n",
    "i.e.:\n",
    "\n",
    "$$\n",
    "totalT(930,l1, l2) = 0.72\n",
    "$$\n",
    "\n",
    "and\n",
    "\n",
    "$$\n",
    "totalT(940,l1, l2) = 0.68\n",
    "$$\n"
   ]
  },
  {
   "cell_type": "code",
   "execution_count": 19,
   "metadata": {
    "collapsed": false
   },
   "outputs": [],
   "source": [
    "def solve_T(l_v):\n",
    "    l1,l2 = l_v\n",
    "    return (totalT(930,l1, l2) - 0.716160016284, totalT(940,l1, l2) - 0.674732770867)\n",
    "    "
   ]
  },
  {
   "cell_type": "code",
   "execution_count": 20,
   "metadata": {
    "collapsed": false
   },
   "outputs": [
    {
     "name": "stdout",
     "output_type": "stream",
     "text": [
      "-271.126704118 77.5903176693\n"
     ]
    },
    {
     "name": "stderr",
     "output_type": "stream",
     "text": [
      "/home/john/miniconda3/lib/python3.5/site-packages/scipy/optimize/minpack.py:161: RuntimeWarning: The iteration is not making good progress, as measured by the \n",
      "  improvement from the last ten iterations.\n",
      "  warnings.warn(msg, RuntimeWarning)\n"
     ]
    }
   ],
   "source": [
    "l1,l2 = fsolve(solve_T, (0.157012903514,0.1),xtol = 1e-6)\n",
    "print(l1,l2)"
   ]
  },
  {
   "cell_type": "code",
   "execution_count": 21,
   "metadata": {
    "collapsed": true
   },
   "outputs": [],
   "source": [
    "l1 = np.linspace(0, 0.2)\n",
    "l2 = np.linspace(0,0.2)"
   ]
  },
  {
   "cell_type": "code",
   "execution_count": 22,
   "metadata": {
    "collapsed": true
   },
   "outputs": [],
   "source": [
    "L1,L2 = np.meshgrid(l1,l2)"
   ]
  },
  {
   "cell_type": "code",
   "execution_count": 23,
   "metadata": {
    "collapsed": true
   },
   "outputs": [],
   "source": [
    "z = solve_T((L1,L2))"
   ]
  },
  {
   "cell_type": "code",
   "execution_count": 24,
   "metadata": {
    "collapsed": false
   },
   "outputs": [
    {
     "data": {
      "text/plain": [
       "-0.14633152826191631"
      ]
     },
     "execution_count": 24,
     "metadata": {},
     "output_type": "execute_result"
    }
   ],
   "source": [
    "np.min(z)"
   ]
  },
  {
   "cell_type": "code",
   "execution_count": 25,
   "metadata": {
    "collapsed": true
   },
   "outputs": [],
   "source": [
    "from mpl_toolkits.mplot3d import Axes3D\n",
    "from matplotlib import cm\n",
    "from matplotlib.ticker import LinearLocator, FormatStrFormatter\n",
    "import matplotlib.pyplot as plt\n",
    "import numpy as np"
   ]
  },
  {
   "cell_type": "code",
   "execution_count": 26,
   "metadata": {
    "collapsed": true
   },
   "outputs": [],
   "source": [
    "%matplotlib inline"
   ]
  },
  {
   "cell_type": "code",
   "execution_count": 27,
   "metadata": {
    "collapsed": false
   },
   "outputs": [
    {
     "data": {
      "image/png": "[encoded data removed]",
      "text/plain": [
       "<matplotlib.figure.Figure at 0x7f4259c61908>"
      ]
     },
     "metadata": {},
     "output_type": "display_data"
    }
   ],
   "source": [
    "fig = plt.figure()\n",
    "ax = fig.gca(projection='3d')\n",
    "ax.plot_surface(L1, L2, z[0], rstride=1, cstride=1, cmap=cm.coolwarm,\n",
    "                       linewidth=0, antialiased=False)\n",
    "ax.plot_surface(L1, L2, np.zeros_like(z[0]), rstride=1, cstride=1, cmap=cm.coolwarm,\n",
    "                       linewidth=0, antialiased=False)\n",
    "plt.show()"
   ]
  },
  {
   "cell_type": "code",
   "execution_count": 28,
   "metadata": {
    "collapsed": false
   },
   "outputs": [
    {
     "data": {
      "image/png": "[encoded data removed]",
      "text/plain": [
       "<matplotlib.figure.Figure at 0x7f4259d80f98>"
      ]
     },
     "metadata": {},
     "output_type": "display_data"
    }
   ],
   "source": [
    "fig = plt.figure()\n",
    "ax = fig.gca(projection='3d')\n",
    "ax.plot_surface(L1, L2, z[1], rstride=1, cstride=1, cmap=cm.coolwarm,\n",
    "                       linewidth=0, antialiased=False)\n",
    "ax.plot_surface(L1, L2, np.zeros_like(z[0]), rstride=1, cstride=1, cmap=cm.coolwarm,\n",
    "                       linewidth=0, antialiased=False)\n",
    "plt.show()"
   ]
  },
  {
   "cell_type": "markdown",
   "metadata": {},
   "source": [
    "# Metting 6/1/2017"
   ]
  },
  {
   "cell_type": "markdown",
   "metadata": {},
   "source": [
    "He is ok with what I am doing validate the model and then produce papers.\n"
   ]
  },
  {
   "cell_type": "markdown",
   "metadata": {},
   "source": [
    "# input on 6/1/2017\n",
    "since we have established that the total loss with respect to wavelength is found by:\n",
    "$$\n",
    "L_{t} = -2l_{1} - 7l_{2} + WDM^{(1)}_{p2}\\left(\\lambda \\right) + WDM^{(2)}_{p2}\\left(\\lambda \\right) + WDM^{(3)}_{p2}\\left(\\lambda \\right) + WDM^{(4)}_{p2}\\left(\\lambda \\right) = -2l_{1} - 7l_{2} + \\sum_{i=1}^{4} \\left(WDM^{(i)}_{p2}\\left(\\lambda \\right)\\right)\n",
    "$$\n",
    "\n",
    ", with $l1, l2 >0$ and the transmitence is found by:\n",
    "\n",
    "$$\n",
    "T\\left(\\lambda \\right)  = 10 ^{\\frac{L_{t}\\left(\\lambda \\right)}{10}}\n",
    "$$\n",
    "\n",
    "Then the splice losses can be found by solving:\n",
    "\n",
    "$$\n",
    "2l_{1} + 7l_{2} = \\sum_{i=1}^{4} \\left(WDM^{(i)}_{p2}\\left(\\lambda \\right)\\right) - 10\\log\\left(T\\left(\\lambda \\right)\\right)\n",
    "$$\n",
    "\n",
    "Now as stated above the paper quotes two transmitences at two seperate wavelengths. This allows us to calculate the splice losses by solving the coupled linear equations of:\n",
    "\n",
    "\n",
    "$$\n",
    "2l_{1} + 7l_{2} = \\sum_{i=1}^{4} \\left(WDM^{(i)}_{p2}\\left(930 \\right)\\right) - 10\\log\\left(0.72\\right)\n",
    "$$\n",
    "\n",
    "$$\n",
    "2l_{1} + 7l_{2} = \\sum_{i=1}^{4} \\left(WDM^{(i)}_{p2}\\left(940 \\right)\\right) - 10\\log\\left(0.68\\right)\n",
    "$$\n",
    "sollution down here in python using numpy linalg solve."
   ]
  },
  {
   "cell_type": "code",
   "execution_count": 29,
   "metadata": {
    "collapsed": true
   },
   "outputs": [],
   "source": [
    "def rhs(lamda, T):\n",
    "    return wdm_losses(lamda) - 10 * np.log10(T)"
   ]
  },
  {
   "cell_type": "code",
   "execution_count": 30,
   "metadata": {
    "collapsed": false
   },
   "outputs": [],
   "source": [
    "a = np.array([[2,7],[2,7]])\n",
    "b = np.array([rhs(930, 0.72),rhs(940, 0.68)])"
   ]
  },
  {
   "cell_type": "code",
   "execution_count": 31,
   "metadata": {
    "collapsed": false
   },
   "outputs": [
    {
     "ename": "LinAlgError",
     "evalue": "Singular matrix",
     "output_type": "error",
     "traceback": [
      "\u001b[0;31m---------------------------------------------------------------------------\u001b[0m",
      "\u001b[0;31mLinAlgError\u001b[0m                               Traceback (most recent call last)",
      "\u001b[0;32m<ipython-input-31-c147edc3580a>\u001b[0m in \u001b[0;36m<module>\u001b[0;34m()\u001b[0m\n\u001b[0;32m----> 1\u001b[0;31m \u001b[0mx\u001b[0m \u001b[0;34m=\u001b[0m \u001b[0mnp\u001b[0m\u001b[0;34m.\u001b[0m\u001b[0mlinalg\u001b[0m\u001b[0;34m.\u001b[0m\u001b[0msolve\u001b[0m\u001b[0;34m(\u001b[0m\u001b[0ma\u001b[0m\u001b[0;34m,\u001b[0m\u001b[0mb\u001b[0m\u001b[0;34m)\u001b[0m\u001b[0;34m\u001b[0m\u001b[0m\n\u001b[0m",
      "\u001b[0;32m/home/john/miniconda3/lib/python3.5/site-packages/numpy/linalg/linalg.py\u001b[0m in \u001b[0;36msolve\u001b[0;34m(a, b)\u001b[0m\n\u001b[1;32m    382\u001b[0m     \u001b[0msignature\u001b[0m \u001b[0;34m=\u001b[0m \u001b[0;34m'DD->D'\u001b[0m \u001b[0;32mif\u001b[0m \u001b[0misComplexType\u001b[0m\u001b[0;34m(\u001b[0m\u001b[0mt\u001b[0m\u001b[0;34m)\u001b[0m \u001b[0;32melse\u001b[0m \u001b[0;34m'dd->d'\u001b[0m\u001b[0;34m\u001b[0m\u001b[0m\n\u001b[1;32m    383\u001b[0m     \u001b[0mextobj\u001b[0m \u001b[0;34m=\u001b[0m \u001b[0mget_linalg_error_extobj\u001b[0m\u001b[0;34m(\u001b[0m\u001b[0m_raise_linalgerror_singular\u001b[0m\u001b[0;34m)\u001b[0m\u001b[0;34m\u001b[0m\u001b[0m\n\u001b[0;32m--> 384\u001b[0;31m     \u001b[0mr\u001b[0m \u001b[0;34m=\u001b[0m \u001b[0mgufunc\u001b[0m\u001b[0;34m(\u001b[0m\u001b[0ma\u001b[0m\u001b[0;34m,\u001b[0m \u001b[0mb\u001b[0m\u001b[0;34m,\u001b[0m \u001b[0msignature\u001b[0m\u001b[0;34m=\u001b[0m\u001b[0msignature\u001b[0m\u001b[0;34m,\u001b[0m \u001b[0mextobj\u001b[0m\u001b[0;34m=\u001b[0m\u001b[0mextobj\u001b[0m\u001b[0;34m)\u001b[0m\u001b[0;34m\u001b[0m\u001b[0m\n\u001b[0m\u001b[1;32m    385\u001b[0m \u001b[0;34m\u001b[0m\u001b[0m\n\u001b[1;32m    386\u001b[0m     \u001b[0;32mreturn\u001b[0m \u001b[0mwrap\u001b[0m\u001b[0;34m(\u001b[0m\u001b[0mr\u001b[0m\u001b[0;34m.\u001b[0m\u001b[0mastype\u001b[0m\u001b[0;34m(\u001b[0m\u001b[0mresult_t\u001b[0m\u001b[0;34m,\u001b[0m \u001b[0mcopy\u001b[0m\u001b[0;34m=\u001b[0m\u001b[0;32mFalse\u001b[0m\u001b[0;34m)\u001b[0m\u001b[0;34m)\u001b[0m\u001b[0;34m\u001b[0m\u001b[0m\n",
      "\u001b[0;32m/home/john/miniconda3/lib/python3.5/site-packages/numpy/linalg/linalg.py\u001b[0m in \u001b[0;36m_raise_linalgerror_singular\u001b[0;34m(err, flag)\u001b[0m\n\u001b[1;32m     88\u001b[0m \u001b[0;34m\u001b[0m\u001b[0m\n\u001b[1;32m     89\u001b[0m \u001b[0;32mdef\u001b[0m \u001b[0m_raise_linalgerror_singular\u001b[0m\u001b[0;34m(\u001b[0m\u001b[0merr\u001b[0m\u001b[0;34m,\u001b[0m \u001b[0mflag\u001b[0m\u001b[0;34m)\u001b[0m\u001b[0;34m:\u001b[0m\u001b[0;34m\u001b[0m\u001b[0m\n\u001b[0;32m---> 90\u001b[0;31m     \u001b[0;32mraise\u001b[0m \u001b[0mLinAlgError\u001b[0m\u001b[0;34m(\u001b[0m\u001b[0;34m\"Singular matrix\"\u001b[0m\u001b[0;34m)\u001b[0m\u001b[0;34m\u001b[0m\u001b[0m\n\u001b[0m\u001b[1;32m     91\u001b[0m \u001b[0;34m\u001b[0m\u001b[0m\n\u001b[1;32m     92\u001b[0m \u001b[0;32mdef\u001b[0m \u001b[0m_raise_linalgerror_nonposdef\u001b[0m\u001b[0;34m(\u001b[0m\u001b[0merr\u001b[0m\u001b[0;34m,\u001b[0m \u001b[0mflag\u001b[0m\u001b[0;34m)\u001b[0m\u001b[0;34m:\u001b[0m\u001b[0;34m\u001b[0m\u001b[0m\n",
      "\u001b[0;31mLinAlgError\u001b[0m: Singular matrix"
     ]
    }
   ],
   "source": [
    "x = np.linalg.solve(a,b)"
   ]
  },
  {
   "cell_type": "markdown",
   "metadata": {},
   "source": [
    "# OK SO THAT WAS WRONG!\n",
    "It is because Zlobina quotes the tansmitance within the god damn cavity! FFS!\n",
    "\n",
    "Firstly she quotes $1.4 dB$ loss within the cavity for a wavelength of $1205nm$ with $1dB$ being given to the loss of the fibre and the PCF losses. \n",
    "\n",
    "There are two PCF splice losses in that system and she quotes the fibre loss of $a_{L} \\cdot L = 0.021dB$ hence:\n",
    "\n",
    "$$\n",
    "2 \\cdot l_{1} + a_{L} \\cdot L = 1 \\Rightarrow l_{1} = \\frac{1 -  a_{L} \\cdot L}{2} =  \\frac{1 -   0.021}{2} = 0.4895 dB\n",
    "$$.\n",
    "\n",
    "Furthermore from this one can consider the second splice loss by taking the loss of the wdm 1, 2 for the signal as:\n",
    "* port2 of WDM1\n",
    "* port1 of WDM2\n",
    "\n",
    "again as above but now with the ring (2 small splices) and the WDM losses with respect to the signal ports. \n",
    "The equation to be solved is then:\n",
    "\n",
    "$$\n",
    "2 l_{1} + 2 l_{2}  = WDM^{(1)}_{p2}\\left(1205 \\right) + WDM^{(2)}_{p1}\\left(1205 \\right) - 10 \\log \\left(T\\left(\\lambda\\right)\\right) \\Rightarrow\n",
    "$$\n",
    "\n",
    "$$\n",
    "l_{2} = \\frac{WDM^{(1)}_{p2}\\left(1205 \\right) + WDM^{(2)}_{p1}\\left(1205 \\right) - 10 \\log \\left(T\\left(\\lambda\\right)\\right) - 2 l_{1}}{2}\n",
    "$$"
   ]
  },
  {
   "cell_type": "code",
   "execution_count": 189,
   "metadata": {
    "collapsed": true
   },
   "outputs": [],
   "source": [
    "WDM1 = WDM(1200, 1050,lv)\n",
    "WDM2 = WDM(930, 1200, lv)"
   ]
  },
  {
   "cell_type": "code",
   "execution_count": 222,
   "metadata": {
    "collapsed": true
   },
   "outputs": [],
   "source": [
    "def l2(lamda, T, l1):\n",
    "    num = WDM1.il_port1(lamda) + WDM2.il_port2(lamda) - 10 * np.log10(T) - 2*l1\n",
    "    return num/2"
   ]
  },
  {
   "cell_type": "code",
   "execution_count": 223,
   "metadata": {
    "collapsed": false
   },
   "outputs": [
    {
     "name": "stdout",
     "output_type": "stream",
     "text": [
      "the splice loss of the small loss ones is: 0.225630004434 dB\n"
     ]
    }
   ],
   "source": [
    "print('the splice loss of the small loss ones is:', l2(1205, 0.72, 0.4895), 'dB')"
   ]
  },
  {
   "cell_type": "markdown",
   "metadata": {},
   "source": [
    "# To Do\n",
    "\n",
    "make sure that you understand the ports correctly and that the loss of the other ones are correct"
   ]
  },
  {
   "cell_type": "code",
   "execution_count": null,
   "metadata": {
    "collapsed": true
   },
   "outputs": [],
   "source": []
  }
 ],
 "metadata": {
  "anaconda-cloud": {},
  "kernelspec": {
   "display_name": "Python [default]",
   "language": "python",
   "name": "python3"
  },
  "language_info": {
   "codemirror_mode": {
    "name": "ipython",
    "version": 3
   },
   "file_extension": ".py",
   "mimetype": "text/x-python",
   "name": "python",
   "nbconvert_exporter": "python",
   "pygments_lexer": "ipython3",
   "version": "3.5.2"
  }
 },
 "nbformat": 4,
 "nbformat_minor": 0
}
