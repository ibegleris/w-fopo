{
 "cells": [
  {
   "cell_type": "markdown",
   "metadata": {},
   "source": [
    "# Logbook regarding the Single Mode FOPO\n"
   ]
  },
  {
   "cell_type": "markdown",
   "metadata": {},
   "source": [
    "# Log for the fibre OPO\n"
   ]
  },
  {
   "cell_type": "markdown",
   "metadata": {},
   "source": [
    "## Single mode fibre OPO\n",
    "\n",
    "### 24/3/2015\n",
    "\n",
    "Did a quick literature search for single mode fibre OPO's. \n",
    "\n",
    "\n",
    "First fibre OPO reported in: M. Nakazawa, K. Suzuki, H.A. Haus, IEEE J. Quantum Electron. 25 (1989) 2036.\n",
    "[8]\n",
    "\n",
    "They had two papers, technically the modulation isnatbility laser that they are proposing is a opo (taken from Widely tunable femtosecond fiber optical parametric oscillator Yongzhong)\n",
    "\n",
    "\n",
    "Paper Widely tunable femtosecond fiber optical parametric oscillator Yongzhong\n",
    "\n",
    "is very close to what I want to do. What they are doing is solving a combination of the fwm equations with a dispersion term in the frount. They are not inclusing raman, just the spm xpm fwm terms. The first part of the equation is VERY close to peters MMGLSE making me think that it is a combination of the NLSE and AGRAWAL equations although it could be the first one withought the raman.\n",
    "\n",
    "Additionally what they are using is the degenerate fwm equations."
   ]
  },
  {
   "cell_type": "markdown",
   "metadata": {},
   "source": [
    "## Entry 1 15/09/2016\n",
    "\n",
    "I have started looking in to coding a single mode FOPO. At first I am going to create a hybrid code between the telecoms code and the original Multimode code. I am still going to use the MM-GNLSE since it will make it easier to add more modes in the future.\n",
    "\n",
    "### Tasks for tommorow:\n",
    "* Write a code that just propagates CW pump and signal through a fibre.\n",
    "* Check how it fairs\n",
    "* Write some tests for it if you can\n"
   ]
  },
  {
   "cell_type": "markdown",
   "metadata": {
    "collapsed": true
   },
   "source": [
    "## Entry 2 16/09/2016\n",
    "What I want this code to do:\n",
    "* Have 2 or 3 CW pwmps through the fibre\n",
    "* At the end of the fibre the spectrum is multipled by some wavelength dependent 'function that will kick out either the signal or idler depending what I want to export\n",
    "* The previous signal will be inputed back along with more pump signal \n",
    "* oscilate until there is no change from previous\n",
    "code is being built in: [single-mode-code](single-mode-fibre-opo/code)"
   ]
  },
  {
   "cell_type": "markdown",
   "metadata": {
    "collapsed": true
   },
   "source": [
    "## Entry 3 20/09/2016\n",
    "* MM-gnlse is set such that it has one pump in one mode and propagates. nobackfeeding yet. I am trying to find a paper which to simulate it.\n",
    "* **IMPORTANT In FOPO theory there are two types of conversion efficiencies**.\n",
    "    * Internal conversio efficiency. Ratio of pump at input to idler at the output of the **fibre**\n",
    "    * External conversion efficiency. Ration of the pump at input to the idler output of the **FOPO**\n",
    "    * When there is a signal is seeded. The signal at input to the idler at fibre output\n",
    "* potential paper to replicate is the recent:\n",
    "    High-efficiency CW all-fiber parametric\n",
    "High-efficiency CW all-fiber parametric \n",
    "oscillator tunable in 0.92-1 \n",
    "μ\n",
    "m range "
   ]
  },
  {
   "cell_type": "markdown",
   "metadata": {
    "collapsed": true
   },
   "source": [
    "## Entry 4 9/10/2016\n",
    "I have understood what the dispersion is going in ekaterina. They are following a convention at which the expend the dispersion around the central pump buuut then expand the coefficiencts around the zero dispersion wavelength. \n",
    "\n",
    "i.e. he phase missmatch due to dispersion only for a MI \n",
    "\n",
    "\n",
    "ref [Broadband fiber optical parametric amplifiers, M.E. Marhic,]:\n",
    "$$\n",
    "\\Delta \\beta = 2 \\sum^{\\infty}_{m=1}\\frac{\\beta_{2m}}{2m!}\\left(\\omega_s - \\omega_p\\right)^{2m}\n",
    "$$\n",
    ", where\n",
    "$$\n",
    "\\beta_{2m} = \\left(\\frac{d^{2m} \\beta}{d \\omega^{2m}}\\right)_{\\omega = \\omega_p}\n",
    "$$\n",
    "\n",
    "Howerver we are given the dispersion parameters around the zero dispersion wavelength \n",
    "$$\n",
    "\\beta_{0m} = \\left(\\frac{d^{m} \\beta}{d \\omega^{m}}\\right)_{\\omega = \\omega_0}\n",
    "$$\n",
    "\n",
    "making us do things like:\n",
    "\n",
    "$$\n",
    "\\beta_{2m} \\approx \\beta_{03} \\left(\\omega_p - \\omega_0\\right) +\\frac{\\beta_{04}}{2} \\left(\\omega_p- \\omega_0\\right)^2\n",
    "$$\n",
    "\n",
    "and \n",
    "\n",
    "$$\n",
    "\\beta_{4m} \\approx  \\beta_{04}\n",
    "$$\n",
    "\n",
    "The last part helps me since I will always pick the central wavelength of the pulse to be that of the pump and hence I can shift the dispersions like this. Great!"
   ]
  },
  {
   "cell_type": "markdown",
   "metadata": {
    "collapsed": true
   },
   "source": [
    "### nonlinearity\n",
    "On the other hand on the nonlinearity we only have gamma, but we are talking of only one mode in a single polarisation. so from peters paper\n",
    "$$\n",
    "Q = \\frac{n^2_0}{3 n_{eff}^2 A_{eff}} \\Rightarrow A_{eff} = \\frac{n^2_0}{3 n^2_{eff} Q} \\approx \\frac{1}{3 Q}\n",
    "$$\n",
    "\n",
    "so \n",
    "\n",
    "$$\n",
    "\\gamma = \\frac{n_2 \\omega_c}{c A_{eff}} = \\frac{n_2 \\omega 3 Q}{c} \\Rightarrow \n",
    "$$\n",
    "\n",
    "$$\n",
    "Q = \\frac{ \\gamma}{3 n_2 \\left(\\frac{2 \\pi}{\\lambda} \\right)}\n",
    "$$"
   ]
  },
  {
   "cell_type": "markdown",
   "metadata": {},
   "source": [
    "## Experimental figure of Zlobina et al. 2015\n",
    "<img src=\"graphs_for_logs/single_mode_single_dirrection/zlobina_2015_aparatus.png\">"
   ]
  },
  {
   "cell_type": "markdown",
   "metadata": {},
   "source": [
    "### The WDMS"
   ]
  },
  {
   "cell_type": "markdown",
   "metadata": {
    "collapsed": true
   },
   "source": [
    "The WDMS have a periodic dependance on what the let through for each port. In particular for Ekaterinas I do not have any idea what the wdms are so I need to estimate them.\n",
    "\n",
    "An example is shown below for what I am talking about (from thor labs):\n",
    "\n",
    "<img src=\"graphs_for_logs/single_mode_single_dirrection/wdm_thor_labs.gif\">\n",
    "\n",
    "\n",
    "So I need to decide whether I want to include a clas like the raman. Hence to load the displayed functions for each port (in a hypothetical one like above) or like in this situation estimate the function with inputs (min,max,length,freequency etc). \n"
   ]
  },
  {
   "cell_type": "markdown",
   "metadata": {},
   "source": [
    "#### For the WDM function estimation:\n",
    "It needs to be a $sin$ function but in absolute.\n",
    "I here have taken the conversion of insertion loss being: "
   ]
  },
  {
   "cell_type": "code",
   "execution_count": 1,
   "metadata": {
    "collapsed": false
   },
   "outputs": [],
   "source": [
    "%matplotlib inline"
   ]
  },
  {
   "cell_type": "code",
   "execution_count": 10,
   "metadata": {
    "collapsed": false,
    "scrolled": false
   },
   "outputs": [],
   "source": [
    "import numpy as np\n",
    "from scipy.constants import c, pi\n",
    "import matplotlib.pyplot as plt\n",
    "class WDM(object):\n",
    "    def __init__(self,x1,x2):\n",
    "        self.x1 = x1 # High part of port 1 \n",
    "        self.x2 = x2 # Low wavelength of port 1\n",
    "        self.omega = 0.5*pi/np.abs(x1 - x2)\n",
    "        self.phi = pi - self.omega*self.x2\n",
    "        return None\n",
    "\n",
    "\n",
    "    def il_port1(self,lamda):\n",
    "        return (np.sin(self.omega*lamda+self.phi))**2\n",
    "\n",
    "\n",
    "    def il_port2(self,lamda):\n",
    "        return (np.sin(self.omega*lamda+self.phi+pi/2))**2\n",
    "\n",
    "\n",
    "    def plot(self,lamda):\n",
    "        fig = plt.figure()\n",
    "        plt.plot(lamda,self.il_port1(lamda), label = \"%0.2f\" % (self.x1*1e9) +' nm port') \n",
    "        plt.plot(lamda,self.il_port1(lamda), label =  \"%0.2f\" % (self.x2*1e9) +' nm port')\n",
    "        plt.legend(loc='upper center', bbox_to_anchor=(0.5, 1.11),ncol=2)\n",
    "        plt.xlabel(r'$\\lambda (\\mu m)$')\n",
    "        plt.ylabel(r'$Insertion loss (dB)$')\n",
    "        plt.ylim(-100,0)\n",
    "        plt.show()\n",
    "        return None\n",
    "\n",
    "\n",
    "    def plot_dB(self,lamda):\n",
    "        fig = plt.figure()\n",
    "        plt.plot(lamda,10*np.log10(self.il_port1(lamda)), label =  \"%0.2f\" % (self.x1) +' nm port') \n",
    "        plt.plot(lamda,10*np.log10(self.il_port2(lamda)), label =  \"%0.2f\" % (self.x2) +' nm port')\n",
    "        plt.legend(loc='upper center', bbox_to_anchor=(0.5, 1.16), ncol=2)\n",
    "        plt.xlabel(r'$\\lambda (\\mu m)$')\n",
    "        plt.ylim(-100,0)\n",
    "        plt.ylabel(r'$Insertion loss (dB)$')\n",
    "        plt.show()\n",
    "        return None\n"
   ]
  },
  {
   "cell_type": "code",
   "execution_count": 11,
   "metadata": {
    "collapsed": false
   },
   "outputs": [],
   "source": [
    "lv = np.linspace(900,1550,20148)"
   ]
  },
  {
   "cell_type": "code",
   "execution_count": 12,
   "metadata": {
    "collapsed": false
   },
   "outputs": [
    {
     "data": {
      "image/png": "[encoded data removed]",
      "text/plain": [
       "<matplotlib.figure.Figure at 0x7f5ef29d00b8>"
      ]
     },
     "metadata": {},
     "output_type": "display_data"
    },
    {
     "data": {
      "image/png": "[encoded data removed]",
      "text/plain": [
       "<matplotlib.figure.Figure at 0x7f5ef2c17780>"
      ]
     },
     "metadata": {},
     "output_type": "display_data"
    }
   ],
   "source": [
    "WDM1 = WDM(1050, 1200)\n",
    "WDM2 = WDM(1200, 930)\n",
    "WDM1.plot_dB(lv)\n",
    "WDM2.plot_dB(lv)"
   ]
  },
  {
   "cell_type": "markdown",
   "metadata": {},
   "source": [
    "### Entry 20/10/2016\n",
    "I have allot of data including pdf and movies of the simulating CW through the OPO\n",
    "# wrong"
   ]
  },
  {
   "cell_type": "code",
   "execution_count": 2,
   "metadata": {
    "collapsed": true
   },
   "outputs": [],
   "source": [
    "import io\n",
    "import base64\n",
    "from IPython.display import HTML\n",
    "from scipy.constants import c,pi\n",
    "import numpy as np\n",
    "import matplotlib.pyplot as plt\n",
    "def video(fname):\n",
    "    video = io.open(fname, 'r+b').read()\n",
    "    encoded = base64.b64encode(video)\n",
    "    return HTML(data='''<video alt=\"test\" controls>\n",
    "                    <source src=\"data:video/mp4;base64,{0}\" type=\"video/mp4\" />\n",
    "                 </video>'''.format(encoded.decode('ascii')))"
   ]
  },
  {
   "cell_type": "markdown",
   "metadata": {},
   "source": [
    "[All the oscilator](graphs_for_logs/single_mode_single_dirrection/movies/wavelength_space0.pdf)"
   ]
  },
  {
   "cell_type": "code",
   "execution_count": null,
   "metadata": {
    "collapsed": false
   },
   "outputs": [],
   "source": [
    "video('graphs_for_logs/single_mode_single_dirrection/movies/wavelength_space0.mp4')"
   ]
  },
  {
   "cell_type": "markdown",
   "metadata": {},
   "source": [
    "[Before_PCF](graphs_for_logs/single_mode_single_dirrection/movies/wavelength_space1.pdf)"
   ]
  },
  {
   "cell_type": "code",
   "execution_count": null,
   "metadata": {
    "collapsed": false
   },
   "outputs": [],
   "source": [
    "video('graphs_for_logs/single_mode_single_dirrection/movies/wavelength_space1.mp4')"
   ]
  },
  {
   "cell_type": "markdown",
   "metadata": {},
   "source": [
    "[After_PCF](graphs_for_logs/single_mode_single_dirrection/movies/wavelength_space2.pdf)"
   ]
  },
  {
   "cell_type": "code",
   "execution_count": null,
   "metadata": {
    "collapsed": false
   },
   "outputs": [],
   "source": [
    "video('graphs_for_logs/single_mode_single_dirrection/movies/wavelength_space2.mp4')"
   ]
  },
  {
   "cell_type": "markdown",
   "metadata": {},
   "source": [
    "[After_WDM2](graphs_for_logs/single_mode_single_dirrection/movies/wavelength_space3.pdf)"
   ]
  },
  {
   "cell_type": "code",
   "execution_count": null,
   "metadata": {
    "collapsed": false
   },
   "outputs": [],
   "source": [
    "video('graphs_for_logs/single_mode_single_dirrection/movies/wavelength_space3.mp4')"
   ]
  },
  {
   "cell_type": "markdown",
   "metadata": {},
   "source": [
    "[After_WDM1_before_pump_added](graphs_for_logs/single_mode_single_dirrection/movies/wavelength_space4.pdf)"
   ]
  },
  {
   "cell_type": "code",
   "execution_count": null,
   "metadata": {
    "collapsed": false
   },
   "outputs": [],
   "source": [
    "video('graphs_for_logs/single_mode_single_dirrection/movies/wavelength_space4.mp4')"
   ]
  },
  {
   "cell_type": "markdown",
   "metadata": {},
   "source": [
    "[Exiting wave](graphs_for_logs/single_mode_single_dirrection/movies/wavelength_space5.pdf)"
   ]
  },
  {
   "cell_type": "code",
   "execution_count": null,
   "metadata": {
    "collapsed": false
   },
   "outputs": [],
   "source": [
    "video('graphs_for_logs/single_mode_single_dirrection/movies/wavelength_space5.mp4')"
   ]
  },
  {
   "cell_type": "markdown",
   "metadata": {},
   "source": [
    "### Peters Comments\n",
    "* The delta lines do not seem logical. You need sidebands the same way of MI. Run the simmulation for no WDM's. and see what happens\n",
    "* You cannot go bellow the quantum noise. When the firt input happens you have noise comming in from the WDM1 on the other power this will lead to the noise floor being the noise floor.\n",
    "\n"
   ]
  },
  {
   "cell_type": "markdown",
   "metadata": {
    "collapsed": true
   },
   "source": [
    "### Entry 27/1/2016\n",
    "Have taken a break from this so that to write a presentation for the CDT. Will have to take another break because of the poster the CDT is asking me to do.\n",
    "\n",
    "The specific fibre that we have been looking in to (zlobina) has been measured by them and shown in a paper in 2012 (Ekaterina A. Zlobina, Sergey I. Kablukov, and Sergey A. Babin, \"Phase matching for parametric generation in polarization maintaining photonic crystal fiber pumped by tunable Yb-doped fiber laser,\" J. Opt. Soc. Am. B 29, 1959-1967 (2012) ).\n",
    "Within that she explains that in that fibre $\\beta_2 = 0$ THIS EXPLAINS MY CONFUSION!\n",
    "\n",
    "In the appendix she is kind enough to do the calculations for the phase missmatch up to $\\beta_5$. Along with my inclusion for $\\beta_2$ which she dissregards we have:\n",
    "\n",
    "$$\n",
    "\\Delta \\beta = \\beta(\\omega_p +\\Omega) + \\beta(\\omega_p -\\Omega) - 2\\beta(\\omega)\n",
    "$$\n",
    "\n",
    "And a central freequency $\\omega_0$ we have $\\omega = \\omega_p - \\omega_0$\n",
    "\n",
    "Within the expansion:\n",
    "\n",
    "$\\beta_0, beta_1$ drops out:\n",
    "\n",
    "* $\\beta_2 \\Rightarrow \\beta_2 \\Omega^2$\n",
    "* $\\beta_3 \\Rightarrow \\beta_3 \\omega \\Omega^2$\n",
    "* $\\beta_4 \\Rightarrow \\frac{\\beta_4}{12} \\Omega^2\\left(\\omega^2  + \\Omega^2 \\right)$\n",
    "* $\\beta_5 \\Rightarrow \\frac{\\beta_5}{12} \\Omega^2 \\omega\\left(2\\omega^3  + \\Omega^2 \\right)$\n",
    "\n",
    "\n",
    "\n",
    "So \n",
    "$$\n",
    "\\Delta \\beta (\\Omega) = \\Omega \\left[\\left(\\frac{\\beta_4}{12} + \\omega \\frac{\\beta_5}{12} \\right) \\Omega^{3} + \\left(\\beta_2+ \\omega \\beta_3 + \\omega^{2}\\frac{\\beta_4}{2} + \\omega^{3} \\frac{\\beta_5}{6}\\right) \\Omega \\right]\n",
    "$$\n",
    "\n",
    "\n",
    "From the agrawal (no pump depletion), which we can assume in these cases since the fibre is not that long. Pase matching occurs when:\n",
    "\n",
    "\n",
    "$$\n",
    "\\Delta \\beta ^{'} = \\Delta \\beta + 2 \\gamma P_{0} = 0 \n",
    "$$\n",
    "\n",
    "Then with \n",
    "\n",
    "$$\n",
    "a = \\frac{\\beta_4}{12} + \\omega \\frac{\\beta_5}{12}\n",
    "$$\n",
    "\n",
    "$$\n",
    "b = \\beta_2+ \\omega \\beta_3 + \\omega^{2}\\frac{\\beta_4}{2} + \\omega^{3} \\frac{\\beta_5}{6}\n",
    "$$\n",
    "\n",
    "and \n",
    "\n",
    "$$\n",
    "c = 2 \\gamma P_{0}\n",
    "$$\n",
    "\n",
    "Phase matching will occur at:\n",
    "\n",
    "$$\n",
    "\\Omega = \\sqrt{\\frac{-b \\pm \\sqrt{b^2 - 4 a c}}{2a}}\n",
    "$$\n",
    "\n",
    ", with omega real and possitive.\n",
    "\n",
    "HOWEVER remember difference in $\\omega$ does not mean difference in $\\lambda$.\n",
    "\n",
    "\n",
    "The parametric $\\lambda's$ are found by:\n",
    "\n",
    "$$\\lambda_s = \\lambda_p + \\frac{\\Omega \\lambda^2_p}{(2\\pi c - \\Omega \\lambda_p)}$$\n",
    "\n",
    "$$\\lambda_i = \\lambda_p + \\frac{\\Omega \\lambda^2_p}{(-2\\pi c - \\Omega \\lambda_p)}$$"
   ]
  },
  {
   "cell_type": "code",
   "execution_count": 2,
   "metadata": {
    "collapsed": true
   },
   "outputs": [],
   "source": [
    "%matplotlib inline"
   ]
  },
  {
   "cell_type": "code",
   "execution_count": 3,
   "metadata": {
    "collapsed": true
   },
   "outputs": [],
   "source": [
    "def betas_transf(betas, lamdap,lamdac):\n",
    "    omegap = 2* pi * c / lamdap\n",
    "    omegac = 2 * pi * c /lamdac\n",
    "    betap = np.zeros(np.shape(betas))\n",
    "    for i,b in enumerate(betas):\n",
    "        if i == 1000:\n",
    "            betap[i] = betas[i]\n",
    "        else:\n",
    "            temp = 0\n",
    "            fact_count = 0\n",
    "            for j in range(i, len(betas)):\n",
    "                #print(i, betas[j], fact_count)\n",
    "                temp += factorial(fact_count)*betas[j] * (omegap - omegac)**fact_count\n",
    "                fact_count +=1\n",
    "            betap[i] = temp\n",
    "    return betap"
   ]
  },
  {
   "cell_type": "code",
   "execution_count": 70,
   "metadata": {
    "collapsed": false
   },
   "outputs": [
    {
     "name": "stdout",
     "output_type": "stream",
     "text": [
      "902.393761923\n",
      "913.1083293\n",
      "924.987143421\n",
      "938.440713202\n",
      "954.174450579\n",
      "973.577551567\n",
      "999.767722465\n",
      "1028.25422045\n",
      "1038.19180723\n",
      "1042.4010584\n"
     ]
    },
    {
     "data": {
      "image/png": "[encoded data removed]",
      "text/plain": [
       "<matplotlib.figure.Figure at 0x7f56b30debe0>"
      ]
     },
     "metadata": {},
     "output_type": "display_data"
    },
    {
     "name": "stdout",
     "output_type": "stream",
     "text": [
      "The asked for pump wavelength  1048.8809999999999 nm results in hits of: 938.440713202 nm idler and: 1188.23225861 nm signal.\n"
     ]
    }
   ],
   "source": [
    "import sys\n",
    "from scipy.constants import c,pi\n",
    "import numpy as np\n",
    "from math import factorial\n",
    "import matplotlib.pyplot as plt\n",
    "\n",
    "def domega(omegap,omega0,beta,gama, P0):\n",
    "    omega = omegap - omega0\n",
    "    a = beta[4]/12 #$+ omega * beta[5]/12\n",
    "    b = beta[2]#+ omega*beta[3] +omega**2 * beta[4]/2 + omega**3 * beta[5]/6\n",
    "    c = 2 * gama * P0\n",
    "    \n",
    "    det = b**2 - 4 * a * c\n",
    "    if det >= 0:\n",
    "        Omega = (-b + det**0.5)/(2*a)\n",
    "        \n",
    "        if Omega <0:\n",
    "            Omega = (-b - det**0.5)/(2*a)\n",
    "        if Omega <0:\n",
    "            print(\"No real solution!\")\n",
    "            sys.exit(\"No real solution!\")\n",
    "        else:\n",
    "            #print(Omega)\n",
    "            return Omega**0.5\n",
    "                \n",
    "\n",
    "    else:\n",
    "        print(' No real sollution in the det', det)\n",
    "        sys.exit(' No real sollution in the det', det)\n",
    "\n",
    "    return 1\n",
    "\n",
    "def dlamda_sig(Omega,lamdap):\n",
    "    return Omega * lamdap**2 / (2* pi* c - Omega * lamdap)*1e9\n",
    "\n",
    "def dlamda_idl(Omega,lamdap):\n",
    "    return Omega * lamdap**2 / (-2* pi* c - Omega * lamdap)*1e9\n",
    "\n",
    "N = 2**20\n",
    "beta0 = 0\n",
    "beta1 = 0\n",
    "beta2 = 0\n",
    "beta3 = 6.755e-2 *(1e-12)**3*1e-3\n",
    "beta4 = -1.001e-4 * (1e-12)**4*1e-3\n",
    "beta5 = 3.675*1e-7*(1e-12)**5*1e-3\n",
    "betas_or = [beta0,beta1,beta2,beta3,beta4,beta5]\n",
    "lamda_fast, lamda_slow = 1052.95e-9, 1051.85e-9\n",
    "lamda0 =  lamda_slow\n",
    "lamdap_const = 1048.881e-9\n",
    "\n",
    "lamdaps = np.linspace(1046e-9,1054e-9,10)\n",
    "lamdaps = np.ndarray.tolist(lamdaps)\n",
    "lami = []\n",
    "lams = []\n",
    "for lamdap in lamdaps:\n",
    "    betas = betas_transf(betas_or, lamdap,lamda0)\n",
    "    Omega  = domega(2*pi *c /lamdap,2*pi *c /lamda0,betas,10*1e-3,5.)\n",
    "    dlamda_s= dlamda_sig(Omega,lamdap)\n",
    "    dlamda_i =dlamda_idl(Omega,lamdap)\n",
    "    print(lamdap*1e9 + dlamda_i)\n",
    "    lami.append(lamdap*1e9 + dlamda_i)\n",
    "    lams.append(lamdap*1e9 + dlamda_s)\n",
    "lamdaps = [i*1e9 for i in lamdaps]\n",
    "\n",
    "loc = np.argsort(np.abs(np.asanyarray(lamdaps) - lamdap_const*1e9))[0] # location of the lamda0\n",
    "\n",
    "plt.plot(lamdaps,lami, label='idler')\n",
    "plt.plot(lamdaps,lams, label='signal')\n",
    "#plt.plot(A[:,0],A[:,1], label='mmgnlse')\n",
    "#plt.plot((lamda_fast*1e9,lamda_fast*1e9),(900,1250), label='fast zer disp')\n",
    "#plt.plot((lamda_slow*1e9,lamda_slow*1e9),(900,1250), label='slow zer disp')\n",
    "plt.plot((lamdap_const*1e9,lamdap_const*1e9),(900,1250), label='asked_for_wavelength')\n",
    "\n",
    "plt.gca().get_yaxis().get_major_formatter().set_useOffset(False)\n",
    "plt.gca().get_xaxis().get_major_formatter().set_useOffset(False)\n",
    "plt.ylabel('Parametric wavelength (nm)')\n",
    "plt.ylim([900,1250])\n",
    "plt.legend(loc=1)\n",
    "plt.xlabel('Pump wavelength (nm)')\n",
    "#plt.show()\n",
    "#plt.close('all')\n",
    "plt.show()\n",
    "print(\"The asked for pump wavelength \", lamdap_const*1e9,\"nm results in hits of:\",lami[loc] ,\"nm idler and:\",lams[loc],\"nm signal.\",)"
   ]
  },
  {
   "cell_type": "code",
   "execution_count": 71,
   "metadata": {
    "collapsed": false
   },
   "outputs": [],
   "source": [
    "def find_lami(lamdap, lamda0, betas, gama, P0,lamdai_asked,betas_or):\n",
    "    betas = betas_transf(betas_or, lamdap,lamda0)\n",
    "    Omega  = domega(2 * pi * c / lamdap, 2 * pi *c / lamda0, betas, gama, P0)\n",
    "    #dlamda_s= dlamda_sig(Omega,lamdap)\n",
    "    dlamda_i =dlamda_idl(Omega,lamdap)\n",
    "    print(lamdap*1e9+dlamda_i- lamdai_asked)\n",
    "    return lamdap*1e9 + dlamda_i - lamdai_asked"
   ]
  },
  {
   "cell_type": "code",
   "execution_count": 72,
   "metadata": {
    "collapsed": false
   },
   "outputs": [],
   "source": [
    "from scipy.optimize import fsolve"
   ]
  },
  {
   "cell_type": "code",
   "execution_count": 74,
   "metadata": {
    "collapsed": false
   },
   "outputs": [
    {
     "name": "stdout",
     "output_type": "stream",
     "text": [
      "[-0.01066262]\n",
      "[-0.01066262]\n",
      "[-0.01066262]\n",
      "[-0.0103988]\n",
      "[  6.07186848e-07]\n",
      "[ -3.70619091e-11]\n",
      "[ -2.27373675e-13]\n"
     ]
    }
   ],
   "source": [
    "a = fsolve(find_lami,lamdap_const, args = (lamda0, betas, 10e-3, 5,942,betas_or),xtol=1.49012e-13 )"
   ]
  },
  {
   "cell_type": "code",
   "execution_count": 76,
   "metadata": {
    "collapsed": false
   },
   "outputs": [
    {
     "data": {
      "text/plain": [
       "1.0488816316376193e-06"
      ]
     },
     "execution_count": 76,
     "metadata": {},
     "output_type": "execute_result"
    }
   ],
   "source": [
    "a[0]"
   ]
  },
  {
   "cell_type": "markdown",
   "metadata": {},
   "source": [
    "### Entry 9/11/2016\n",
    "    The code now finds the sidebands as shown above when run for only one dirrection. The accuracy of the integration needs to be very high to get themn unfortunately yet some speedup has been achieved by mklfft."
   ]
  },
  {
   "cell_type": "markdown",
   "metadata": {
    "collapsed": true
   },
   "source": [
    "### Entry 14/11/2016\n",
    "    Excelents. 10 tests are passing whcih all have to do with the pulse propagation within the fibre. However the WDM systems seem to have a problem. \n",
    "    \n",
    "The insetion loss is found by [Reference to the lecture I found]:\n",
    "    $$ IL = 10 log \\left(\\frac{P_{in}}{P_{out}}\\right)$$ \n",
    "    \n",
    "But in my definition it is the output over the input hence:\n",
    "        $$ IL = 10 log \\left(\\frac{P_{out}}{P_{in}}\\right)$$ \n"
   ]
  },
  {
   "cell_type": "markdown",
   "metadata": {
    "collapsed": true
   },
   "source": [
    "### Entry 15/11/2016\n",
    "Peter has said that technically the way I have modeled the WDM system is wrong. This is because the insertion loss above is the one for powers when U in the code is square root of power in arbitary units.\n",
    "\n",
    "Taking in to account the figure:\n",
    "\n",
    "<img src=\"graphs_for_logs/single_mode_single_dirrection/WDM_model.png\">.\n",
    "\n",
    "\n",
    "\n"
   ]
  },
  {
   "cell_type": "markdown",
   "metadata": {},
   "source": [
    "The matrix that can represent the system is shown:\n",
    "\n",
    "$$\\begin{bmatrix}\n",
    "    U^{1}_{out}         \\\\\n",
    "    U^{2}_{out}      \n",
    "\\end{bmatrix} =\n",
    "\\begin{bmatrix}\n",
    "    cos(f(\\lambda))       & sin(f(\\lambda)) \\\\\n",
    "    -sin(f(\\lambda))       &  cos(f(\\lambda)) \n",
    "\\end{bmatrix}\\begin{bmatrix}\n",
    "    U^{1}_{in} \\\\\n",
    "    U^{2}_{in}      \n",
    "\\end{bmatrix}\n",
    "$$"
   ]
  },
  {
   "cell_type": "markdown",
   "metadata": {},
   "source": [
    "The extra input should be noise. In both cases the WDM needs to have 2 outputs and two inputs."
   ]
  },
  {
   "cell_type": "markdown",
   "metadata": {
    "collapsed": true
   },
   "source": [
    "### Entry From a.u. to dBm/nm\n",
    "\n",
    "$$\n",
    "E(j) = \\int_{0}^{T} \\left|u(t)\\right|^{2} dt = \\int \\left|U(\\omega)\\right|^{2} d\\omega = \\int \\left|U(\\lambda)\\right|^{2} d\\lambda \n",
    "$$\n",
    "\n",
    "So \n",
    "$$\n",
    "P = \\frac{E(\\lambda)}{T} = \\int \\frac{\\left|U(\\lambda)\\right|^2}{T} d \\lambda \n",
    "$$"
   ]
  },
  {
   "cell_type": "markdown",
   "metadata": {},
   "source": [
    "### ENtry 22/11/2016\n",
    "Working on three pillars of the code. Needs to work by Friday \n",
    "* Introduce freequency based attenuation on the sides to eliminate the periodic FWM \n",
    "* Write a test for a.u. to dBm/nm and then use it in the equation\n",
    "* add attenuation on the WDM systems themselves. \n",
    "\n",
    "From which:\n",
    "* done and tested\n",
    "* done and tested\n",
    "* Not needed\n",
    "\n",
    "# After that I should consider what to run this model on that would reduce to a 2 page abstract for CLEO. \n"
   ]
  },
  {
   "cell_type": "markdown",
   "metadata": {
    "collapsed": true
   },
   "source": [
    "# Entry 25/11/2016 Meeting\n",
    "\n",
    "Dave Richardson would like somethng in the 2000nm conversion. This can be done. \n",
    "\n",
    "\n",
    "Continue working on the program. Tests it etc And think of Novel things for CLEO USA."
   ]
  },
  {
   "cell_type": "markdown",
   "metadata": {
    "collapsed": true
   },
   "source": [
    "### Entry 30/11/2015\n",
    "I have written/tested and virigously changed the code to an acceptable result. I use hdf5 to export my data and export ALLOT of it. Next immediate thing is to looka t why the idler has a kink when the signal does not (the soliton hypothesis).\n",
    "\n"
   ]
  },
  {
   "cell_type": "markdown",
   "metadata": {
    "collapsed": true
   },
   "source": [
    "# The soliton hypothesis\n",
    "In order to get a soliton we will need a soliton umber being an intiger. With the soliton number being:\n",
    "\n",
    "\n",
    "$$ N = \\sqrt{\\frac{\\gamma P T^2}{\\left|\\beta_{2}\\right|}} = \\sqrt{\\frac{L_{D}}{L_{NL}}} $$\n",
    "\n",
    "Out of this we know gamma and $\\beta_2 = \\beta_3 \\left( \\omega_p - \\omega_0\\right) +\\frac{\\beta_4}{2} \\left(\\omega_p - \\omega_0\\right)^2$."
   ]
  },
  {
   "cell_type": "code",
   "execution_count": 2,
   "metadata": {
    "collapsed": true
   },
   "outputs": [],
   "source": [
    "from scipy.constants import c,pi\n",
    "def beta2_func(lamdap):\n",
    "    omegap = 2*pi*c/lamdap\n",
    "    omega0 = 2*pi*c/1051.85e-9\n",
    "    beta3 = 6.755e-2 *(1e-12)**3*1e-3\n",
    "    beta4 = -1.001e-4 * (1e-12)**4*1e-3\n",
    "    beta2 = (omegap - omega0)*beta3 + 0.5*beta4 * (omegap + omega0)**2\n",
    "    return beta2"
   ]
  },
  {
   "cell_type": "code",
   "execution_count": 3,
   "metadata": {
    "collapsed": false
   },
   "outputs": [
    {
     "name": "stdout",
     "output_type": "stream",
     "text": [
      "1.0358372214826923\n"
     ]
    }
   ],
   "source": [
    "beta2 = beta2_func(1047.5e-9)\n",
    "gamma = 10*1e-3\n",
    "T = 2.4e-12\n",
    "P = 12\n",
    "N = (gamma*P*T**2/(-1*beta2))**0.5\n",
    "print(N)"
   ]
  },
  {
   "cell_type": "markdown",
   "metadata": {
    "collapsed": true
   },
   "source": [
    "# Entry 2/12/2016\n",
    "### So it turns out there is no Soliton. \n",
    "Proof in:\n",
    "[No soliton!](graphs_for_logs/single_mode_single_dirrection/Post+processing+specific.pdf)"
   ]
  },
  {
   "cell_type": "markdown",
   "metadata": {
    "collapsed": true
   },
   "source": [
    "# Entry 3/12/2016\n",
    "So since there is no real result from the soliton story we look in to others. Peter has said top do:\n",
    "1. Play with pump wavelength (kind of done in the paper itself)\n",
    "2. Play with pump power (how much power is to much power?\n",
    "3. Integrate idler area for the **conversion efficiency**\n",
    "4. Seed\n",
    "    1. change power\n",
    "    2. change wavelength\n",
    "    3. see the amount of noise that is at the output\n",
    "5. Pulses"
   ]
  },
  {
   "cell_type": "markdown",
   "metadata": {},
   "source": [
    "Answers to these ideas:\n",
    "1. done that. not much to give\n",
    "2. Pump power. There seems to be a threshold at which the maximum gain is heard. [reference OPO theory book] **useless to look at powers** this shows in my result\n",
    "3. Integrate really? Nee dto think about this\n",
    "4. \n",
    "\n"
   ]
  },
  {
   "cell_type": "markdown",
   "metadata": {
    "collapsed": true
   },
   "source": [
    "### Entry 8/11/2016 On conversion efficiency\n",
    "\n",
    "In order to calculate the conversion efficiency one needs to find the power of the idler. \n",
    "\n",
    "But since the idler will move according to things like power, wavelength or if you seed we require a computational definition that wilkl be good for all.\n",
    "\n",
    "**Idler definition**: \n",
    "\n",
    "At the point of the FOPO reaching a steady state the wavelength of the idler is defined as the wavelgength that has the highest power at shorter wavelengths to thaat of the pump plus an error number. That error number is so that the amplified noise around the pump wavelength can be dissregarded. \n",
    "\n",
    "Note 1: This can also apply to the signal but in longer wavelengths.\n",
    "\n",
    "Note 2: consider thhat you seed the FOPO. But the idler is not what you would expect from the seed. The idler is still the one that has the highest power regadless. \n",
    "\n",
    "\n",
    "** conversion efficiency**:\n",
    "By conversion efficiiency I call the conversion efficiency of the FOPO ie what set in and what exists the FOPO. Not to be confused with the conversion efficiency of the fibre parametric amplifier. \n",
    "\n",
    "\n",
    "To get the conversion efficiency one needs to find what he will consider as the idler power. \n",
    "My default definition to this is:\n",
    "\n",
    "$$ CE = \\frac{P_{out}}{P_{in}}$$ \n",
    "\n",
    "In the case CW $$P_{in} = P_{p} + P_{s}$$ is the pump at the input. \n",
    "\n",
    "The idler pump however is found by:\n",
    "\n",
    "$$ P_{out} = \\frac{\\int^{a}_{b} \\left|U(f)\\right|^2 df}{T}$$\n",
    "\n",
    "where $a$ and $b$ are the limits. I set the limits as default to be : $a,b =  f_{i} +,- 5 $ $ Thz$"
   ]
  },
  {
   "cell_type": "markdown",
   "metadata": {},
   "source": [
    "# Entry meeting 9/12/2016\n",
    "You could also look in to how the steady state is achived. \n",
    "\n",
    "ie a graph of how the power reaches the steady state. "
   ]
  },
  {
   "cell_type": "markdown",
   "metadata": {},
   "source": [
    "# Entry beofre christmas on splice model etc\n",
    "\n",
    "The original splice losses that I had was wrong. My problem was that I was considering the powers and not the electric field. \n",
    "\n",
    "\n",
    "Firstly a little bit about the beam splitter model. \n",
    "We assume a **lossless** beam splitter with two input electric fields ($E_{in1}$,$E_{in2}$)  and two outputs ($E_{out1}$,$E_{out2}$). \n",
    "\n",
    "The output electric field is subject to the input from the matrix equation:\n",
    "\n",
    "$$\\begin{bmatrix}\n",
    "    E^{1}_{out}         \\\\\n",
    "    E^{2}_{out}      \n",
    "\\end{bmatrix} =\n",
    "\\begin{bmatrix}\n",
    "    c_1       & c_2 \\\\\n",
    "    -c_2       &  c_1 \n",
    "\\end{bmatrix}\\begin{bmatrix}\n",
    "    E^{1}_{out} \\\\\n",
    "    E^{2}_{out}      \n",
    "\\end{bmatrix}\n",
    "$$.\n",
    "\n",
    "\n",
    "The first coefficient $c_1$ is found by assuming that no input is comming in to input port 1 and the second comes from equationg that the total energy needs to be conserved:\n",
    " $$\n",
    "  \\left|E^{1}_{out} \\right|^2 + \\left|E^{2}_{out} \\right|^2 = \\left|E^{1}_{in} \\right|^2 + \\left|E^{2}_{in} \\right|^2\n",
    " $$\n",
    ".\n",
    "\n",
    "Now for the splice loss itself. It is simmilar to the WDM model but with the prime exception that it is not freequency dependent. \n",
    "\n",
    "If $L$ is the splice loss in $dB$ then $$L = 10 log \\left(\\frac{P_{out}}{P_{in}}\\right)$$ with $L<0dB$.\n",
    "\n",
    "Hence the power at the output 1 if there is no input at port 2 is:\n",
    "\n",
    "$$\\left|E^{1}_{out} \\right|^2 = P_{out1} = 10^{0.1L} P_{in1}$$\n",
    "\n",
    "and hence one can conclude $$c_{1} = 10^{0.1 L}$$\n",
    ".\n",
    "\n",
    "\n",
    "$c_{2}$ can then be found by using the conservation of energy above and is found to be:\n",
    "$c_{2} = \\pm \\left(1 - 10^{0.1 L} \\right)^{0.5}$\n",
    "\n",
    "\n",
    "**The same principle works on the WDM model**\n"
   ]
  },
  {
   "cell_type": "markdown",
   "metadata": {},
   "source": [
    "# Things to do after christmas on the FOPO system \n",
    "\n",
    "1. Find proof that teh NLSE works on the CW regime\n",
    "2. Look at the threshold power needed for our fopo and match it to the FOPO in the paper\n",
    "3. Figure out a concrete way to set a final sollution for the idler. 100 is sometimes to much and others not enough. \n",
    "4. Look at the discrepencies between the idler wavelengths that are coming out in the NLSE and what is actually expected by the basic theory. \n",
    "5. on the lter I used fsolve bove to inverseley clculte the pump wvelgth needed. I seem to be bit off originly, remember to run it."
   ]
  },
  {
   "cell_type": "code",
   "execution_count": null,
   "metadata": {
    "collapsed": true
   },
   "outputs": [],
   "source": []
  }
 ],
 "metadata": {
  "anaconda-cloud": {},
  "kernelspec": {
   "display_name": "Python [default]",
   "language": "python",
   "name": "python3"
  },
  "language_info": {
   "codemirror_mode": {
    "name": "ipython",
    "version": 3
   },
   "file_extension": ".py",
   "mimetype": "text/x-python",
   "name": "python",
   "nbconvert_exporter": "python",
   "pygments_lexer": "ipython3",
   "version": "3.5.2"
  }
 },
 "nbformat": 4,
 "nbformat_minor": 0
}
