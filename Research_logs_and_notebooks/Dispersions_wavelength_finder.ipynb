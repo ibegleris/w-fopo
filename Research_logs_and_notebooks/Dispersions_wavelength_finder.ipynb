{
 "cells": [
  {
   "cell_type": "code",
   "execution_count": 2,
   "metadata": {
    "collapsed": true
   },
   "outputs": [],
   "source": [
    "import sys\n",
    "from scipy.constants import c,pi\n",
    "import numpy as np\n",
    "from math import factorial\n",
    "import matplotlib.pyplot as plt\n",
    "from scipy.optimize import fsolve\n",
    "from scipy.constants import c\n",
    "import warnings \n",
    "warnings.filterwarnings('ignore')"
   ]
  },
  {
   "cell_type": "code",
   "execution_count": 3,
   "metadata": {
    "collapsed": true
   },
   "outputs": [],
   "source": [
    "import matplotlib\n",
    "font = {'family' : 'normal',\n",
    "        'size'   : 14}\n",
    "\n",
    "matplotlib.rc('font', **font)"
   ]
  },
  {
   "cell_type": "markdown",
   "metadata": {},
   "source": [
    "### Entry 27/1/2016\n",
    "Have taken a break from this so that to write a presentation for the CDT. Will have to take another break because of the poster the CDT is asking me to do.\n",
    "\n",
    "The specific fibre that we have been looking in to (zlobina) has been measured by them and shown in a paper in 2012 (Ekaterina A. Zlobina, Sergey I. Kablukov, and Sergey A. Babin, \"Phase matching for parametric generation in polarization maintaining photonic crystal fiber pumped by tunable Yb-doped fiber laser,\" J. Opt. Soc. Am. B 29, 1959-1967 (2012) ).\n",
    "Within that she explains that in that fibre $\\beta_2 = 0$ THIS EXPLAINS MY CONFUSION!\n",
    "\n",
    "In the appendix she is kind enough to do the calculations for the phase missmatch up to $\\beta_5$. Along with my inclusion for $\\beta_2$ which she dissregards we have:\n",
    "\n",
    "$$\n",
    "\\Delta \\beta = \\beta(\\omega_p +\\Omega) + \\beta(\\omega_p -\\Omega) - 2\\beta(\\omega)\n",
    "$$\n",
    "\n",
    "And a central freequency $\\omega_0$ we have $\\omega = \\omega_p - \\omega_0$\n",
    "\n",
    "Within the expansion:\n",
    "\n",
    "$\\beta_0, beta_1$ drops out:\n",
    "\n",
    "* $\\beta_2 \\Rightarrow \\beta_2 \\Omega^2$\n",
    "* $\\beta_3 \\Rightarrow \\beta_3 \\omega \\Omega^2$\n",
    "* $\\beta_4 \\Rightarrow \\frac{\\beta_4}{12} \\Omega^2\\left(\\omega^2  + \\Omega^2 \\right)$\n",
    "* $\\beta_5 \\Rightarrow \\frac{\\beta_5}{12} \\Omega^2 \\omega\\left(2\\omega^3  + \\Omega^2 \\right)$\n",
    "\n",
    "\n",
    "\n",
    "So \n",
    "$$\n",
    "\\Delta \\beta (\\Omega) = \\Omega \\left[\\left(\\frac{\\beta_4}{12} + \\omega \\frac{\\beta_5}{12} \\right) \\Omega^{3} + \\left(\\beta_2+ \\omega \\beta_3 + \\omega^{2}\\frac{\\beta_4}{2} + \\omega^{3} \\frac{\\beta_5}{6}\\right) \\Omega \\right]\n",
    "$$\n",
    "\n",
    "\n",
    "From the agrawal (no pump depletion), which we can assume in these cases since the fibre is not that long. Pase matching occurs when:\n",
    "\n",
    "\n",
    "$$\n",
    "\\Delta \\beta ^{'} = \\Delta \\beta + 2 \\gamma P_{0} = 0 \n",
    "$$\n",
    "\n",
    "Then with \n",
    "\n",
    "$$\n",
    "a = \\frac{\\beta_4}{12} + \\omega \\frac{\\beta_5}{12}\n",
    "$$\n",
    "\n",
    "$$\n",
    "b = \\beta_2+ \\omega \\beta_3 + \\omega^{2}\\frac{\\beta_4}{2} + \\omega^{3} \\frac{\\beta_5}{6}\n",
    "$$\n",
    "\n",
    "and \n",
    "\n",
    "$$\n",
    "c = 2 \\gamma P_{0}\n",
    "$$\n",
    "\n",
    "Phase matching will occur at:\n",
    "\n",
    "$$\n",
    "\\Omega = \\sqrt{\\frac{-b \\pm \\sqrt{b^2 - 4 a c}}{2a}}\n",
    "$$\n",
    "\n",
    ", with omega real and possitive.\n",
    "\n",
    "HOWEVER remember difference in $\\omega$ does not mean difference in $\\lambda$.\n",
    "\n",
    "\n",
    "The parametric $\\lambda's$ are found by:\n",
    "\n",
    "$$\\lambda_s = \\lambda_p + \\frac{\\Omega \\lambda^2_p}{(2\\pi c - \\Omega \\lambda_p)}$$\n",
    "\n",
    "$$\\lambda_i = \\lambda_p + \\frac{\\Omega \\lambda^2_p}{(-2\\pi c - \\Omega \\lambda_p)}$$"
   ]
  },
  {
   "cell_type": "code",
   "execution_count": 4,
   "metadata": {
    "collapsed": true
   },
   "outputs": [],
   "source": [
    "def betas_transf(lamda, lamda_c, betas):\n",
    "    c_norm = c  # Speed of light [m/ps] \n",
    "    wc = 2*pi * c_norm / lamda\n",
    "    w0 = 2*pi * c_norm / lamda_c\n",
    "    betap = np.zeros_like(betas)\n",
    "    for i in range(1):\n",
    "        for j in range(len(betas.T)):\n",
    "            if j ==0:\n",
    "                betap[i,j] = betas[i,j]\n",
    "            fac = 0\n",
    "            for k in range(j, len(betas.T)):\n",
    "                #print(j,k, factorial(fac), betas[i, k], (wc - w0)**(fac))\n",
    "                betap[i, j] += factorial(fac)**(-1) * \\\n",
    "                    betas[i, k] * (wc - w0)**(fac)\n",
    "                fac += 1\n",
    "    return betap[0]\n",
    "\n",
    "\n",
    "def domega(omegap,omega0,beta,gama, P0):\n",
    "    omega = omegap - omega0\n",
    "    a = beta[4]/12 + omega * beta[5]/12\n",
    "    b = beta[2]+ omega*beta[3] +omega**2 * beta[4]/2 + omega**3 * beta[5]/6\n",
    "    c = 2 * gama * P0\n",
    "    \n",
    "    det = b**2 - 4 * a * c\n",
    "    if det >= 0:\n",
    "        Omega = (-b + det**0.5)/(2*a)\n",
    "        \n",
    "        if Omega <0:\n",
    "            Omega = (-b - det**0.5)/(2*a)\n",
    "        if Omega <0:\n",
    "            print(\"No real solution!\")\n",
    "            sys.exit(\"No real solution!\")\n",
    "        else:\n",
    "            #print(Omega)\n",
    "            return Omega**0.5\n",
    "    else:\n",
    "        print(' No real sollution in the det', det)\n",
    "        sys.exit(' No real sollution in the det', det)\n",
    "\n",
    "    return 1\n",
    "\n",
    "def dlamda_sig(Omega,lamdap):\n",
    "    return Omega * lamdap**2 / (2* pi* c - Omega * lamdap)*1e9\n",
    "\n",
    "def dlamda_idl(Omega,lamdap):\n",
    "    return Omega * lamdap**2 / (-2* pi* c - Omega * lamdap)*1e9"
   ]
  },
  {
   "cell_type": "code",
   "execution_count": 5,
   "metadata": {
    "collapsed": true
   },
   "outputs": [],
   "source": [
    "\n",
    "def plot(sols):\n",
    "    N = 2**15\n",
    "    lamdap_const = sols\n",
    "    lamdaps = np.linspace(1046e-9,1054e-9,N)\n",
    "    lamdaps = np.ndarray.tolist(lamdaps)\n",
    "    lami = []\n",
    "    lams = []\n",
    "    for lamdap in lamdaps:\n",
    "        betas = betas_or[0]#betas_transf(lamdap,lamda0,betas_or)\n",
    "        Omega  = domega(2*pi *c /lamdap,2*pi *c /lamda0,betas,10*1e-3,15)\n",
    "        dlamda_s = dlamda_sig(Omega,lamdap)\n",
    "        dlamda_i = dlamda_idl(Omega,lamdap)\n",
    "        lami.append(lamdap*1e9 + dlamda_i)\n",
    "        lams.append(lamdap*1e9 + dlamda_s)\n",
    "    lamdaps = [i*1e9 for i in lamdaps]\n",
    "\n",
    "    loc = np.argsort(np.abs(np.asanyarray(lamdaps) - lamdap_const*1e9))[0] # location of the lamda0\n",
    "    fig = plt.figure(figsize= (10,6))\n",
    "    plt.plot(lamdaps,lami, label=r'$\\lambda_i$')\n",
    "    plt.plot(lamdaps,lams, label=r'$\\lambda_s$')\n",
    "    #plt.plot((lamdap_const*1e9,lamdap_const*1e9),(900,1250), label='asked_for_wavelength')\n",
    "    plt.plot((lamda_slow*1e9,lamda_slow*1e9),(900,1250), label=r'$\\lambda_z$')\n",
    "    #print(lamda_slow)\n",
    "    plt.gca().get_yaxis().get_major_formatter().set_useOffset(False)\n",
    "    plt.gca().get_xaxis().get_major_formatter().set_useOffset(False)\n",
    "    plt.ylabel('Parametric wavelength (nm)')\n",
    "    plt.ylim([900,1250])\n",
    "    #plt.legend(loc=1)\n",
    "    plt.xlabel('Pump wavelength (nm)')\n",
    "    print(\"The asked for pump wavelength \", lamdap_const*1e9,\"nm results in hits of:\",lami[loc] ,\"nm idler and:\",lams[loc],\"nm signal.\",)\n",
    "    plt.savefig('sidepands.pdf', bbox_inches = 'tight')\n",
    "    plt.legend()\n",
    "    plt.show()\n",
    "    return lamdap_const*1e9, lami[loc], lams[loc]\n"
   ]
  },
  {
   "cell_type": "code",
   "execution_count": 6,
   "metadata": {
    "collapsed": true
   },
   "outputs": [],
   "source": [
    "def find_dlami(lamp,lamisol, lamda0, betas):\n",
    "    betas = betas_transf(lamp,lamda0,betas_or)\n",
    "    Omega  = domega(2*pi *c /lamp,2*pi *c /lamda0,betas,10e-3,7)\n",
    "    dlamda_i = dlamda_idl(Omega,lamp)\n",
    "    dlamda_s = dlamda_sig(Omega,lamp)\n",
    "    lami = lamp*1e9 + dlamda_i\n",
    "    lams = lamp*1e9 + dlamda_s\n",
    "    return lami - lamisol*1e9"
   ]
  },
  {
   "cell_type": "code",
   "execution_count": 7,
   "metadata": {
    "collapsed": true
   },
   "outputs": [],
   "source": [
    "beta0 = 0\n",
    "beta1 = 0\n",
    "beta2 = 0\n",
    "beta3 = 6.756e-2 *(1e-12)**3*1e-3\n",
    "beta4 = -1.002e-4 * (1e-12)**4*1e-3\n",
    "beta5 = 3.671*1e-7*(1e-12)**5*1e-3\n",
    "betas_or = np.array([[0, 0, 0, 6.756e-2*(1e-12)**3, -1.002e-4*(1e-12)**4, 3.671e-7*(1e-12)**5]])*1e-3\n",
    "lamda_fast, lamda_slow = 1052.95e-9, 1051.85e-9\n",
    "lamda0 =  lamda_slow"
   ]
  },
  {
   "cell_type": "code",
   "execution_count": 8,
   "metadata": {},
   "outputs": [
    {
     "name": "stdout",
     "output_type": "stream",
     "text": [
      "The asked for pump wavelength  1051.67962295 nm results in hits of: 1003.83993413 nm idler and: 1104.30723779 nm signal.\n"
     ]
    }
   ],
   "source": [
    "#%matplotlib inline\n",
    "pump_tot = []\n",
    "lams_tot = ()\n",
    "lami_search_vec = [931, 942,919.7,925.3,931.4,940.5,930,940]\n",
    "lami_search_vec = [1004.5]#1300\n",
    "#lami_search_vec = [907.071587257, 914.682221613, 917.462384898, 926.920155732, 932.870539474, 944.603966761]\n",
    "for i, lami_search in enumerate(lami_search_vec):\n",
    "    sol = fsolve(find_dlami,1050e-9, args = (lami_search*1e-9,lamda0, betas_or))[0]\n",
    "    pump_tot.append(sol)\n",
    "\n",
    "    find_dlami(sol,931e-9, lamda0, betas_or)\n",
    "    ccc = plot(pump_tot[i])[2]\n",
    "    lams_tot += (ccc,)\n",
    "#c = plot(sol)[2]\n",
    "pump_tot = [i * 1e9 for i in pump_tot]"
   ]
  },
  {
   "cell_type": "code",
   "execution_count": 9,
   "metadata": {},
   "outputs": [
    {
     "name": "stdout",
     "output_type": "stream",
     "text": [
      "1104.30723779 1051.67962295 1004.5\n"
     ]
    }
   ],
   "source": [
    "for i in range(len(lams_tot)):\n",
    "    print(lams_tot[i], pump_tot[i], lami_search_vec[i])\n"
   ]
  },
  {
   "cell_type": "code",
   "execution_count": 10,
   "metadata": {
    "collapsed": true
   },
   "outputs": [],
   "source": [
    "lam_p_del = [1047.0, 1047.6, 1047.8, 1048.5, 1048.9, 1049.6]"
   ]
  },
  {
   "cell_type": "markdown",
   "metadata": {},
   "source": [
    "# Finding L1, L2\n",
    "The attenuation of the system in units of decibels is relates to the transmitence T as:\n",
    "\n",
    "$$\n",
    "\\alpha_{tot} = -10 \\log\\left(T\\right)\n",
    "$$\n",
    ".\n",
    "\n",
    "Since the splices for PCF is considered to be high two different types of splice losses are assumed. The first $l_1$ is considered the splice loss for the PCF and the second $l_2$ descibes the rest of the losses within the system. \n",
    "\n",
    "The total loss in units of dB within our system is found to be:\n",
    "\n",
    "$$\n",
    "\\alpha_{tot}\\left(\\lambda\\right) = 2 l_{1} + k l_{2} + l_{fibre} - \\sum^{N}_{i = 1}10 \\log\\left(WDM^{(i)}_{p^{(i)}}\\left(\\lambda\\right)\\right)\n",
    "$$\n",
    ", where $p{(i)}$ is the port that light light is to travel. \n",
    "\n",
    "\n",
    "Within the test case $1.4 dB$ loss was quoted within the cavity for a wavelength of $1205nm$ with $1dB$ being given to the loss of the fibre and the PCF losses. \n",
    "\n",
    "Since the fibre loss along the length of the fibre is quoted as $a_{L} \\cdot L = 0.021dB$ the splice loss can be calculated as\n",
    "\n",
    "$$\n",
    "2 \\cdot l_{1} + a_{L} \\cdot L = 1 \\Rightarrow l_{1} = \\frac{1 -  a_{L} \\cdot L}{2} =  \\frac{1 -   0.021}{2} = 0.4895 dB.\n",
    "$$\n",
    "\n",
    "Within the cavity the signal is high at the wavelength of: \n",
    "\n",
    "Furthermore from this one can consider the second splice loss by taking the loss of the wdm 1, 2 for the signal as:\n",
    "* port2 of WDM1\n",
    "* port2 of WDM2\n",
    "\n",
    "again as above but now with the ring (2 small splices) and the WDM losses with respect to the signal ports. \n",
    "The equation to be solved is then:\n",
    "$$\n",
    "T(1200) = WDM^{(1)}_{p2}\\left(1200 \\right) + WDM^{(2)}_{p2}\\left(1200 \\right) - 2 l_{1} - 3 l_{2} - l_{fibre}\n",
    "$$\n",
    "\n",
    "\n",
    "Hence the loss of the second splice can be found by:\n",
    "$$\n",
    "l_{2} =  \\frac{T(1200) - WDM^{(1)}_{p2}\\left(1200 \\right) - WDM^{(2)}_{p2}\\left(1200 \\right) + 2 l_{1} + l_{fibre}}{3}\n",
    "$$"
   ]
  },
  {
   "cell_type": "code",
   "execution_count": 11,
   "metadata": {
    "collapsed": true
   },
   "outputs": [],
   "source": [
    "def dB(x):\n",
    "    if type(x) is type(1.):\n",
    "        if x< 1e-16:\n",
    "            return 0\n",
    "    #elif type(x) = type(np.array([1])):\n",
    "    return 10*np.log10(x)"
   ]
  },
  {
   "cell_type": "code",
   "execution_count": 12,
   "metadata": {
    "collapsed": true
   },
   "outputs": [],
   "source": [
    "def l2_f(lamda, T, l1):\n",
    "    num = dB(1/T)  - 2 *l1 - 0.021 + dB(WDM1.il_port2()) +  dB(WDM2.il_port2())\n",
    "    return num/3"
   ]
  },
  {
   "cell_type": "code",
   "execution_count": 13,
   "metadata": {
    "collapsed": true
   },
   "outputs": [],
   "source": [
    "from functions import WDM\n",
    "lv = np.linspace(850, 1500, 2**14)\n",
    "fv = 1e-3*c/lv\n",
    "WDM1 = WDM(1048., 1198.64,fv,c)\n",
    "WDM2 = WDM(930.998,  1198.64, fv,c)\n",
    "WDM3 = WDM(930, 1050,fv,c)\n",
    "WDM4 = WDM(930, 1200,fv,c)\n",
    "#[1048., 1198.64], \t\n",
    "#\t\t\t\t[930.998,  1198.64]\n",
    "#WDM1 = WDM(1051.16, 1116.4,fv,c)\n",
    "#WDM2 = WDM(989.1325877622734, 1116.4, fv,c)\n",
    "#WDM3 = WDM(989.1325877622734, 1051.16,fv,c)\n",
    "#WDM4 = WDM(989.1325877622734, 1116.4,fv,c)"
   ]
  },
  {
   "cell_type": "code",
   "execution_count": 14,
   "metadata": {
    "collapsed": true
   },
   "outputs": [],
   "source": [
    "def db(x):\n",
    "    return 10*np.log10(x)\n",
    "\n",
    "def wdm_losses(l):\n",
    "    return db(WDM1.il_port2(l)) + db(WDM2.il_port2(l))# + db(WDM3.il_port1(l)) + db(WDM3.il_port1(l))\n",
    "    \n",
    "\n",
    "def total_loss(l, l1,l2):\n",
    "    return  -l1 + wdm_losses(l)# - 0.021\n",
    "\n",
    "def totalT(l,l1, l2):\n",
    "    return 10**(total_loss(l,l1,l2)/10)"
   ]
  },
  {
   "cell_type": "code",
   "execution_count": 15,
   "metadata": {
    "collapsed": true
   },
   "outputs": [],
   "source": [
    "l1 = 1.4\n",
    "l2 = 0\n",
    "#l2 = l2_f(1200, 0.72, l1)\n",
    "#print('the splice loss of the small loss ones is:', l2, 'dB')"
   ]
  },
  {
   "cell_type": "code",
   "execution_count": 16,
   "metadata": {
    "collapsed": true
   },
   "outputs": [],
   "source": [
    "l_p, l_s,l_i  =1048.17107345, 1200.36820373, 930"
   ]
  },
  {
   "cell_type": "code",
   "execution_count": 17,
   "metadata": {
    "collapsed": true
   },
   "outputs": [],
   "source": [
    "fp = 1e-3*c/1048.17107345"
   ]
  },
  {
   "cell_type": "code",
   "execution_count": 18,
   "metadata": {},
   "outputs": [
    {
     "name": "stdout",
     "output_type": "stream",
     "text": [
      "1048.17107345 1048.17107345\n",
      "1.51038100351e-06 1.51038100351e-06\n"
     ]
    }
   ],
   "source": [
    "df = 0\n",
    "fp1 = fp-df\n",
    "fp2 = fp+df\n",
    "lp1, lp2 = 1e-3*c/fp1, 1e-3*c/fp2\n",
    "print(lp1,lp2)\n",
    "print(totalT(lp1,1.4, 0), totalT(lp2,1.4, 0))"
   ]
  },
  {
   "cell_type": "code",
   "execution_count": 19,
   "metadata": {
    "collapsed": true
   },
   "outputs": [],
   "source": [
    "WDM1 = WDM(l_p, l_s,fv,c)\n",
    "WDM2 = WDM(l_i, l_s, fv,c)\n",
    "WDM3 = WDM(l_i, l_p,fv,c)\n",
    "WDM4 = WDM(l_i, l_s,fv,c)"
   ]
  },
  {
   "cell_type": "code",
   "execution_count": 20,
   "metadata": {
    "collapsed": true
   },
   "outputs": [],
   "source": [
    "f_sig = 1e-3 * c/l_s\n",
    "f_p = 1e-3 * c/l_p\n",
    "f_c = f_sig - f_p +f_sig\n",
    "f_i = f_p +f_p -f_sig"
   ]
  },
  {
   "cell_type": "code",
   "execution_count": 21,
   "metadata": {},
   "outputs": [
    {
     "name": "stdout",
     "output_type": "stream",
     "text": [
      "1204.8226268327246\n"
     ]
    }
   ],
   "source": [
    "fs = 1e-3*c/1200 -1\n",
    "ls2 = 1e-3*c/fs\n",
    "print(ls2)"
   ]
  },
  {
   "cell_type": "code",
   "execution_count": 22,
   "metadata": {},
   "outputs": [
    {
     "data": {
      "text/plain": [
       "0.63234005021502249"
      ]
     },
     "execution_count": 22,
     "metadata": {},
     "output_type": "execute_result"
    }
   ],
   "source": [
    "totalT(1237.8226268327246,1.4, 0)"
   ]
  },
  {
   "cell_type": "code",
   "execution_count": 23,
   "metadata": {},
   "outputs": [
    {
     "data": {
      "text/plain": [
       "0.48018662246911203"
      ]
     },
     "execution_count": 23,
     "metadata": {},
     "output_type": "execute_result"
    }
   ],
   "source": [
    "totalT(1141.26,1.4, 0)"
   ]
  },
  {
   "cell_type": "code",
   "execution_count": 24,
   "metadata": {},
   "outputs": [
    {
     "data": {
      "text/plain": [
       "0.48018662246911203"
      ]
     },
     "execution_count": 24,
     "metadata": {},
     "output_type": "execute_result"
    }
   ],
   "source": [
    "totalT(1141.26,1.4, 0)"
   ]
  },
  {
   "cell_type": "code",
   "execution_count": 25,
   "metadata": {
    "collapsed": true
   },
   "outputs": [],
   "source": [
    "fig = plt.figure(figsize=(8, 4.0))\n",
    "plt.gca().get_yaxis().get_major_formatter().set_useOffset(False)\n",
    "plt.plot(1e-3*c/lv, 100*totalT(lv,l1, l2))\n",
    "#plt.axvline(f_sig, label = 'Signal',color='b')\n",
    "#plt.axvline(f_c, label = 'cascade',color='r')\n",
    "#plt.axvline(f_p, label = 'pump',color='m')\n",
    "#plt.axvline(f_i, label = 'idler',color='k')\n",
    "plt.xlabel(r'$f \\left(THz \\right)$')\n",
    "#plt.xlim(1050, 1250)\n",
    "plt.ylim(0,75)\n",
    "#plt.legend()\n",
    "plt.ylabel(r'$T \\left(\\% \\right)$')\n",
    "plt.savefig('stable.png')\n",
    "#plt.title(['max at', np.max(100*totalT(lv,l1, l2))])\n",
    "plt.show()"
   ]
  },
  {
   "cell_type": "code",
   "execution_count": 26,
   "metadata": {
    "collapsed": true
   },
   "outputs": [],
   "source": [
    "def tick_function(X):\n",
    "    V = 1e-3*c/X\n",
    "    return [\"%.0f\" % z for z in V]"
   ]
  },
  {
   "cell_type": "code",
   "execution_count": 31,
   "metadata": {
    "collapsed": true
   },
   "outputs": [],
   "source": [
    "lv_shown = np.array([931,1048,1200,1400])"
   ]
  },
  {
   "cell_type": "code",
   "execution_count": 32,
   "metadata": {
    "collapsed": true
   },
   "outputs": [],
   "source": [
    "fig = plt.figure(figsize=(5.6, 4.0))\n",
    "ax1 = fig.add_subplot(111)\n",
    "ax2 = ax1.twiny()\n",
    "\n",
    "ax1.plot(1e-3*c/lv, 100*totalT(lv,l1, l2))\n",
    "ax1.set_xlabel(r'$f$ $\\left(THz \\right)$')\n",
    "\n",
    "new_tick_locations = 1e-3*c/lv_shown\n",
    "ax1.set_ylabel(r'$T \\left(\\% \\right)$')\n",
    "\n",
    "\n",
    "ax2.set_xlim(ax1.get_xlim())\n",
    "ax2.set_xticks(new_tick_locations)\n",
    "ax2.set_xticklabels(tick_function(new_tick_locations))\n",
    "ax2.set_xlabel(r\"$\\lambda$ $\\left(n m \\right)$\")\n",
    "plt.savefig('Transmitence.pdf', bbox_inches = 'tight')\n",
    "plt.show()"
   ]
  },
  {
   "cell_type": "code",
   "execution_count": null,
   "metadata": {
    "collapsed": true
   },
   "outputs": [],
   "source": [
    "#%matplotlib inline\n",
    "fig = plt.figure(figsize=(20.0, 10.0))\n",
    "plt.gca().get_yaxis().get_major_formatter().set_useOffset(False)\n",
    "plt.plot(1e-3*c/lv, 100*totalT(lv,l1, l2))\n",
    "plt.axvline(f_sig, label = 'Signal',color='b')\n",
    "plt.axvline(f_c, label = 'cascade',color='r')\n",
    "plt.axvline(f_p, label = 'pump',color='m')\n",
    "plt.axvline(f_i, label = 'idler',color='k')\n",
    "plt.xlabel(r'$f(THz)$')\n",
    "#plt.xlim(1050, 1250)\n",
    "plt.ylim(0,80)\n",
    "plt.legend()\n",
    "plt.ylabel(r'$T$')\n",
    "plt.savefig('stable.png')\n",
    "#plt.title(['max at', np.max(100*totalT(lv,l1, l2))])\n",
    "plt.show()"
   ]
  },
  {
   "cell_type": "code",
   "execution_count": null,
   "metadata": {
    "collapsed": true
   },
   "outputs": [],
   "source": [
    "totalT(1123.97515934,l1,l2)"
   ]
  },
  {
   "cell_type": "markdown",
   "metadata": {},
   "source": [
    "According to the theory from the FOPO book the theoretical threshold limit is found to be:"
   ]
  },
  {
   "cell_type": "code",
   "execution_count": null,
   "metadata": {
    "collapsed": true
   },
   "outputs": [],
   "source": [
    "from math import acosh\n",
    "import numpy as np\n",
    "acosh = np.vectorize(acosh)\n",
    "def P_th(T, g , L):\n",
    "    a = (g*L)**(-1)\n",
    "    b = acosh(np.sqrt(T)**(-1))\n",
    "    return a*b\n"
   ]
  },
  {
   "cell_type": "code",
   "execution_count": null,
   "metadata": {
    "collapsed": true
   },
   "outputs": [],
   "source": [
    "pth = P_th(totalT(lv,l1, l2),10e-3, 18)"
   ]
  },
  {
   "cell_type": "code",
   "execution_count": null,
   "metadata": {
    "collapsed": true
   },
   "outputs": [],
   "source": [
    "P_th(totalT(1120,l1, l2),10e-3, 18)"
   ]
  },
  {
   "cell_type": "code",
   "execution_count": null,
   "metadata": {
    "collapsed": true
   },
   "outputs": [],
   "source": [
    "#%matplotlib inline\n",
    "#fig = plt.figure(figsize=(20,10))\n",
    "plt.plot(lv, pth)\n",
    "plt.title([np.min(pth), lv[np.argmin(pth)]])\n",
    "plt.ylim(0,20)"
   ]
  },
  {
   "cell_type": "code",
   "execution_count": null,
   "metadata": {
    "collapsed": true
   },
   "outputs": [],
   "source": [
    "from fft_module import *"
   ]
  },
  {
   "cell_type": "code",
   "execution_count": null,
   "metadata": {
    "collapsed": true
   },
   "outputs": [],
   "source": [
    "fft,ifft,method = pick(100,2,1000,1)"
   ]
  },
  {
   "cell_type": "code",
   "execution_count": null,
   "metadata": {
    "collapsed": true
   },
   "outputs": [],
   "source": [
    "N_big = []\n",
    "t_small = []\n",
    "t = []\n",
    "for n in range(1,17):\n",
    "    N =  2**n\n",
    "    A = np.random.rand(N) + 1j * np.random.rand(N) \n",
    "    for i in range(10000):\n",
    "        t1 = time()\n",
    "        A = ifft(A)\n",
    "        dt = time() - t1\n",
    "        t_small.append(dt)\n",
    "    t.append(np.average(t_small))\n",
    "    N_big.append(N)"
   ]
  },
  {
   "cell_type": "code",
   "execution_count": null,
   "metadata": {
    "collapsed": true
   },
   "outputs": [],
   "source": [
    "import matplotlib.pyplot as plt\n",
    "#%matplotlib inline\n",
    "plt.plot(np.log2(N_big), np.log(np.asanyarray(t)*1e6))\n",
    "plt.xlabel('log2(Num of points)')\n",
    "plt.ylabel('time (us)')\n",
    "plt.title('Intel scipy')\n",
    "#plt.savefig('intel_scipy.png')"
   ]
  },
  {
   "cell_type": "code",
   "execution_count": null,
   "metadata": {
    "collapsed": true
   },
   "outputs": [],
   "source": [
    "100*10**(-np.arange(0.5,5.5,1)[::-1]/10)"
   ]
  },
  {
   "cell_type": "code",
   "execution_count": null,
   "metadata": {
    "collapsed": true
   },
   "outputs": [],
   "source": []
  }
 ],
 "metadata": {
  "kernelspec": {
   "display_name": "Python 3",
   "language": "python",
   "name": "python3"
  },
  "language_info": {
   "codemirror_mode": {
    "name": "ipython",
    "version": 3
   },
   "file_extension": ".py",
   "mimetype": "text/x-python",
   "name": "python",
   "nbconvert_exporter": "python",
   "pygments_lexer": "ipython3",
   "version": "3.6.2"
  }
 },
 "nbformat": 4,
 "nbformat_minor": 2
}
