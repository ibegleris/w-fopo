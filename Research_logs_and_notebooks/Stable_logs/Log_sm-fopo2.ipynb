{
 "cells": [
  {
   "cell_type": "code",
   "execution_count": 1,
   "metadata": {},
   "outputs": [
    {
     "data": {
      "application/javascript": [
       "IPython.OutputArea.prototype._should_scroll = function(lines) {\n",
       "    return false;\n",
       "}"
      ],
      "text/plain": [
       "<IPython.core.display.Javascript object>"
      ]
     },
     "metadata": {},
     "output_type": "display_data"
    }
   ],
   "source": [
    "%%javascript\n",
    "IPython.OutputArea.prototype._should_scroll = function(lines) {\n",
    "    return false;\n",
    "}"
   ]
  },
  {
   "cell_type": "markdown",
   "metadata": {},
   "source": [
    "# Log of fopo 2\n"
   ]
  },
  {
   "cell_type": "markdown",
   "metadata": {},
   "source": [
    "Following from allot of work the unidirectional fopo based on wdm's is created. The model allows to be seeded as well and has a robust code."
   ]
  },
  {
   "cell_type": "markdown",
   "metadata": {},
   "source": [
    "### The essence of convergence\n",
    "One important thing that needs to be addressed is the essence of when the fopo spectrum has converged.\n",
    "A meeting with Stephen upon the subject resulted in two ideas I could pursue for it. \n",
    "Using the power spectrum calculated at every round trip I could characterise convergence by either:\n",
    "* Moving average of the power\n",
    "* Confidence intervals"
   ]
  },
  {
   "cell_type": "markdown",
   "metadata": {
    "collapsed": true
   },
   "source": [
    "# Entry Applying the moving averages\n",
    "There are multiple types of moving averages mainly the Simple moving average (SMA) or exponential moving average (EMA). The later stating that the later values are more important that the first.\n",
    "\n",
    "#### Possition of the power\n",
    "Firstly we need a system to make sure that we are calculating the entire output limits.\n",
    "\n",
    "In particular I have thought of copying what my eye sees. Find the maximum right (in the frequency spectrum) from the middle "
   ]
  },
  {
   "cell_type": "markdown",
   "metadata": {},
   "source": [
    "# MOVING AVERAGE HAS FAILED\n",
    "\n",
    "The idea of the moving average is not acceptable. Sometimes convergence is said to be reahced but it is a false convergence. There is and always will need to be the need to guess and estimate the number of round trips needed. "
   ]
  },
  {
   "cell_type": "markdown",
   "metadata": {},
   "source": [
    "# RIN and Linewidth\n",
    "### RIN\n",
    "The RIN we have found to be defined by the ratio of the varience and the average power [reference optical communications book]. Now the dBc/Hz unit there does not work really so some form of time window needs to be considred. His definition is:\n",
    "\n",
    "$$\n",
    "\\mathrm{RIN}(dBc/hz) = 10 log \\left(\\frac{\\mathrm{varience}}{<P>} \\cdot t_{\\mathrm{round}} \\right),\n",
    "$$\n",
    "where the average power and the varience is the average power at the ending roundtrips and the $t_{\\mathrm{round}}$ the round trip time.\n",
    "\n",
    "FOr the round trip time we assume silica and get the speed of the pulse and get it to be:\n",
    "\n",
    "$$\n",
    "t = \\frac{L n}{c},\n",
    "$$\n",
    "\n",
    "where L is the length of the fibre, n the refractive index taken to be silica dn c the speed of light.\n",
    "\n",
    "### Linewidth\n",
    "The second thing to establish the noise term would be the FWHM or 3dB linewidth of the output. In this situation we will need to:\n",
    "1. average over a number of frequency spectum to get rid of the noise\n",
    "2. find the 3db points (might not exist if normal cw)\n",
    "3. get the FWHM from that\n",
    "\n",
    "\n",
    "#### POint: RIN is ready and calculated. Need to implement the linewidth"
   ]
  },
  {
   "cell_type": "code",
   "execution_count": null,
   "metadata": {
    "collapsed": true
   },
   "outputs": [],
   "source": []
  }
 ],
 "metadata": {
  "kernelspec": {
   "display_name": "Python 3",
   "language": "python",
   "name": "python3"
  },
  "language_info": {
   "codemirror_mode": {
    "name": "ipython",
    "version": 3
   },
   "file_extension": ".py",
   "mimetype": "text/x-python",
   "name": "python",
   "nbconvert_exporter": "python",
   "pygments_lexer": "ipython3",
   "version": "3.6.2"
  }
 },
 "nbformat": 4,
 "nbformat_minor": 2
}
