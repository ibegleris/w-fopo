{
 "cells": [
  {
   "cell_type": "markdown",
   "metadata": {},
   "source": [
    "# Log for the FOPO with a non-uniform dispersion in Fibre"
   ]
  },
  {
   "cell_type": "markdown",
   "metadata": {
    "collapsed": true
   },
   "source": [
    "This is the log for the wobbly fibre oscillator. The code is initally derived from the SM-FOPO and the objectives of this project is tto prove:\n",
    "* The random variations in a fibre are detrimental to FWM in FOPA\n",
    "* Smaller length fibres can have better results since the variations are smaller\n",
    "* A FOPO with a small fibre is better for CE\n"
   ]
  },
  {
   "cell_type": "markdown",
   "metadata": {},
   "source": [
    "#### Points of interest:\n",
    "Fistly on the outside the fibre propagation will be the only part that is changed from the FOPO code. In specifics:\n",
    "* We will cut the fibre in to small pieces that have constant fibre parameters over the length of propagation. \n",
    "* Sequentially use the NLSE on those parts for varrying: Dispersion, Effective area and maybe ??polarisation??. \n",
    "\n",
    "The main parameter that will cause the variation is the radius in a step-index fibre:\n",
    "* The standard deviation of the radius is quoted as 1% in [Four-wave mixing in fibers with randomly varying zero-dispersion wavelength] which also quotes 0.02% in the refractive index difference.\n",
    "* From the std of this we can consider the dispersion and effective area\n",
    "\n",
    "### Polarisation\n",
    "* One thing that should be addressed is the polarisation of the beam\n",
    "* While the theory behind [Intermodal Four-Wave-Mixing and Parametric Amplification in km-long Fibers] can be applied to the fibre propagation there is the thought of keeping that vector identity for the next round oscillation since there will be a difference in the dirrection of the field.\n",
    "    * We can either apply a polarisation controller on the field before meeting the next round\n",
    "    * Keep the dirrection of the field in memory ie move to a vector identity\n",
    "\n",
    "   #### After a talk with Peter on the subject:\n",
    "    * We could consider a two-mode (LP01a and LP01b) from the multimode equation instead.\n",
    "    * additionally we would work on the WDM's that would operate independent of polarisation. But to also release two different polarisations.\n"
   ]
  },
  {
   "cell_type": "code",
   "execution_count": null,
   "metadata": {
    "collapsed": true
   },
   "outputs": [],
   "source": []
  }
 ],
 "metadata": {
  "kernelspec": {
   "display_name": "Python 3",
   "language": "python",
   "name": "python3"
  },
  "language_info": {
   "codemirror_mode": {
    "name": "ipython",
    "version": 3
   },
   "file_extension": ".py",
   "mimetype": "text/x-python",
   "name": "python",
   "nbconvert_exporter": "python",
   "pygments_lexer": "ipython3",
   "version": "3.6.2"
  }
 },
 "nbformat": 4,
 "nbformat_minor": 2
}
