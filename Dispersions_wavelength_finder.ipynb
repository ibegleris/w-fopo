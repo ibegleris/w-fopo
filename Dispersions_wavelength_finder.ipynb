{
 "cells": [
  {
   "cell_type": "code",
   "execution_count": 1,
   "metadata": {
    "collapsed": true
   },
   "outputs": [],
   "source": [
    "%matplotlib inline\n",
    "import sys\n",
    "from scipy.constants import c,pi\n",
    "import numpy as np\n",
    "from math import factorial\n",
    "import matplotlib.pyplot as plt"
   ]
  },
  {
   "cell_type": "code",
   "execution_count": 2,
   "metadata": {
    "collapsed": true
   },
   "outputs": [],
   "source": [
    "def betas_transf(lamda, lamda_c, betas):\n",
    "    c_norm = c  # Speed of light [m/ps] \n",
    "    wc = 2*pi * c_norm / lamda\n",
    "    w0 = 2*pi * c_norm / lamda_c\n",
    "    betap = np.zeros_like(betas)\n",
    "    for i in range(1):\n",
    "        for j in range(len(betas.T)):\n",
    "            if j ==0:\n",
    "                betap[i,j] = betas[i,j]\n",
    "            fac = 0\n",
    "            for k in range(j, len(betas.T)):\n",
    "                #print(j,k, factorial(fac), betas[i, k], (wc - w0)**(fac))\n",
    "                betap[i, j] += factorial(fac)**(-1) * \\\n",
    "                    betas[i, k] * (wc - w0)**(fac)\n",
    "                fac += 1\n",
    "    return betap[0]\n",
    "\n",
    "\n",
    "def domega(omegap,omega0,beta,gama, P0):\n",
    "    omega = omegap - omega0\n",
    "    a = beta[4]/12 #$+ omega * beta[5]/12\n",
    "    b = beta[2]#+ omega*beta[3] +omega**2 * beta[4]/2 + omega**3 * beta[5]/6\n",
    "    c = 2 * gama * P0\n",
    "    \n",
    "    det = b**2 - 4 * a * c\n",
    "    if det >= 0:\n",
    "        Omega = (-b + det**0.5)/(2*a)\n",
    "        \n",
    "        if Omega <0:\n",
    "            Omega = (-b - det**0.5)/(2*a)\n",
    "        if Omega <0:\n",
    "            print(\"No real solution!\")\n",
    "            sys.exit(\"No real solution!\")\n",
    "        else:\n",
    "            #print(Omega)\n",
    "            return Omega**0.5\n",
    "    else:\n",
    "        print(' No real sollution in the det', det)\n",
    "        sys.exit(' No real sollution in the det', det)\n",
    "\n",
    "    return 1\n",
    "\n",
    "def dlamda_sig(Omega,lamdap):\n",
    "    return Omega * lamdap**2 / (2* pi* c - Omega * lamdap)*1e9\n",
    "\n",
    "def dlamda_idl(Omega,lamdap):\n",
    "    return Omega * lamdap**2 / (-2* pi* c - Omega * lamdap)*1e9"
   ]
  },
  {
   "cell_type": "code",
   "execution_count": 3,
   "metadata": {
    "collapsed": true
   },
   "outputs": [],
   "source": [
    "\n",
    "def plot(sols):\n",
    "    N = 2**15\n",
    "    lamdap_const = sols\n",
    "    lamdaps = np.linspace(1046e-9,1054e-9,N)\n",
    "    lamdaps = np.ndarray.tolist(lamdaps)\n",
    "    lami = []\n",
    "    lams = []\n",
    "    for lamdap in lamdaps:\n",
    "        betas = betas_transf(lamdap,lamda0,betas_or)\n",
    "        Omega  = domega(2*pi *c /lamdap,2*pi *c /lamda0,betas,10*1e-3,5)\n",
    "        dlamda_s = dlamda_sig(Omega,lamdap)\n",
    "        dlamda_i = dlamda_idl(Omega,lamdap)\n",
    "        lami.append(lamdap*1e9 + dlamda_i)\n",
    "        lams.append(lamdap*1e9 + dlamda_s)\n",
    "    lamdaps = [i*1e9 for i in lamdaps]\n",
    "\n",
    "    loc = np.argsort(np.abs(np.asanyarray(lamdaps) - lamdap_const*1e9))[0] # location of the lamda0\n",
    "\n",
    "    plt.plot(lamdaps,lami, label='idler')\n",
    "    plt.plot(lamdaps,lams, label='signal')\n",
    "    plt.plot((lamdap_const*1e9,lamdap_const*1e9),(900,1250), label='asked_for_wavelength')\n",
    "    plt.gca().get_yaxis().get_major_formatter().set_useOffset(False)\n",
    "    plt.gca().get_xaxis().get_major_formatter().set_useOffset(False)\n",
    "    plt.ylabel('Parametric wavelength (nm)')\n",
    "    plt.ylim([900,1250])\n",
    "    #plt.legend(loc=1)\n",
    "    plt.xlabel('Pump wavelength (nm)')\n",
    "    print(\"The asked for pump wavelength \", lamdap_const*1e9,\"nm results in hits of:\",lami[loc] ,\"nm idler and:\",lams[loc],\"nm signal.\",)\n",
    "    plt.show()\n",
    "    return lamdap_const*1e9, lami[loc], lams[loc]\n"
   ]
  },
  {
   "cell_type": "code",
   "execution_count": 4,
   "metadata": {
    "collapsed": true
   },
   "outputs": [],
   "source": [
    "def find_dlami(lamp,lamisol, lamda0, betas):\n",
    "    betas = betas_transf(lamp,lamda0,betas_or)\n",
    "    Omega  = domega(2*pi *c /lamp,2*pi *c /lamda0,betas,10e-3,5)\n",
    "    dlamda_i = dlamda_idl(Omega,lamp)\n",
    "    dlamda_s = dlamda_sig(Omega,lamp)\n",
    "    lami = lamp*1e9 + dlamda_i\n",
    "    lams = lamp*1e9 + dlamda_s\n",
    "    return lami - lamisol*1e9"
   ]
  },
  {
   "cell_type": "code",
   "execution_count": 5,
   "metadata": {
    "collapsed": true
   },
   "outputs": [],
   "source": [
    "beta0 = 0\n",
    "beta1 = 0\n",
    "beta2 = 0\n",
    "beta3 = 6.756e-2 *(1e-12)**3*1e-3\n",
    "beta4 = -1.002e-4 * (1e-12)**4*1e-3\n",
    "beta5 = 3.671*1e-7*(1e-12)**5*1e-3\n",
    "betas_or = np.array([[0, 0, 0, 6.756e-2*(1e-12)**3, -1.002e-4*(1e-12)**4, 3.671e-7*(1e-12)**5]])*1e-3\n",
    "lamda_fast, lamda_slow = 1052.95e-9, 1051.85e-9\n",
    "lamda0 =  lamda_slow"
   ]
  },
  {
   "cell_type": "code",
   "execution_count": 189,
   "metadata": {
    "collapsed": false
   },
   "outputs": [
    {
     "data": {
      "text/plain": [
       "-11.299999999998818"
      ]
     },
     "execution_count": 189,
     "metadata": {},
     "output_type": "execute_result"
    }
   ],
   "source": [
    "from scipy.optimize import fsolve\n",
    "pump_tot = []\n",
    "sol = fsolve(find_dlami,1050e-9, args = (925.3e-9,lamda0, betas_or))[0]\n",
    "pump_tot.append(sol)\n",
    "sol = fsolve(find_dlami,1050e-9, args = (919.7e-9,lamda0, betas_or))[0]\n",
    "pump_tot.append(sol)\n",
    "find_dlami(sol,931e-9, lamda0, betas_or)\n",
    "\n",
    "#c = plot(sol)[2]\n",
    "#sol_tot += (c,)"
   ]
  },
  {
   "cell_type": "code",
   "execution_count": 190,
   "metadata": {
    "collapsed": false
   },
   "outputs": [
    {
     "name": "stdout",
     "output_type": "stream",
     "text": [
      "The asked for pump wavelength  1047.84861016 nm results in hits of: 925.301148924 nm idler and: 1207.81219248 nm signal.\n"
     ]
    },
    {
     "data": {
      "image/png": "[encoded data removed]",
      "text/plain": [
       "<matplotlib.figure.Figure at 0x7fb3ab543b38>"
      ]
     },
     "metadata": {},
     "output_type": "display_data"
    }
   ],
   "source": [
    "sol_tot = ()\n",
    "ccc = plot(pump_tot[0])[2]\n",
    "sol_tot += (ccc,)"
   ]
  },
  {
   "cell_type": "code",
   "execution_count": 191,
   "metadata": {
    "collapsed": true
   },
   "outputs": [],
   "source": [
    "%matplotlib inline\n",
    "import sys\n",
    "from scipy.constants import c,pi\n",
    "import numpy as np\n",
    "from math import factorial\n",
    "import matplotlib.pyplot as plt\n"
   ]
  },
  {
   "cell_type": "code",
   "execution_count": 192,
   "metadata": {
    "collapsed": false
   },
   "outputs": [
    {
     "name": "stdout",
     "output_type": "stream",
     "text": [
      "The asked for pump wavelength  1047.45289893 nm results in hits of: 919.700362315 nm idler and: 1216.4221373 nm signal.\n"
     ]
    },
    {
     "data": {
      "image/png": "[encoded data removed]",
      "text/plain": [
       "<matplotlib.figure.Figure at 0x7fb3a7087978>"
      ]
     },
     "metadata": {},
     "output_type": "display_data"
    }
   ],
   "source": [
    "ccc = plot(pump_tot[1])[2]\n",
    "sol_tot += (ccc,)"
   ]
  },
  {
   "cell_type": "code",
   "execution_count": 188,
   "metadata": {
    "collapsed": false
   },
   "outputs": [
    {
     "data": {
      "text/plain": [
       "(1185.3378945694124, 1198.6396282173819)"
      ]
     },
     "execution_count": 188,
     "metadata": {},
     "output_type": "execute_result"
    }
   ],
   "source": [
    "sol_tot"
   ]
  },
  {
   "cell_type": "code",
   "execution_count": 33,
   "metadata": {
    "collapsed": false
   },
   "outputs": [
    {
     "name": "stdout",
     "output_type": "stream",
     "text": [
      "0.452341969558 0.443058616707\n",
      "0.00928335285049\n"
     ]
    }
   ],
   "source": [
    "print(totalT(sol_tot[0],l1, l2), totalT(sol_tot[1],l1, l2))\n",
    "print(totalT(sol_tot[0],l1, l2) -  totalT(sol_tot[1],l1, l2))"
   ]
  },
  {
   "cell_type": "markdown",
   "metadata": {},
   "source": [
    "# Finding L1, L2\n",
    "The attenuation of the system in units of decibels is relates to the transmitence T as:\n",
    "\n",
    "$$\n",
    "\\alpha_{tot} = -10 \\log\\left(T\\right)\n",
    "$$\n",
    ".\n",
    "\n",
    "Since the splices for PCF is considered to be high two different types of splice losses are assumed. The first $l_1$ is considered the splice loss for the PCF and the second $l_2$ descibes the rest of the losses within the system. \n",
    "\n",
    "The total loss in units of dB within our system is found to be:\n",
    "\n",
    "$$\n",
    "\\alpha_{tot}\\left(\\lambda\\right) = 2 l_{1} + k l_{2} + l_{fibre} - \\sum^{N}_{i = 1}10 \\log\\left(WDM^{(i)}_{p^{(i)}}\\left(\\lambda\\right)\\right)\n",
    "$$\n",
    ", where $p{(i)}$ is the port that light light is to travel. \n",
    "\n",
    "\n",
    "Within the test case $1.4 dB$ loss was quoted within the cavity for a wavelength of $1205nm$ with $1dB$ being given to the loss of the fibre and the PCF losses. \n",
    "\n",
    "Since the fibre loss along the length of the fibre is quoted as $a_{L} \\cdot L = 0.021dB$ the splice loss can be calculated as\n",
    "\n",
    "$$\n",
    "2 \\cdot l_{1} + a_{L} \\cdot L = 1 \\Rightarrow l_{1} = \\frac{1 -  a_{L} \\cdot L}{2} =  \\frac{1 -   0.021}{2} = 0.4895 dB.\n",
    "$$\n",
    "\n",
    "Within the cavity the signal is high at the wavelength of: \n",
    "\n",
    "Furthermore from this one can consider the second splice loss by taking the loss of the wdm 1, 2 for the signal as:\n",
    "* port2 of WDM1\n",
    "* port2 of WDM2\n",
    "\n",
    "again as above but now with the ring (2 small splices) and the WDM losses with respect to the signal ports. \n",
    "The equation to be solved is then:\n",
    "$$\n",
    "T(1200) = WDM^{(1)}_{p2}\\left(1200 \\right) + WDM^{(2)}_{p2}\\left(1200 \\right) - 2 l_{1} - 3 l_{2} - l_{fibre}\n",
    "$$\n",
    "\n",
    "\n",
    "Hence the loss of the second splice can be found by:\n",
    "$$\n",
    "l_{2} =  \\frac{T(1200) - WDM^{(1)}_{p2}\\left(1200 \\right) - WDM^{(2)}_{p2}\\left(1200 \\right) + 2 l_{1} + l_{fibre}}{3}\n",
    "$$"
   ]
  },
  {
   "cell_type": "code",
   "execution_count": 174,
   "metadata": {
    "collapsed": true
   },
   "outputs": [],
   "source": [
    "from functions import *\n",
    "lv = np.linspace(900, 1250, 512)\n",
    "fv = c/lv\n",
    "WDM1 = WDM(1050, 1200,fv,c)\n",
    "WDM2 = WDM(930, 1200, fv,c)\n",
    "WDM3 = WDM(930, 1050,fv,c)\n",
    "WDM4 = WDM(930, 1200,fv,c)"
   ]
  },
  {
   "cell_type": "code",
   "execution_count": 175,
   "metadata": {
    "collapsed": true
   },
   "outputs": [],
   "source": [
    "def dB(x):\n",
    "    if x< 1e-16:\n",
    "        return 0\n",
    "    return 10*np.log10(x)"
   ]
  },
  {
   "cell_type": "code",
   "execution_count": 176,
   "metadata": {
    "collapsed": false
   },
   "outputs": [],
   "source": [
    "def l2_f(lamda, T, l1):\n",
    "    num = dB(1/T)  - 2 *l1 - 0.021 + dB(WDM1.il_port2(lamda)) +  dB(WDM2.il_port2(lamda))\n",
    "    return num/3"
   ]
  },
  {
   "cell_type": "code",
   "execution_count": 177,
   "metadata": {
    "collapsed": false
   },
   "outputs": [
    {
     "name": "stdout",
     "output_type": "stream",
     "text": [
      "the splice loss of the small loss ones is: 0.142225011896 dB\n"
     ]
    }
   ],
   "source": [
    "l2 = l2_f(1200, 0.72, 0.4895)\n",
    "print('the splice loss of the small loss ones is:', l2, 'dB')"
   ]
  },
  {
   "cell_type": "code",
   "execution_count": 172,
   "metadata": {
    "collapsed": false
   },
   "outputs": [],
   "source": [
    "\n",
    "\n",
    "def db(x):\n",
    "    return 10*np.log10(x)\n",
    "\n",
    "def wdm_losses(l):\n",
    "    return db(WDM1.il_port2(l)) + db(WDM2.il_port2(l))# + db(WDM3.il_port1(l)) + db(WDM3.il_port1(l))\n",
    "    \n",
    "\n",
    "def total_loss(l, l1,l2):\n",
    "    return  -2*l1 + -3*l2 + wdm_losses(l) - 0.021\n",
    "\n",
    "def totalT(l,l1, l2):\n",
    "    return 10**(total_loss(l,l1,l2)/10)"
   ]
  },
  {
   "cell_type": "code",
   "execution_count": 173,
   "metadata": {
    "collapsed": false
   },
   "outputs": [
    {
     "data": {
      "image/png": "[encoded data removed]",
      "text/plain": [
       "<matplotlib.figure.Figure at 0x7fb3a6e5a6d8>"
      ]
     },
     "metadata": {},
     "output_type": "display_data"
    }
   ],
   "source": [
    "\n",
    "#fig = plt.figure(figsize=(20.0, 10.0))\n",
    "plt.gca().get_yaxis().get_major_formatter().set_useOffset(False)\n",
    "plt.plot(lv, 100*totalT(lv,l1, l2))\n",
    "plt.xlabel(r'$\\lambda(nm)$')\n",
    "plt.xlim(1050, 1250)\n",
    "plt.ylim(0,80)\n",
    "plt.ylabel(r'$T$')\n",
    "\n",
    "plt.show()"
   ]
  },
  {
   "cell_type": "code",
   "execution_count": null,
   "metadata": {
    "collapsed": true
   },
   "outputs": [],
   "source": []
  }
 ],
 "metadata": {
  "kernelspec": {
   "display_name": "Python [default]",
   "language": "python",
   "name": "python3"
  },
  "language_info": {
   "codemirror_mode": {
    "name": "ipython",
    "version": 3
   },
   "file_extension": ".py",
   "mimetype": "text/x-python",
   "name": "python",
   "nbconvert_exporter": "python",
   "pygments_lexer": "ipython3",
   "version": "3.5.2"
  }
 },
 "nbformat": 4,
 "nbformat_minor": 2
}
