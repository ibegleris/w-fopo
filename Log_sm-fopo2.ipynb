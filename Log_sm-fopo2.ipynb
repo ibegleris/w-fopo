{
 "cells": [
  {
   "cell_type": "code",
   "execution_count": 1,
   "metadata": {},
   "outputs": [
    {
     "data": {
      "application/javascript": [
       "IPython.OutputArea.prototype._should_scroll = function(lines) {\n",
       "    return false;\n",
       "}"
      ],
      "text/plain": [
       "<IPython.core.display.Javascript object>"
      ]
     },
     "metadata": {},
     "output_type": "display_data"
    }
   ],
   "source": [
    "%%javascript\n",
    "IPython.OutputArea.prototype._should_scroll = function(lines) {\n",
    "    return false;\n",
    "}"
   ]
  },
  {
   "cell_type": "markdown",
   "metadata": {},
   "source": [
    "# Log of fopo 2\n"
   ]
  },
  {
   "cell_type": "markdown",
   "metadata": {},
   "source": [
    "Following from allot of work the unidirectional fopo based on wdm's is created. The model allows to be seeded as well and has a robust code."
   ]
  },
  {
   "cell_type": "markdown",
   "metadata": {},
   "source": [
    "### The essence of convergence\n",
    "One important thing that needs to be addressed is the essence of when the fopo spectrum has converged.\n",
    "A meeting with Stephen upon the subject resulted in two ideas I could pursue for it. \n",
    "Using the power spectrum calculated at every round trip I could characterise convergence by either:\n",
    "* Moving average of the power\n",
    "* Confidence intervals"
   ]
  },
  {
   "cell_type": "markdown",
   "metadata": {
    "collapsed": true
   },
   "source": [
    "# Entry Applying the moving averages\n",
    "There are multiple types of moving averages mainly the Simple moving average (SMA) or exponential moving average (EMA). The later stating that the later values are more important that the first.\n",
    "\n",
    "#### Possition of the power\n",
    "Firstly we need a system to make sure that we are calculating the entire output limits.\n",
    "\n",
    "In particular I have thought of copying what my eye sees. Find the maximum right (in the frequency spectrum) from the middle "
   ]
  }
 ],
 "metadata": {
  "kernelspec": {
   "display_name": "Python 3",
   "language": "python",
   "name": "python3"
  },
  "language_info": {
   "codemirror_mode": {
    "name": "ipython",
    "version": 3
   },
   "file_extension": ".py",
   "mimetype": "text/x-python",
   "name": "python",
   "nbconvert_exporter": "python",
   "pygments_lexer": "ipython3",
   "version": "3.6.1"
  }
 },
 "nbformat": 4,
 "nbformat_minor": 2
}
