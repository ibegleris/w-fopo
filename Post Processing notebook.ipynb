{
 "cells": [
  {
   "cell_type": "code",
   "execution_count": 45,
   "metadata": {
    "collapsed": false
   },
   "outputs": [
    {
     "name": "stderr",
     "output_type": "stream",
     "text": [
      "/home/john/miniconda3/lib/python3.5/site-packages/matplotlib/__init__.py:1350: UserWarning:  This call to matplotlib.use() has no effect\n",
      "because the backend has already been chosen;\n",
      "matplotlib.use() must be called *before* pylab, matplotlib.pyplot,\n",
      "or matplotlib.backends is imported for the first time.\n",
      "\n",
      "  warnings.warn(_use_error_msg)\n"
     ]
    }
   ],
   "source": [
    "import numpy as np\n",
    "import matplotlib.pyplot as plt\n",
    "from data_plotters_animators import *\n",
    "from scipy.constants import c, pi\n",
    "\n",
    "import matplotlib\n",
    "matplotlib.use('Agg')"
   ]
  },
  {
   "cell_type": "code",
   "execution_count": 46,
   "metadata": {
    "collapsed": false
   },
   "outputs": [],
   "source": [
    "file_path = 'output_dump/output'"
   ]
  },
  {
   "cell_type": "code",
   "execution_count": 47,
   "metadata": {
    "collapsed": true
   },
   "outputs": [],
   "source": [
    "rounds = 100      # number of rounds you want to look at \n",
    "freequencies = 1 # number of freequencies measured. "
   ]
  },
  {
   "cell_type": "code",
   "execution_count": 48,
   "metadata": {
    "collapsed": false
   },
   "outputs": [],
   "source": [
    "file_paths_load = ()\n",
    "file_paths_save = ()\n",
    "for i in range(10):\n",
    "    file_paths_save += (file_path + str(i)+'/figures/',)\n",
    "    file_paths_load += (file_path + str(i)+'/data/',)"
   ]
  },
  {
   "cell_type": "code",
   "execution_count": 49,
   "metadata": {
    "collapsed": true
   },
   "outputs": [],
   "source": [
    "possitions = [str(i) for i in range(1,4)]"
   ]
  },
  {
   "cell_type": "code",
   "execution_count": 50,
   "metadata": {
    "collapsed": true
   },
   "outputs": [],
   "source": [
    "class sim_window(object):\n",
    "    def __init__(self,fv, t,lv):\n",
    "        self.fv = fv\n",
    "        self.lv = 1e-3*c/self.fv\n",
    "        self.t = t"
   ]
  },
  {
   "cell_type": "code",
   "execution_count": 55,
   "metadata": {
    "collapsed": false
   },
   "outputs": [],
   "source": [
    "def plot_the_load(ii,D,file_paths_save,filename_read,port = ''):\n",
    "\n",
    "\n",
    "    nm, t, fv, power_watts,which, u,lv  = D['nm'], D['t'], D['fv'],D['power_watts'], D['which'], D['u'],D['lv']\n",
    "\n",
    "    sim_wind = sim_window(fv,t,lv)\n",
    "\n",
    "    print\n",
    "    plotter_dbm(file_paths_save,port,nm,sim_wind,power_watts,u,which,ii,filename=None,title=None,im = 0)\n",
    "        "
   ]
  },
  {
   "cell_type": "code",
   "execution_count": 56,
   "metadata": {
    "collapsed": true
   },
   "outputs": [],
   "source": [
    "def animator_pdf_maker(ii,rounds):\n",
    "    \"\"\"\n",
    "    Creates the animation and pdf of the FOPO at different parts of the FOPO \n",
    "    using convert from imagemagic. Also removes the pngs so be carefull\n",
    "\n",
    "    \"\"\"\n",
    "    print(\"making pdf's and animations.\")\n",
    "    space = ('wavelength','freequency','time')\n",
    "    for sp in space:    \n",
    "        file_loc = 'output'+str(ii)+'/'+'figures/'+sp+'/'\n",
    "        strings_large = ['convert '+file_loc+'00.png ']\n",
    "        for i in range(4):\n",
    "            strings_large.append(\"convert \")\n",
    "        for ro in range(rounds):\n",
    "            for i in range(4):\n",
    "                strings_large[i+1] += file_loc+str(ro)+str(i+1)+'.png '\n",
    "            for w in range(1,4):\n",
    "                if i ==5:\n",
    "                    break\n",
    "                strings_large[0] += file_loc+str(ro)+str(w)+'.png '\n",
    "        for i in range(4):\n",
    "            os.system(strings_large[i]+file_loc+str(i)+'.pdf')\n",
    "\n",
    "\n",
    "\n",
    "        file_loca = file_loc+'portA/'\n",
    "        file_locb = file_loc+'portB/' \n",
    "        string_porta = 'convert '\n",
    "        string_portb = 'convert '\n",
    "        for i in range(rounds):\n",
    "            string_porta += file_loca + str(i) + '.png '\n",
    "            string_portb += file_loca + str(i) + '.png '\n",
    "\n",
    "        string_porta += file_loca+'porta.pdf '\n",
    "        string_portb += file_locb+'portb.pdf '\n",
    "        os.system(string_porta)\n",
    "        os.system(string_portb)\n",
    "\n",
    "        for i in range(4):\n",
    "            os.system('convert -delay 30 '+file_loc+str(i)+'.pdf '+file_loc+str(i)+'.mp4')\n",
    "        os.system('convert -delay 30 '+ file_loca +'porta.pdf ' +file_loca+'porta.mp4 ')\n",
    "        os.system('convert -delay 30 '+ file_locb +'portb.pdf ' +file_locb+'porta.mp4 ')\n",
    "\n",
    "\n",
    "        for i in (file_loc,file_loca,file_locb):\n",
    "            os.system('rm '+ i +'*.png')\n",
    "    return None\n",
    "\n"
   ]
  },
  {
   "cell_type": "code",
   "execution_count": 57,
   "metadata": {
    "collapsed": false
   },
   "outputs": [],
   "source": [
    "def plotter_dbm(file_paths_save,port,nm,sim_wind,power_watts,u,which,ii,filename=None,title=None,im = 0):\n",
    "    \"\"\"\n",
    "    filename = file_paths_save+'wavelength/'+port+filename_read+'.png'\n",
    "    fig = plt.figure(figsize=(20.0, 10.0))\n",
    "    for ii in range(nm):\n",
    "        plt.plot(sim_wind.lv,np.real(power_watts[:,ii,which]),'-*',label='mode'+str(ii))\n",
    "    plt.gca().get_yaxis().get_major_formatter().set_useOffset(False)\n",
    "    plt.gca().get_xaxis().get_major_formatter().set_useOffset(False)\n",
    "    plt.xlabel(r'$\\lambda (nm)$',fontsize=18)\n",
    "    plt.ylabel(r'$Spectrum (a.u.)$',fontsize=18)\n",
    "    plt.ylim([-80,80])\n",
    "    plt.xlim([np.min(sim_wind.lv),np.max(sim_wind.lv)])\n",
    "    plt.xlim([900,1250])\n",
    "    plt.title(title)\n",
    "    plt.grid()\n",
    "    if type(im) != int:\n",
    "        newax = fig.add_axes([0.8, 0.8, 0.2, 0.2], anchor='NE')\n",
    "        newax.imshow(im)\n",
    "        newax.axis('off')\n",
    "    if filename == None:\n",
    "        sys.exit()\n",
    "        plt.show()\n",
    "    else:\n",
    "        plt.savefig(filename,bbox_inched='tight')\n",
    "    plt.close(fig)\n",
    "    \"\"\"\n",
    "    filename = file_paths_save+'freequency/'+port+filename_read+'.png'\n",
    "    fig = plt.figure(figsize=(20.0, 10.0))\n",
    "    for ii in range(nm):\n",
    "        plt.plot(sim_wind.fv,np.real(power_watts[:,ii,which]),'-*',label='mode'+str(ii))\n",
    "    plt.gca().get_yaxis().get_major_formatter().set_useOffset(False)\n",
    "    plt.gca().get_xaxis().get_major_formatter().set_useOffset(False)\n",
    "    plt.xlabel(r'$f (THz)$',fontsize=18)\n",
    "    plt.ylabel(r'$Spectrum (a.u.)$',fontsize=18)\n",
    "    plt.xlim([np.min(sim_wind.fv),np.max(sim_wind.fv)])\n",
    "    plt.ylim([-80,80])\n",
    "    plt.title(title)\n",
    "    plt.grid()\n",
    "    if type(im) != int:\n",
    "        newax = fig.add_axes([0.8, 0.8, 0.2, 0.2], anchor='NE')\n",
    "        newax.imshow(im)\n",
    "        newax.axis('off')\n",
    "    if filename == None:\n",
    "        sys.exit()\n",
    "        plt.show()\n",
    "    else:\n",
    "        plt.savefig(filename,bbox_inched='tight')\n",
    "    plt.close(fig)\n",
    "\n",
    "    \n",
    "    filename = file_paths_save+'time/'+port+filename_read+'.png'\n",
    "    fig = plt.figure(figsize=(20.0, 10.0))\n",
    "    for ii in range(nm):\n",
    "        plt.plot(sim_wind.t,np.abs(u[:,ii,which])**2,'*-',label='mode'+str(ii))\n",
    "    plt.gca().get_yaxis().get_major_formatter().set_useOffset(False)\n",
    "    plt.title(\"time space\")\n",
    "    if type(im) != int:\n",
    "        newax = fig.add_axes([0.8, 0.8, 0.2, 0.2], anchor='NE')\n",
    "        newax.imshow(im)\n",
    "        newax.axis('off')\n",
    "    plt.grid()\n",
    "    plt.xlabel(r'$t(ps)$')\n",
    "    plt.ylabel(r'$Spectrum$')\n",
    "    plt.ylim([0,160])\n",
    "    plt.savefig(filename)\n",
    "    plt.close(fig)\n",
    "\n",
    "\n",
    "    return 0 "
   ]
  },
  {
   "cell_type": "code",
   "execution_count": 58,
   "metadata": {
    "collapsed": false
   },
   "outputs": [
    {
     "name": "stdout",
     "output_type": "stream",
     "text": [
      "0\n",
      "making pdf's and animations.\n",
      "1\n"
     ]
    },
    {
     "ename": "OSError",
     "evalue": "Unable to open file (Unable to open file: name = 'output_dump/output1/data/00.hdf5', errno = 2, error message = 'no such file or directory', flags = 0, o_flags = 0)",
     "output_type": "error",
     "traceback": [
      "\u001b[0;31m---------------------------------------------------------------------------\u001b[0m",
      "\u001b[0;31mOSError\u001b[0m                                   Traceback (most recent call last)",
      "\u001b[0;32m<ipython-input-58-75564fc1155f>\u001b[0m in \u001b[0;36m<module>\u001b[0;34m()\u001b[0m\n\u001b[1;32m      2\u001b[0m     \u001b[0mprint\u001b[0m\u001b[0;34m(\u001b[0m\u001b[0mii\u001b[0m\u001b[0;34m)\u001b[0m\u001b[0;34m\u001b[0m\u001b[0m\n\u001b[1;32m      3\u001b[0m     \u001b[0mfilename_read\u001b[0m \u001b[0;34m=\u001b[0m \u001b[0mstr\u001b[0m\u001b[0;34m(\u001b[0m\u001b[0;36m0\u001b[0m\u001b[0;34m)\u001b[0m\u001b[0;34m+\u001b[0m\u001b[0;34m'0'\u001b[0m\u001b[0;34m\u001b[0m\u001b[0m\n\u001b[0;32m----> 4\u001b[0;31m     \u001b[0mD\u001b[0m \u001b[0;34m=\u001b[0m \u001b[0mread_variables\u001b[0m\u001b[0;34m(\u001b[0m\u001b[0mfilename_read\u001b[0m\u001b[0;34m,\u001b[0m \u001b[0mfile_path\u001b[0m\u001b[0;34m)\u001b[0m\u001b[0;34m\u001b[0m\u001b[0m\n\u001b[0m\u001b[1;32m      5\u001b[0m     \u001b[0mplot_the_load\u001b[0m\u001b[0;34m(\u001b[0m\u001b[0mii\u001b[0m\u001b[0;34m,\u001b[0m\u001b[0mD\u001b[0m\u001b[0;34m,\u001b[0m\u001b[0mfile_paths_save\u001b[0m\u001b[0;34m[\u001b[0m\u001b[0mii\u001b[0m\u001b[0;34m]\u001b[0m\u001b[0;34m,\u001b[0m\u001b[0mfilename_read\u001b[0m\u001b[0;34m)\u001b[0m\u001b[0;34m\u001b[0m\u001b[0m\n\u001b[1;32m      6\u001b[0m     \u001b[0;32mfor\u001b[0m \u001b[0mi\u001b[0m \u001b[0;32min\u001b[0m \u001b[0mrange\u001b[0m\u001b[0;34m(\u001b[0m\u001b[0mrounds\u001b[0m\u001b[0;34m)\u001b[0m\u001b[0;34m:\u001b[0m\u001b[0;34m\u001b[0m\u001b[0m\n",
      "\u001b[0;32m/home/john/storage/nextcloud/phd_years/FOPO/single-mode-fibre-opo/code/SM-FOPO/data_plotters_animators.py\u001b[0m in \u001b[0;36mread_variables\u001b[0;34m(filename, filepath)\u001b[0m\n\u001b[1;32m    166\u001b[0m \u001b[0;34m\u001b[0m\u001b[0m\n\u001b[1;32m    167\u001b[0m \u001b[0;32mdef\u001b[0m \u001b[0mread_variables\u001b[0m\u001b[0;34m(\u001b[0m\u001b[0mfilename\u001b[0m\u001b[0;34m,\u001b[0m\u001b[0mfilepath\u001b[0m\u001b[0;34m=\u001b[0m\u001b[0;34m''\u001b[0m\u001b[0;34m)\u001b[0m\u001b[0;34m:\u001b[0m\u001b[0;34m\u001b[0m\u001b[0m\n\u001b[0;32m--> 168\u001b[0;31m         \u001b[0;32mwith\u001b[0m \u001b[0mh5py\u001b[0m\u001b[0;34m.\u001b[0m\u001b[0mFile\u001b[0m\u001b[0;34m(\u001b[0m\u001b[0mfilepath\u001b[0m\u001b[0;34m+\u001b[0m\u001b[0mstr\u001b[0m\u001b[0;34m(\u001b[0m\u001b[0mfilename\u001b[0m\u001b[0;34m)\u001b[0m\u001b[0;34m+\u001b[0m\u001b[0;34m'.hdf5'\u001b[0m\u001b[0;34m,\u001b[0m\u001b[0;34m'r'\u001b[0m\u001b[0;34m)\u001b[0m \u001b[0;32mas\u001b[0m \u001b[0mff\u001b[0m\u001b[0;34m:\u001b[0m\u001b[0;34m\u001b[0m\u001b[0m\n\u001b[0m\u001b[1;32m    169\u001b[0m                 \u001b[0mD\u001b[0m \u001b[0;34m=\u001b[0m \u001b[0;34m{\u001b[0m\u001b[0;34m}\u001b[0m\u001b[0;34m\u001b[0m\u001b[0m\n\u001b[1;32m    170\u001b[0m                 \u001b[0;32mfor\u001b[0m \u001b[0mi\u001b[0m \u001b[0;32min\u001b[0m \u001b[0mff\u001b[0m\u001b[0;34m.\u001b[0m\u001b[0mkeys\u001b[0m\u001b[0;34m(\u001b[0m\u001b[0;34m)\u001b[0m\u001b[0;34m:\u001b[0m\u001b[0;34m\u001b[0m\u001b[0m\n",
      "\u001b[0;32m/home/john/miniconda3/lib/python3.5/site-packages/h5py/_hl/files.py\u001b[0m in \u001b[0;36m__init__\u001b[0;34m(self, name, mode, driver, libver, userblock_size, swmr, **kwds)\u001b[0m\n\u001b[1;32m    270\u001b[0m \u001b[0;34m\u001b[0m\u001b[0m\n\u001b[1;32m    271\u001b[0m                 \u001b[0mfapl\u001b[0m \u001b[0;34m=\u001b[0m \u001b[0mmake_fapl\u001b[0m\u001b[0;34m(\u001b[0m\u001b[0mdriver\u001b[0m\u001b[0;34m,\u001b[0m \u001b[0mlibver\u001b[0m\u001b[0;34m,\u001b[0m \u001b[0;34m**\u001b[0m\u001b[0mkwds\u001b[0m\u001b[0;34m)\u001b[0m\u001b[0;34m\u001b[0m\u001b[0m\n\u001b[0;32m--> 272\u001b[0;31m                 \u001b[0mfid\u001b[0m \u001b[0;34m=\u001b[0m \u001b[0mmake_fid\u001b[0m\u001b[0;34m(\u001b[0m\u001b[0mname\u001b[0m\u001b[0;34m,\u001b[0m \u001b[0mmode\u001b[0m\u001b[0;34m,\u001b[0m \u001b[0muserblock_size\u001b[0m\u001b[0;34m,\u001b[0m \u001b[0mfapl\u001b[0m\u001b[0;34m,\u001b[0m \u001b[0mswmr\u001b[0m\u001b[0;34m=\u001b[0m\u001b[0mswmr\u001b[0m\u001b[0;34m)\u001b[0m\u001b[0;34m\u001b[0m\u001b[0m\n\u001b[0m\u001b[1;32m    273\u001b[0m \u001b[0;34m\u001b[0m\u001b[0m\n\u001b[1;32m    274\u001b[0m                 \u001b[0;32mif\u001b[0m \u001b[0mswmr_support\u001b[0m\u001b[0;34m:\u001b[0m\u001b[0;34m\u001b[0m\u001b[0m\n",
      "\u001b[0;32m/home/john/miniconda3/lib/python3.5/site-packages/h5py/_hl/files.py\u001b[0m in \u001b[0;36mmake_fid\u001b[0;34m(name, mode, userblock_size, fapl, fcpl, swmr)\u001b[0m\n\u001b[1;32m     90\u001b[0m         \u001b[0;32mif\u001b[0m \u001b[0mswmr\u001b[0m \u001b[0;32mand\u001b[0m \u001b[0mswmr_support\u001b[0m\u001b[0;34m:\u001b[0m\u001b[0;34m\u001b[0m\u001b[0m\n\u001b[1;32m     91\u001b[0m             \u001b[0mflags\u001b[0m \u001b[0;34m|=\u001b[0m \u001b[0mh5f\u001b[0m\u001b[0;34m.\u001b[0m\u001b[0mACC_SWMR_READ\u001b[0m\u001b[0;34m\u001b[0m\u001b[0m\n\u001b[0;32m---> 92\u001b[0;31m         \u001b[0mfid\u001b[0m \u001b[0;34m=\u001b[0m \u001b[0mh5f\u001b[0m\u001b[0;34m.\u001b[0m\u001b[0mopen\u001b[0m\u001b[0;34m(\u001b[0m\u001b[0mname\u001b[0m\u001b[0;34m,\u001b[0m \u001b[0mflags\u001b[0m\u001b[0;34m,\u001b[0m \u001b[0mfapl\u001b[0m\u001b[0;34m=\u001b[0m\u001b[0mfapl\u001b[0m\u001b[0;34m)\u001b[0m\u001b[0;34m\u001b[0m\u001b[0m\n\u001b[0m\u001b[1;32m     93\u001b[0m     \u001b[0;32melif\u001b[0m \u001b[0mmode\u001b[0m \u001b[0;34m==\u001b[0m \u001b[0;34m'r+'\u001b[0m\u001b[0;34m:\u001b[0m\u001b[0;34m\u001b[0m\u001b[0m\n\u001b[1;32m     94\u001b[0m         \u001b[0mfid\u001b[0m \u001b[0;34m=\u001b[0m \u001b[0mh5f\u001b[0m\u001b[0;34m.\u001b[0m\u001b[0mopen\u001b[0m\u001b[0;34m(\u001b[0m\u001b[0mname\u001b[0m\u001b[0;34m,\u001b[0m \u001b[0mh5f\u001b[0m\u001b[0;34m.\u001b[0m\u001b[0mACC_RDWR\u001b[0m\u001b[0;34m,\u001b[0m \u001b[0mfapl\u001b[0m\u001b[0;34m=\u001b[0m\u001b[0mfapl\u001b[0m\u001b[0;34m)\u001b[0m\u001b[0;34m\u001b[0m\u001b[0m\n",
      "\u001b[0;32mh5py/_objects.pyx\u001b[0m in \u001b[0;36mh5py._objects.with_phil.wrapper (/tmp/pip-at6d2npe-build/h5py/_objects.c:2684)\u001b[0;34m()\u001b[0m\n",
      "\u001b[0;32mh5py/_objects.pyx\u001b[0m in \u001b[0;36mh5py._objects.with_phil.wrapper (/tmp/pip-at6d2npe-build/h5py/_objects.c:2642)\u001b[0;34m()\u001b[0m\n",
      "\u001b[0;32mh5py/h5f.pyx\u001b[0m in \u001b[0;36mh5py.h5f.open (/tmp/pip-at6d2npe-build/h5py/h5f.c:1930)\u001b[0;34m()\u001b[0m\n",
      "\u001b[0;31mOSError\u001b[0m: Unable to open file (Unable to open file: name = 'output_dump/output1/data/00.hdf5', errno = 2, error message = 'no such file or directory', flags = 0, o_flags = 0)"
     ]
    }
   ],
   "source": [
    "for ii,file_path in enumerate(file_paths_load):\n",
    "    print(ii)\n",
    "    filename_read = str(0)+'0'\n",
    "    D = read_variables(filename_read, file_path)\n",
    "    plot_the_load(ii,D,file_paths_save[ii],filename_read)\n",
    "    for i in range(rounds):\n",
    "        for pos in possitions:\n",
    "            filename_read = str(i)+pos\n",
    "            D = read_variables(filename_read, file_path)\n",
    "            plot_the_load(ii,D,file_paths_save[ii],filename_read)\n",
    "            \n",
    "        for port in ('portA/','portB/'):            \n",
    "            filename_read = str(i)\n",
    "            D = read_variables(filename_read, file_path+port)\n",
    "            plot_the_load(ii,D,file_paths_save[ii],filename_read,port)\n",
    "    animator_pdf_maker(ii,rounds)"
   ]
  },
  {
   "cell_type": "code",
   "execution_count": null,
   "metadata": {
    "collapsed": true
   },
   "outputs": [],
   "source": []
  },
  {
   "cell_type": "code",
   "execution_count": null,
   "metadata": {
    "collapsed": true
   },
   "outputs": [],
   "source": []
  }
 ],
 "metadata": {
  "anaconda-cloud": {},
  "kernelspec": {
   "display_name": "Python [conda root]",
   "language": "python",
   "name": "conda-root-py"
  },
  "language_info": {
   "codemirror_mode": {
    "name": "ipython",
    "version": 3
   },
   "file_extension": ".py",
   "mimetype": "text/x-python",
   "name": "python",
   "nbconvert_exporter": "python",
   "pygments_lexer": "ipython3",
   "version": "3.5.2"
  }
 },
 "nbformat": 4,
 "nbformat_minor": 1
}
