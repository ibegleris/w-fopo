{
 "cells": [
  {
   "cell_type": "code",
   "execution_count": 1,
   "metadata": {
    "collapsed": false
   },
   "outputs": [
    {
     "name": "stderr",
     "output_type": "stream",
     "text": [
      "/home/john/miniconda3/lib/python3.5/site-packages/matplotlib/__init__.py:1350: UserWarning:  This call to matplotlib.use() has no effect\n",
      "because the backend has already been chosen;\n",
      "matplotlib.use() must be called *before* pylab, matplotlib.pyplot,\n",
      "or matplotlib.backends is imported for the first time.\n",
      "\n",
      "  warnings.warn(_use_error_msg)\n"
     ]
    }
   ],
   "source": [
    "import numpy as np\n",
    "import matplotlib.pyplot as plt\n",
    "from data_plotters_animators import *\n",
    "from scipy.constants import c, pi\n",
    "\n",
    "import matplotlib\n",
    "matplotlib.use('Agg')"
   ]
  },
  {
   "cell_type": "code",
   "execution_count": 2,
   "metadata": {
    "collapsed": false
   },
   "outputs": [],
   "source": [
    "file_path = 'output_dump/output'"
   ]
  },
  {
   "cell_type": "code",
   "execution_count": 3,
   "metadata": {
    "collapsed": true
   },
   "outputs": [],
   "source": [
    "rounds = 100      # number of rounds you want to look at \n",
    "freequencies = 60 # number of freequencies measured. "
   ]
  },
  {
   "cell_type": "code",
   "execution_count": 4,
   "metadata": {
    "collapsed": false
   },
   "outputs": [],
   "source": [
    "file_paths_load = ()\n",
    "file_paths_save = ()\n",
    "for i in range(freequencies):\n",
    "    file_paths_save += (file_path + str(i)+'/figures/',)\n",
    "    file_paths_load += (file_path + str(i)+'/data/',)"
   ]
  },
  {
   "cell_type": "code",
   "execution_count": 5,
   "metadata": {
    "collapsed": true
   },
   "outputs": [],
   "source": [
    "possitions = [str(i) for i in range(1,4)]"
   ]
  },
  {
   "cell_type": "code",
   "execution_count": 6,
   "metadata": {
    "collapsed": true
   },
   "outputs": [],
   "source": [
    "class sim_window(object):\n",
    "    def __init__(self,fv, t,lv):\n",
    "        self.fv = fv\n",
    "        self.lv = 1e-3*c/self.fv\n",
    "        self.t = t"
   ]
  },
  {
   "cell_type": "code",
   "execution_count": 7,
   "metadata": {
    "collapsed": false
   },
   "outputs": [],
   "source": [
    "def plot_the_load(ii,D,file_paths_save,filename_read,port = ''):\n",
    "\n",
    "\n",
    "    nm, t, fv, power_watts,which, u,lv  = D['nm'], D['t'], D['fv'],D['power_watts'], D['which'], D['u'],D['lv']\n",
    "\n",
    "    sim_wind = sim_window(fv,t,lv)\n",
    "\n",
    "    print\n",
    "    plotter_dbm(file_paths_save,port,nm,sim_wind,power_watts,u,which,ii,filename=None,title=None,im = 0)\n",
    "        "
   ]
  },
  {
   "cell_type": "code",
   "execution_count": 8,
   "metadata": {
    "collapsed": true
   },
   "outputs": [],
   "source": [
    "def animator_pdf_maker(ii,rounds):\n",
    "    \"\"\"\n",
    "    Creates the animation and pdf of the FOPO at different parts of the FOPO \n",
    "    using convert from imagemagic. Also removes the pngs so be carefull\n",
    "\n",
    "    \"\"\"\n",
    "    print(\"making pdf's and animations.\")\n",
    "    space = ('wavelength','freequency','time')\n",
    "    for sp in space:    \n",
    "        file_loc = 'output_dump/output'+str(ii)+'/figures/'+sp+'/'\n",
    "        print(file_loc)\n",
    "        strings_large = ['convert '+file_loc+'00.png ']\n",
    "        for i in range(4):\n",
    "            strings_large.append(\"convert \")\n",
    "        for ro in range(rounds):\n",
    "            for i in range(4):\n",
    "                strings_large[i+1] += file_loc+str(ro)+str(i+1)+'.png '\n",
    "            for w in range(1,4):\n",
    "                if i ==5:\n",
    "                    break\n",
    "                strings_large[0] += file_loc+str(ro)+str(w)+'.png '\n",
    "        for i in range(4):\n",
    "            os.system(strings_large[i]+file_loc+str(i)+'.pdf')\n",
    "\n",
    "\n",
    "\n",
    "        file_loca = file_loc+'portA/'\n",
    "        file_locb = file_loc+'portB/' \n",
    "        string_porta = 'convert '\n",
    "        string_portb = 'convert '\n",
    "        for i in range(rounds):\n",
    "            string_porta += file_loca + str(i) + '.png '\n",
    "            string_portb += file_loca + str(i) + '.png '\n",
    "\n",
    "        string_porta += file_loca+'porta.pdf '\n",
    "        string_portb += file_locb+'portb.pdf '\n",
    "        os.system(string_porta)\n",
    "        os.system(string_portb)\n",
    "\n",
    "        for i in range(4):\n",
    "            os.system('convert -delay 30 '+file_loc+str(i)+'.pdf '+file_loc+str(i)+'.mp4')\n",
    "        os.system('convert -delay 30 '+ file_loca +'porta.pdf ' +file_loca+'porta.mp4 ')\n",
    "        os.system('convert -delay 30 '+ file_locb +'portb.pdf ' +file_locb+'porta.mp4 ')\n",
    "\n",
    "\n",
    "        for i in (file_loc,file_loca,file_locb):\n",
    "            os.system('rm '+ i +'*.png')\n",
    "    return None\n",
    "\n"
   ]
  },
  {
   "cell_type": "code",
   "execution_count": null,
   "metadata": {
    "collapsed": false
   },
   "outputs": [],
   "source": [
    "def plotter_dbm(file_paths_save,port,nm,sim_wind,power_watts,u,which,ii,filename=None,title=None,im = 0):\n",
    "    \"\"\"\n",
    "    filename = file_paths_save+'wavelength/'+port+filename_read+'.png'\n",
    "    fig = plt.figure(figsize=(20.0, 10.0))\n",
    "    for ii in range(nm):\n",
    "        plt.plot(sim_wind.lv,np.real(power_watts[:,ii,which]),'-*',label='mode'+str(ii))\n",
    "    plt.gca().get_yaxis().get_major_formatter().set_useOffset(False)\n",
    "    plt.gca().get_xaxis().get_major_formatter().set_useOffset(False)\n",
    "    plt.xlabel(r'$\\lambda (nm)$',fontsize=18)\n",
    "    plt.ylabel(r'$Spectrum (a.u.)$',fontsize=18)\n",
    "    plt.ylim([-80,80])\n",
    "    plt.xlim([np.min(sim_wind.lv),np.max(sim_wind.lv)])\n",
    "    plt.xlim([900,1250])\n",
    "    plt.title(title)\n",
    "    plt.grid()\n",
    "    if type(im) != int:\n",
    "        newax = fig.add_axes([0.8, 0.8, 0.2, 0.2], anchor='NE')\n",
    "        newax.imshow(im)\n",
    "        newax.axis('off')\n",
    "    if filename == None:\n",
    "        sys.exit()\n",
    "        plt.show()\n",
    "    else:\n",
    "        plt.savefig(filename,bbox_inched='tight')\n",
    "    plt.close(fig)\n",
    "    \"\"\"\n",
    "    filename = file_paths_save+'freequency/'+port+filename_read+'.png'\n",
    "    fig = plt.figure(figsize=(20.0, 10.0))\n",
    "    for ii in range(nm):\n",
    "        plt.plot(sim_wind.fv,np.real(power_watts[:,ii,which]),'-*',label='mode'+str(ii))\n",
    "    plt.gca().get_yaxis().get_major_formatter().set_useOffset(False)\n",
    "    plt.gca().get_xaxis().get_major_formatter().set_useOffset(False)\n",
    "    plt.xlabel(r'$f (THz)$',fontsize=18)\n",
    "    plt.ylabel(r'$Spectrum (a.u.)$',fontsize=18)\n",
    "    plt.xlim([np.min(sim_wind.fv),np.max(sim_wind.fv)])\n",
    "    plt.ylim([-80,80])\n",
    "    plt.title(title)\n",
    "    plt.grid()\n",
    "    if type(im) != int:\n",
    "        newax = fig.add_axes([0.8, 0.8, 0.2, 0.2], anchor='NE')\n",
    "        newax.imshow(im)\n",
    "        newax.axis('off')\n",
    "    if filename == None:\n",
    "        sys.exit()\n",
    "        plt.show()\n",
    "    else:\n",
    "        plt.savefig(filename,bbox_inched='tight')\n",
    "    plt.close(fig)\n",
    "\n",
    "    \n",
    "    filename = file_paths_save+'time/'+port+filename_read+'.png'\n",
    "    fig = plt.figure(figsize=(20.0, 10.0))\n",
    "    for ii in range(nm):\n",
    "        plt.plot(sim_wind.t,np.abs(u[:,ii,which])**2,'*-',label='mode'+str(ii))\n",
    "    plt.gca().get_yaxis().get_major_formatter().set_useOffset(False)\n",
    "    plt.title(\"time space\")\n",
    "    if type(im) != int:\n",
    "        newax = fig.add_axes([0.8, 0.8, 0.2, 0.2], anchor='NE')\n",
    "        newax.imshow(im)\n",
    "        newax.axis('off')\n",
    "    plt.grid()\n",
    "    plt.xlabel(r'$t(ps)$')\n",
    "    plt.ylabel(r'$Spectrum$')\n",
    "    plt.ylim([0,160])\n",
    "    plt.savefig(filename)\n",
    "    plt.close(fig)\n",
    "\n",
    "\n",
    "    return 0 "
   ]
  },
  {
   "cell_type": "code",
   "execution_count": null,
   "metadata": {
    "collapsed": false
   },
   "outputs": [
    {
     "name": "stdout",
     "output_type": "stream",
     "text": [
      "0\n",
      "making pdf's and animations.\n",
      "output_dump/output0/figures/wavelength/\n"
     ]
    }
   ],
   "source": [
    "for ii,file_path in enumerate(file_paths_load):\n",
    "    print(ii)\n",
    "    filename_read = str(0)+'0'\n",
    "    D = read_variables(filename_read, file_path)\n",
    "    plot_the_load(ii,D,file_paths_save[ii],filename_read)\n",
    "    \"\"\"\n",
    "    for i in range(rounds):\n",
    "        for pos in possitions:\n",
    "            filename_read = str(i)+pos\n",
    "            D = read_variables(filename_read, file_path)\n",
    "            plot_the_load(ii,D,file_paths_save[ii],filename_read)\n",
    "            \n",
    "        for port in ('portA/','portB/'):            \n",
    "            filename_read = str(i)\n",
    "            D = read_variables(filename_read, file_path+port)\n",
    "            plot_the_load(ii,D,file_paths_save[ii],filename_read,port)\n",
    "    \"\"\"\n",
    "    animator_pdf_maker(ii,rounds)"
   ]
  },
  {
   "cell_type": "code",
   "execution_count": null,
   "metadata": {
    "collapsed": false
   },
   "outputs": [],
   "source": [
    "print('_')"
   ]
  },
  {
   "cell_type": "code",
   "execution_count": 4,
   "metadata": {
    "collapsed": false
   },
   "outputs": [],
   "source": [
    "a = '101'"
   ]
  },
  {
   "cell_type": "code",
   "execution_count": 5,
   "metadata": {
    "collapsed": false
   },
   "outputs": [
    {
     "data": {
      "text/plain": [
       "'10/1'"
      ]
     },
     "execution_count": 5,
     "metadata": {},
     "output_type": "execute_result"
    }
   ],
   "source": [
    "a[:-1]+'/'+a[-1]"
   ]
  },
  {
   "cell_type": "code",
   "execution_count": null,
   "metadata": {
    "collapsed": true
   },
   "outputs": [],
   "source": []
  }
 ],
 "metadata": {
  "anaconda-cloud": {},
  "kernelspec": {
   "display_name": "Python [conda root]",
   "language": "python",
   "name": "conda-root-py"
  },
  "language_info": {
   "codemirror_mode": {
    "name": "ipython",
    "version": 3
   },
   "file_extension": ".py",
   "mimetype": "text/x-python",
   "name": "python",
   "nbconvert_exporter": "python",
   "pygments_lexer": "ipython3",
   "version": "3.5.2"
  }
 },
 "nbformat": 4,
 "nbformat_minor": 1
}
