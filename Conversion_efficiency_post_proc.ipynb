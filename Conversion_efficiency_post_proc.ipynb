{
 "cells": [
  {
   "cell_type": "code",
   "execution_count": 1,
   "metadata": {
    "collapsed": false,
    "deletable": true,
    "editable": true
   },
   "outputs": [
    {
     "data": {
      "application/javascript": [
       "IPython.OutputArea.prototype._should_scroll = function(lines) {\n",
       "    return false;\n",
       "}"
      ],
      "text/plain": [
       "<IPython.core.display.Javascript object>"
      ]
     },
     "metadata": {},
     "output_type": "display_data"
    }
   ],
   "source": [
    "%%javascript\n",
    "IPython.OutputArea.prototype._should_scroll = function(lines) {\n",
    "    return false;\n",
    "}"
   ]
  },
  {
   "cell_type": "code",
   "execution_count": 2,
   "metadata": {
    "collapsed": false,
    "deletable": true,
    "editable": true
   },
   "outputs": [],
   "source": [
    "from functions import *\n",
    "import numpy as np\n",
    "import pandas as pd\n",
    "import matplotlib\n",
    "import os\n",
    "import pickle as pl\n",
    "import h5py\n",
    "from scipy.constants import c, pi\n",
    "import matplotlib.pyplot as plt\n",
    "import matplotlib.cm as cm\n",
    "from matplotlib.colors import LogNorm"
   ]
  },
  {
   "cell_type": "code",
   "execution_count": 3,
   "metadata": {
    "collapsed": false,
    "deletable": true,
    "editable": true
   },
   "outputs": [
    {
     "name": "stderr",
     "output_type": "stream",
     "text": [
      "Vendor:  Continuum Analytics, Inc.\n",
      "Package: accelerate\n",
      "Message: trial mode expires in 30 days\n"
     ]
    }
   ],
   "source": [
    "from numpy.fft import fftshift\n",
    "from fft_module import *\n",
    "import scipy"
   ]
  },
  {
   "cell_type": "code",
   "execution_count": 4,
   "metadata": {
    "collapsed": false,
    "deletable": true,
    "editable": true
   },
   "outputs": [],
   "source": [
    "def fft(x):\n",
    "    return scipy.fft(x.T).T"
   ]
  },
  {
   "cell_type": "code",
   "execution_count": 5,
   "metadata": {
    "collapsed": false,
    "deletable": true,
    "editable": true
   },
   "outputs": [],
   "source": [
    "class Conversion_efficiency(object):\n",
    "\n",
    "    def __init__(self, freq_band, possition, filename=None, filepath='',filename2 = 'CE',filepath2 = 'output_final/'):\n",
    "        self.variables = ('P_p', 'P_s', 'f_p', 'f_s','l_p','l_s,' 'P_out', 'P_bef','CE','rounds')\n",
    "        \n",
    "        self.spec, self.fv, self.t, self.P0_p, self.P0_s,self.f_p, self.f_s, self.P_bef,self.ro,U_large,tt =\\\n",
    "            self.load_spectrum('0',filename, filepath)\n",
    "        self.P_max = np.max(w2dbm(self.spec))\n",
    "        \n",
    "        self.spec, self.fv, self.t, self.P0_p, self.P0_s,self.f_p, self.f_s, self.P_bef,self.ro,U_large,tt =\\\n",
    "            self.load_spectrum(possition,filename, filepath)\n",
    "        self.tt = tt\n",
    "       \n",
    "        self.freq_band = freq_band\n",
    "\n",
    "        self.U_large = np.asanyarray(U_large)#[:,:,0]\n",
    "        self.nt = np.shape(self.spec)[0]\n",
    "        fv_id = self.pos_of_idler()\n",
    "        fv_id = self.pos_of_signal()\n",
    "        self.fv_d = fv_id\n",
    "        #print(np.shape(self.U_large))\n",
    "        #sys.exit()\n",
    "        self.P_in = self.P0_p + self.P0_s\n",
    "        lami = 1e-3*c/self.fv[fv_id]\n",
    "        self.lami = lami\n",
    "        self.lamp = 1e-3*c/self.f_p\n",
    "        \n",
    "        self.U_large_norm =  w2dbm(np.abs(self.U_large)**2) - self.P_max \n",
    "        P_out_vec = []\n",
    "        P_out_vec_casc = []\n",
    "        self.fv_id = fv_id\n",
    "        start, end= self.fv[fv_id] - freq_band, self.fv[fv_id] + freq_band\n",
    "        fv_id_c = self.pos_of_cascade()\n",
    "        start_c, end_c = self.fv[fv_id_c] - freq_band, self.fv[fv_id_c] + freq_band\n",
    "        for i in U_large:\n",
    "            self.spec = np.abs(i)**2\n",
    "            P_out_vec.append(self.calc_P_out(start,end))\n",
    "            P_out_vec_casc.append(self.calc_P_out(start_c,end_c))\n",
    "        self.P_out_vec_casc = np.asanyarray(P_out_vec_casc)\n",
    "        self.P_out_vec = np.asanyarray(P_out_vec)\n",
    "        self.P_out = np.mean(P_out_vec)\n",
    "        self.CE = self.calc_CE()\n",
    "        \n",
    "        self.std = { i : None for i in ('P_p', 'P_s', 'f_p', 'f_s','l_p','l_s,' 'P_out', 'P_bef','CE','rounds')}\n",
    "        self.std['P_out'] = np.std(P_out_vec)\n",
    "        self.std['CE'] = self.std['P_out']*self.CE/self.P_in\n",
    "        \n",
    "        self.read_write_CE_table(filename2,var = None, P_p = self.P0_p, P_s = self.P0_s, f_p = self.f_p,\n",
    "                                         f_s = self.f_s,P_out = self.P_out,P_bef = self.P_bef, CE = self.CE, var2 = 'CE',std = self.std,file_path=filepath2)\n",
    "        self.spec = np.mean(np.abs(U_large[0:][:])**2, axis = 0)\n",
    "\n",
    "        self.spec_s = w2dbm(self.spec)-self.P_max \n",
    "        return None\n",
    "\n",
    "    \n",
    "    def pos_of_idler(self):\n",
    "        U_sum = np.sum(np.abs(self.U_large)**2, axis = 0)\n",
    "        plom = self.nt//2+50\n",
    "        fv_id = np.where(U_sum[plom:] == np.max(U_sum[plom:]))[0][0]\n",
    "        fv_id += plom\n",
    "        return fv_id\n",
    "    \n",
    "    def pos_of_signal(self):\n",
    "        U_sum = np.sum(np.abs(self.U_large)**2, axis = 0)\n",
    "        plom = self.nt//2 -50\n",
    "        fv_id = np.where(U_sum[:plom] == np.max(U_sum[:plom]))[0][0]\n",
    "        return fv_id\n",
    "    \n",
    "    \n",
    "    def pos_of_cascade(self):\n",
    "        sig_id = self.pos_of_signal() - 50\n",
    "        U_sum = np.sum(np.abs(self.U_large)**2, axis = 0)\n",
    "        plom = sig_id\n",
    "        fv_id = np.where(U_sum[:plom] == np.max(U_sum[:plom]))[0][0]\n",
    "        return fv_id\n",
    "    \n",
    "    def load_spectrum(self, possition,filename='data_large', filepath=''):\n",
    "        with h5py.File(filepath+filename+'.hdf5','r') as f: \n",
    "            l = f.get(possition)\n",
    "            U_large = ()\n",
    "            integers_list = [int(i) for i in l.keys()]\n",
    "            integers_list.sort()\n",
    "            integers_generator = (str(n) for n in integers_list)\n",
    "            for i in integers_generator:\n",
    "                steady_state = i\n",
    "                layers = possition + '/' + steady_state\n",
    "                D = read_variables(filename,layers, filepath)\n",
    "                U = D['U']\n",
    "                U_large += (U,)\n",
    "\n",
    "            fv = D['fv']\n",
    "            ro = D['ro']\n",
    "\n",
    "            Uabs = w2dbm(np.abs(U)**2)\n",
    "            P0_s = D['P0_s']\n",
    "            P0_p = D['P0_p']\n",
    "            t = D['t']\n",
    "            f_p = D['f_p']\n",
    "            f_s = D['f_s']\n",
    "            layers = '1/0'\n",
    "            \n",
    "            D = read_variables(filename,layers, filepath)\n",
    "            Uabss =np.abs(D['U'])**2\n",
    "            fvs = D['fv']\n",
    "            tt = D['t']\n",
    "\n",
    "            P_bef = simps(Uabss,fvs)\n",
    "            P_bef /= 2*np.max(tt)\n",
    "        return dbm2w(Uabs), fv,t, P0_p, P0_s, f_p, f_s,P_bef, ro, U_large,t\n",
    "\n",
    "\n",
    "\n",
    "    def calc_P_out(self,start,end):\n",
    "        i = np.where(\n",
    "            np.abs(self.fv - start) == np.min(np.abs(self.fv - start)))[0][0]\n",
    "        j = np.where(\n",
    "            np.abs(self.fv - end) == np.min(np.abs(self.fv - end)))[0][0]\n",
    "\n",
    "        E_out = simps(self.spec[i:j], self.fv[i:j])\n",
    "        P_out = E_out/(2*np.max(self.tt))\n",
    "        return P_out   \n",
    "\n",
    "\n",
    "    def calc_CE(self):\n",
    "        CE = 100*self.P_out/self.P_in\n",
    "        return CE\n",
    "\n",
    "\n",
    "    def read_write_CE_table(self,filename,var = None, P_p = None, P_s = None, f_p = None, f_s = None,P_out = None, P_bef = None,CE = None, var2 = 'CE',std = None,file_path=''):\n",
    "        \n",
    "        \"\"\" Given values of the parameters this function uses pandas to open an\n",
    "            hdf5 file and append to the dataframe there. It also returns the full data\n",
    "            for post-processing. \n",
    "            \n",
    "            It returns a tuple of 2 numpy arrays the first with the variable var and the second with\n",
    "            the conversion efficiencty (as default). If no input is given( default then it just reads the )\n",
    "        \"\"\"\n",
    "        try:\n",
    "            l_s = 1e-3*c/f_s\n",
    "        except TypeError:\n",
    "            l_s = None\n",
    "            pass\n",
    "        try:\n",
    "            l_p = 1e-3*c/f_p\n",
    "        except TypeError:\n",
    "            l_p = None\n",
    "            pass\n",
    "        A = np.array([P_p, P_s, f_p, f_s,l_s,l_p, P_out, P_bef, CE]).T\n",
    "        a = pd.DataFrame(A, index = ['P_p', 'P_s','f_p', 'f_s','l_s','l_p', 'P_out','P_bef', 'CE']).T\n",
    "        try:\n",
    "            ab = pd.read_hdf(file_path+filename+'.hdf5')\n",
    "            if not(A.any() == None):\n",
    "                ab = ab.append(a, ignore_index=True)\n",
    "        except IOError:\n",
    "            if not(A.any() == None):\n",
    "                ab = a\n",
    "            else: \n",
    "                sys.exit(\"There is no data in file or given\")\n",
    "            pass\n",
    "        store = ab.to_hdf(file_path+filename+'.hdf5',key='a')\n",
    "        b = pd.DataFrame.from_dict([std])\n",
    "        try:\n",
    "            ba = pd.read_hdf(file_path+filename+'_std.hdf5', key = 'b')\n",
    "            if not(A.any() == None):\n",
    "                ba = ba.append(b, ignore_index=True)\n",
    "        except IOError:\n",
    "            if not(A.any() == None):\n",
    "                ba = b\n",
    "            else: \n",
    "                sys.exit(\"There is no data in file or given\")\n",
    "            pass\n",
    "        store2 = ba.to_hdf(file_path+filename+'_std.hdf5', key = 'b')\n",
    "\n",
    "        if var is None:\n",
    "            return None\n",
    "        else:\n",
    "            return ab[var].as_matrix(),ab[var2].as_matrix(),ba\n",
    "\n",
    "\n",
    "    def plot_CE(self,var,var2 = 'CE',filename = 'CE', filepath='output_final/', filesave= None):\n",
    "        var_val, CE,std = self.read_write_CE_table(filename,var,var2 = var2,file_path=filepath)\n",
    "        std = std[var2].as_matrix()\n",
    "        fig = plt.figure(figsize=(20.0, 10.0))\n",
    "        plt.errorbar(var_val, CE, yerr=std, capsize= 10)\n",
    "        plt.gca().get_yaxis().get_major_formatter().set_useOffset(False)\n",
    "        plt.gca().get_xaxis().get_major_formatter().set_useOffset(False)\n",
    "        plt.xlabel(var)\n",
    "        plt.ylabel(var2)\n",
    "        plt.savefig(filesave+'.png',bbox_inches = 'tight')\n",
    "        data = (var_val, CE)\n",
    "        pl.dump((fig,data),open(str(filesave)+'.pickle','wb'))\n",
    "           \n",
    "        #plt.close(fig)\n",
    "        return None\n",
    "    def P_out_round(self,filesave):\n",
    "        \"\"\"Plots the output average power with respect to round trip number\"\"\"\n",
    "        self.l_p = 1e-3*c/self.f_p\n",
    "        fig = plt.figure(figsize=(20,10))\n",
    "        plt.plot(range(len(self.P_out_vec)), self.P_out_vec)\n",
    "        plt.xlabel('Rounds')\n",
    "        plt.ylabel('Output Power')\n",
    "        plt.title(f\"Input power {float(self.P0_p):.{2}} W, pump wavelength {float(self.l_p):.{6}} nm maximum output at: {float(self.lami):.{6}} nm\")\n",
    "        plt.savefig('power_per_round'+filesave+'.png')\n",
    "        data = (range(len(self.P_out_vec)), self.P_out_vec)\n",
    "        _data ={'pump_power':self.P0_p, 'pump_wavelength': self.l_p, 'out_wave': self.lami}\n",
    "        pl.dump(fig,open('power_per_round'+filesave+'.pickle','wb'))\n",
    "        plt.close()\n",
    "    \n",
    "    def P_out_round_casc(self,filesave):\n",
    "        \"\"\"Plots the output average power with respect to round trip number\"\"\"\n",
    "        self.l_p = 1e-3*c/self.f_p\n",
    "        fig = plt.figure(figsize=(20,10))\n",
    "        plt.plot(range(len(self.P_out_vec)), self.P_out_vec_casc)\n",
    "        plt.xlabel('Rounds')\n",
    "        plt.ylabel('Output Power')\n",
    "        plt.title(f\"Input power {float(self.P0_p):.{2}} W, pump wavelength {float(self.l_p):.{6}} nm maximum output at: {float(self.lami):.{6}} nm\")\n",
    "        plt.savefig('power_per_round_casc'+filesave+'.png')\n",
    "        data = (range(len(self.P_out_vec)), self.P_out_vec)\n",
    "        _data ={'pump_power':self.P0_p, 'pump_wavelength': self.l_p, 'out_wave': self.lami}\n",
    "        pl.dump(fig,open('power_per_round_casc'+filesave+'.pickle','wb'))\n",
    "        plt.close()"
   ]
  },
  {
   "cell_type": "code",
   "execution_count": 6,
   "metadata": {
    "collapsed": false,
    "deletable": true,
    "editable": true
   },
   "outputs": [],
   "source": [
    "def contor_plot(CE,fmin = None,fmax = None,  rounds = None,filename = None):\n",
    "    if not(fmin):\n",
    "        fmin = CE.fv[CE.fv_id] - CE.freq_band\n",
    "    if not(fmax):\n",
    "        fmax = CE.fv[CE.fv_id] + CE.freq_band\n",
    "    print(fmin,fmax)\n",
    "    i = np.where(np.abs(CE.fv - fmin) == np.min(np.abs(CE.fv - fmin)))[0][0]\n",
    "    j = np.where(np.abs(CE.fv - fmax) == np.min(np.abs(CE.fv - fmax)))[0][0]\n",
    "    \n",
    "\n",
    "\n",
    "    if rounds is None:\n",
    "        rounds = np.shape(CE.U_large_norm)[0]\n",
    "   \n",
    "    CE.ro = range(rounds)\n",
    "    x,y = np.meshgrid(CE.ro[:rounds], CE.fv[i:j])\n",
    "    z = CE.U_large_norm[:rounds,i:j].T\n",
    "    #print(np.shape(x), np.shape(z))\n",
    "    low_values_indices = z < -60  # Where values are low\n",
    "    z[low_values_indices] = -60  # All low values set to 0\n",
    "    fig = plt.figure(figsize=(20,10))\n",
    "    plt.contourf(x,y, z,np.arange(-60,np.max(CE.U_large_norm),0.2), extend = 'min',cmap=plt.cm.jet)\n",
    "    plt.xlabel(r'$rounds$')\n",
    "    plt.ylim(fmin,fmax)\n",
    "    #plt.xlim(0,200)\n",
    "    plt.ylabel(r'$f(THz)$')\n",
    "    plt.colorbar()\n",
    "    l_p = 1e-3*c/CE.f_p\n",
    "    plt.title(f\"Input power {float(CE.P0_p):.{2}} W, pump wavelength {float(l_p):.{6}} nm maximum, output at: {float(CE.lami):.{6}}\")\n",
    "    data = (CE.ro, CE.fv, z )\n",
    "    _data ={'pump_power':CE.P0_p, 'pump_wavelength': l_p, 'out_wave': CE.lami}\n",
    "    if filename is not None:\n",
    "        plt.savefig(str(filename), bbox_inches = 'tight')\n",
    "        pl.dump((fig,data,_data),open(str(filename)+'.pickle','wb'))\n",
    "        plt.close('all')\n",
    "    else:\n",
    "        plt.show()\n",
    "    return None"
   ]
  },
  {
   "cell_type": "code",
   "execution_count": 9,
   "metadata": {
    "collapsed": false,
    "deletable": true,
    "editable": true
   },
   "outputs": [],
   "source": [
    "which = 'output_dump_pump_wavelengths/7w'\n",
    "which = 'output_dump_pump_wavelengths/wrong'\n",
    "which = 'output_dump_pump_wavelengths'\n",
    "#which = 'output_dump_pump_wavelengths/2_rounds'\n",
    "#which ='output_dump_pump_powers/ram0ss0'\n",
    "which = 'output_dump_pump_powers'\n",
    "which_l = 'output_dump/output'\n",
    "#which = 'output0'"
   ]
  },
  {
   "cell_type": "code",
   "execution_count": 11,
   "metadata": {
    "collapsed": false,
    "deletable": true,
    "editable": true,
    "scrolled": true,
    "slideshow": {
     "slide_type": "slide"
    }
   },
   "outputs": [
    {
     "name": "stderr",
     "output_type": "stream",
     "text": [
      "/home/john/miniconda3/lib/python3.6/site-packages/pandas/core/generic.py:1138: PerformanceWarning: \n",
      "your performance may suffer as PyTables will pickle object types that it cannot\n",
      "map directly to c-types [inferred_type->mixed,key->block1_values] [items->['P_bef', 'P_p', 'P_s', 'f_p', 'f_s', 'l_p', 'l_s,P_out', 'rounds']]\n",
      "\n",
      "  return pytables.to_hdf(path_or_buf, key, self, **kwargs)\n"
     ]
    },
    {
     "name": "stdout",
     "output_type": "stream",
     "text": [
      "1048.17107345 1200.0\n",
      "P_out\n",
      "CE\n"
     ]
    }
   ],
   "source": [
    "for ii in range(1):\n",
    "    ii = str(ii)\n",
    "    which = which_l+ ii\n",
    "    os.system('rm output_final/CE.hdf5 output_final/CE_std.hdf5')\n",
    "    lami_vec = []\n",
    "    lamp_vec = []\n",
    "    specs_large = []\n",
    "    for i in range(1):\n",
    "        CE = Conversion_efficiency(1,possition = '2', filename = 'data_large',filepath = which+'/output'+str(i)+'/data/')\n",
    "        fmin,fmax,rounds  = 310,330,None#np.min(CE.fv),np.max(CE.fv),None\n",
    "        fmin,fmax,rounds = None, None, None\n",
    "        fmin,fmax,rounds = np.min(CE.fv),np.max(CE.fv), None\n",
    "        \n",
    "        #(np.min(CE.fv)+np.max(CE.fv))/2 +10\n",
    "        lami_vec.append(CE.lami)\n",
    "        specs_large.append(CE)\n",
    "        lamp_vec.append(CE.lamp)\n",
    "        #contor_plot(CE,fmin,fmax,rounds,filename= str(ii)+'_'+str(i))\n",
    "        CE.P_out_round(filesave = str(ii)+'_'+str(i))\n",
    "        CE.P_out_round_casc(filesave = str(ii)+'_'+str(i))\n",
    "        #contor_plot(fmin,fmax,CE,rounds)\n",
    "        print(1e-3*c/CE.f_p, CE.lami)\n",
    "    var1, var2 = 'P_bef', 'P_out'\n",
    "    os.system('mkdir output_final/'+ii)\n",
    "    for var1,var2 in (('P_bef', 'P_out'), ('P_p', 'CE')):\n",
    "        print(var2)\n",
    "        CE.plot_CE(var1, var2,filesave = 'output_final/'+ii+'/'+var2+str(ii))  \n",
    "\n",
    "    os.system('mv *png output_final/'+ii)\n",
    "    os.system('mv *pickle output_final/'+ii)"
   ]
  },
  {
   "cell_type": "code",
   "execution_count": null,
   "metadata": {
    "collapsed": false,
    "deletable": true,
    "editable": true
   },
   "outputs": [],
   "source": [
    "import os\n",
    "ii = str(0)\n",
    "os.system('mv *png output_final/'+ii)\n",
    "os.system('mv *pickle output_final/'+ii)"
   ]
  },
  {
   "cell_type": "code",
   "execution_count": null,
   "metadata": {
    "collapsed": false,
    "deletable": true,
    "editable": true
   },
   "outputs": [],
   "source": [
    "contor_plot(CE,np.min(CE.fv),np.max(CE.fv),rounds = None,filename= str(ii)+'_'+str(i))"
   ]
  },
  {
   "cell_type": "code",
   "execution_count": null,
   "metadata": {
    "collapsed": false,
    "deletable": true,
    "editable": true
   },
   "outputs": [],
   "source": [
    "np.max(CE.U_large_norm[:rounds,:].T)"
   ]
  },
  {
   "cell_type": "code",
   "execution_count": null,
   "metadata": {
    "collapsed": false,
    "deletable": true,
    "editable": true
   },
   "outputs": [],
   "source": [
    "U_sum = np.sum(np.abs(CE.U_large)**2, axis = 0)\n",
    "plom = CE.nt//2 -50\n",
    "fv_id = np.where(U_sum[:plom] == np.max(U_sum[:plom]))[0][0]\n",
    "#fv_id += plom+50"
   ]
  },
  {
   "cell_type": "code",
   "execution_count": null,
   "metadata": {
    "collapsed": false,
    "deletable": true,
    "editable": true
   },
   "outputs": [],
   "source": [
    "CE.fv[fv_id]"
   ]
  },
  {
   "cell_type": "code",
   "execution_count": null,
   "metadata": {
    "collapsed": false,
    "deletable": true,
    "editable": true
   },
   "outputs": [],
   "source": [
    "%matplotlib inline\n",
    "CE.plot_CE('P_bef',var2 = 'P_out',filename = 'CE', filepath='output_final/', filesave= 'power')"
   ]
  },
  {
   "cell_type": "code",
   "execution_count": null,
   "metadata": {
    "collapsed": false,
    "deletable": true,
    "editable": true
   },
   "outputs": [],
   "source": [
    "filename = 'spectrum_fopo_1.png'\n",
    "fig = plt.figure(figsize=(20,10))\n",
    "for i in specs_large[:]:\n",
    "    \n",
    "    i.lp = i.fv\n",
    "    i.l_p = i.f_p\n",
    "    plt.plot(i.lp, i.spec_s, label = i.l_p)\n",
    "    #plt.xlim(900,1250)\n",
    "    plt.legend()\n",
    "    plt.xlabel(r'$\\lambda (\\mu m)$')\n",
    "    plt.ylabel(r'spec (dB)')\n",
    "    #plt.ylim(-100,0)\n",
    "plt.savefig(filename, bbox_inches = 'tight')\n",
    "pl.dump(fig,open(filename,'wb'))\n",
    "\n",
    "plt.show()\n",
    "plt.close('all')"
   ]
  },
  {
   "cell_type": "code",
   "execution_count": null,
   "metadata": {
    "collapsed": false,
    "deletable": true,
    "editable": true
   },
   "outputs": [],
   "source": [
    "100*10**(-np.arange(0.5,5.5,0.25)[::-1]/10)"
   ]
  },
  {
   "cell_type": "code",
   "execution_count": null,
   "metadata": {
    "collapsed": false,
    "deletable": true,
    "editable": true
   },
   "outputs": [],
   "source": [
    "100*10**(-np.arange(0.5,5.5,1)[::-1]/10)"
   ]
  },
  {
   "cell_type": "code",
   "execution_count": null,
   "metadata": {
    "collapsed": false,
    "deletable": true,
    "editable": true
   },
   "outputs": [],
   "source": [
    "np.arange(0.5,5.5,0.25)[::-1]"
   ]
  },
  {
   "cell_type": "markdown",
   "metadata": {
    "collapsed": false,
    "deletable": true,
    "editable": true
   },
   "source": [
    "var1, var2 = 'P_bef', 'P_out'\n",
    "for var1,var2 in (('P_bef', 'P_out'), ('P_p', 'CE')):\n",
    "    print(var2)\n",
    "    CE.plot_CE(var1, var2,filesave = '1/'+var2)"
   ]
  },
  {
   "cell_type": "code",
   "execution_count": null,
   "metadata": {
    "collapsed": false,
    "deletable": true,
    "editable": true
   },
   "outputs": [],
   "source": [
    " np.arange(1.3,1.5,0.01)\n"
   ]
  },
  {
   "cell_type": "code",
   "execution_count": null,
   "metadata": {
    "collapsed": false,
    "deletable": true,
    "editable": true
   },
   "outputs": [],
   "source": [
    " np.arange(1.49,1.51,0.01)"
   ]
  },
  {
   "cell_type": "code",
   "execution_count": null,
   "metadata": {
    "collapsed": false,
    "deletable": true,
    "editable": true
   },
   "outputs": [],
   "source": [
    "np.arange(1.46,1.48,0.005)"
   ]
  },
  {
   "cell_type": "code",
   "execution_count": null,
   "metadata": {
    "collapsed": true,
    "deletable": true,
    "editable": true
   },
   "outputs": [],
   "source": []
  }
 ],
 "metadata": {
  "anaconda-cloud": {},
  "kernelspec": {
   "display_name": "Python 3",
   "language": "python",
   "name": "python3"
  },
  "language_info": {
   "codemirror_mode": {
    "name": "ipython",
    "version": 3
   },
   "file_extension": ".py",
   "mimetype": "text/x-python",
   "name": "python",
   "nbconvert_exporter": "python",
   "pygments_lexer": "ipython3",
   "version": "3.6.1"
  },
  "nbpresent": {
   "slides": {},
   "themes": {
    "default": "76a933dd-2b7a-4539-97ef-87229f33bd0b",
    "theme": {}
   }
  }
 },
 "nbformat": 4,
 "nbformat_minor": 2
}
