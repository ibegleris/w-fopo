{
 "cells": [
  {
   "cell_type": "code",
   "execution_count": 1,
   "metadata": {},
   "outputs": [
    {
     "data": {
      "application/javascript": [
       "IPython.OutputArea.prototype._should_scroll = function(lines) {\n",
       "    return false;\n",
       "}"
      ],
      "text/plain": [
       "<IPython.core.display.Javascript object>"
      ]
     },
     "metadata": {},
     "output_type": "display_data"
    }
   ],
   "source": [
    "%%javascript\n",
    "IPython.OutputArea.prototype._should_scroll = function(lines) {\n",
    "    return false;\n",
    "}"
   ]
  },
  {
   "cell_type": "code",
   "execution_count": 2,
   "metadata": {
    "collapsed": true
   },
   "outputs": [],
   "source": [
    "import numpy as np\n",
    "import pandas as pd\n",
    "import os\n",
    "import pickle as pl\n",
    "import h5py\n",
    "from scipy.constants import c, pi\n",
    "import gc"
   ]
  },
  {
   "cell_type": "code",
   "execution_count": 3,
   "metadata": {
    "collapsed": true
   },
   "outputs": [],
   "source": [
    "from functions import *"
   ]
  },
  {
   "cell_type": "code",
   "execution_count": 4,
   "metadata": {
    "collapsed": true
   },
   "outputs": [],
   "source": [
    "\n",
    "import matplotlib\n",
    "matplotlib.use('Agg')\n",
    "import matplotlib.pyplot as plt\n",
    "import matplotlib.cm as cm\n",
    "from matplotlib.colors import LogNorm\n"
   ]
  },
  {
   "cell_type": "code",
   "execution_count": 5,
   "metadata": {
    "collapsed": true
   },
   "outputs": [],
   "source": [
    "from numpy.fft import fftshift\n",
    "from fft_module import *\n",
    "import scipy"
   ]
  },
  {
   "cell_type": "code",
   "execution_count": 6,
   "metadata": {
    "collapsed": true
   },
   "outputs": [],
   "source": [
    "def fft(x):\n",
    "    return scipy.fft(x.T).T"
   ]
  },
  {
   "cell_type": "code",
   "execution_count": 17,
   "metadata": {
    "collapsed": true
   },
   "outputs": [],
   "source": [
    "class Conversion_efficiency(object):\n",
    "\n",
    "    def __init__(self, freq_band, possition, filename=None, filepath='',filename2 = 'CE',filepath2 = 'output_final/'):\n",
    "        self.variables = ('P_p', 'P_s', 'f_p', 'f_s','l_p','l_s,' 'P_out', 'P_bef','CE','rounds')\n",
    "        \n",
    "        self.spec, self.fv, self.t, self.P0_p, self.P0_s,self.f_p, self.f_s, self.P_bef,self.ro,U_large,tt =\\\n",
    "            self.load_spectrum('0',filename, filepath)\n",
    "        self.P_max = np.max(w2dbm(self.spec))\n",
    "        \n",
    "        self.spec, self.fv, self.t, self.P0_p, self.P0_s,self.f_p, self.f_s, self.P_bef,self.ro,U_large,tt =\\\n",
    "            self.load_spectrum(possition,filename, filepath)\n",
    "        self.tt = tt\n",
    "       \n",
    "        self.freq_band = freq_band\n",
    "\n",
    "        self.U_large = np.asanyarray(U_large)#[:,:,0]\n",
    "        self.nt = np.shape(self.spec)[0]\n",
    "        if possition == '2' or possition == '1':\n",
    "            print('finding signal')\n",
    "            fv_id = self.pos_of_signal()\n",
    "        else:\n",
    "            print('finding idler')\n",
    "            fv_id = self.pos_of_idler()\n",
    "        \n",
    "\n",
    "        self.P_in = self.P0_p + self.P0_s\n",
    "        lami = 1e-3*c/self.fv[fv_id]\n",
    "        self.lami = lami\n",
    "        self.lamp = 1e-3*c/self.f_p\n",
    "        self.l_s = 1e-3*c/self.f_s\n",
    "        self.U_large_norm =  w2dbm(np.abs(self.U_large)**2) - self.P_max \n",
    "        P_out_vec = []\n",
    "        P_out_vec_casc = []\n",
    "        self.fv_id = fv_id\n",
    "        start, end= self.fv[fv_id] - freq_band, self.fv[fv_id] + freq_band\n",
    "        fv_id_c = self.pos_of_cascade()\n",
    "        start_c, end_c = self.fv[fv_id_c] - freq_band, self.fv[fv_id_c] + freq_band\n",
    "        for i in U_large:\n",
    "            self.spec = np.abs(i)**2\n",
    "            P_out_vec.append(self.calc_P_out(start,end))\n",
    "            P_out_vec_casc.append(self.calc_P_out(start_c,end_c))\n",
    "        self.P_out_vec_casc = np.asanyarray(P_out_vec_casc)\n",
    "        self.P_out_vec = np.asanyarray(P_out_vec)\n",
    "        self.P_out = np.mean(P_out_vec)\n",
    "        self.CE = self.calc_CE()\n",
    "        \n",
    "        self.std = { i : None for i in ('P_p', 'P_s', 'f_p', 'f_s','l_p','l_s,' 'P_out', 'P_bef','CE','rounds')}\n",
    "        self.std['P_out'] = np.std(P_out_vec)\n",
    "        self.std['CE'] = self.std['P_out']*self.CE/self.P_in\n",
    "        \n",
    "        read_write_CE_table(filename2,var = None, P_p = self.P0_p, P_s = self.P0_s, f_p = self.f_p,\n",
    "                                         f_s = self.f_s,P_out = self.P_out,P_bef = self.P_bef, CE = self.CE, var2 = 'CE',std = self.std,file_path=filepath2)\n",
    "        self.spec = np.mean(np.abs(U_large[0:][:])**2, axis = 0)\n",
    "        self.spec = np.abs(U_large[-1][:])**2\n",
    "        self.spec_s = w2dbm(self.spec)-self.P_max \n",
    "        return None\n",
    "\n",
    "    \n",
    "    def pos_of_idler(self):\n",
    "        U_sum = np.sum(np.abs(self.U_large)**2, axis = 0)\n",
    "        fp_id = np.where(U_sum == np.max(U_sum))[0][0]\n",
    "        plom = fp_id+50\n",
    "        fv_id = np.where(U_sum[plom:] == np.max(U_sum[plom:]))[0][0]\n",
    "        fv_id += plom-1\n",
    "        return fv_id\n",
    "    \n",
    "    def pos_of_signal(self):\n",
    "        U_sum = np.sum(np.abs(self.U_large)**2, axis = 0)\n",
    "        fp_id = np.where(U_sum == np.max(U_sum))[0][0]\n",
    "        plom = fp_id - 50\n",
    "        fv_id = np.where(U_sum[:plom] == np.max(U_sum[:plom]))[0][0]\n",
    "        return fv_id+1\n",
    "    \n",
    "    \n",
    "    def pos_of_cascade(self):\n",
    "        sig_id = self.pos_of_signal() - 50\n",
    "        U_sum = np.sum(np.abs(self.U_large)**2, axis = 0)\n",
    "        plom = sig_id\n",
    "        fv_id = np.where(U_sum[:plom] == np.max(U_sum[:plom]))[0][0]\n",
    "        return fv_id\n",
    "    \n",
    "    \n",
    "    def load_spectrum(self, possition,filename='data_large', filepath=''):\n",
    "        with h5py.File(filepath+filename+'.hdf5','r') as f: \n",
    "            l = f.get(possition)\n",
    "            U_large = ()\n",
    "            integers_list = [int(i) for i in l.keys()]\n",
    "            integers_list.sort()\n",
    "            integers_generator = (str(n) for n in integers_list)\n",
    "            for i in integers_generator:\n",
    "                steady_state = i\n",
    "                layers = possition + '/' + steady_state\n",
    "                D = read_variables(filename,layers, filepath)\n",
    "                U = D['U']\n",
    "                U_large += (U,)\n",
    "\n",
    "            fv = D['fv']\n",
    "            ro = D['ro']\n",
    "\n",
    "            Uabs = w2dbm(np.abs(U)**2)\n",
    "            P0_s = D['P0_s']\n",
    "            P0_p = D['P0_p']\n",
    "            t = D['t']\n",
    "            f_p = D['f_p']\n",
    "            f_s = D['f_s']\n",
    "            layers = '1/0'\n",
    "            \n",
    "            D = read_variables(filename,layers, filepath)\n",
    "            Uabss =np.abs(D['U']*(t[1] - t[0]))**2\n",
    "            fvs = D['fv']\n",
    "            tt = D['t']\n",
    "\n",
    "            P_bef = simps(Uabss,fvs)\n",
    "            P_bef /= (2*np.max(tt))\n",
    "            #print(P_bef)\n",
    "        return dbm2w(Uabs), fv,t, P0_p, P0_s, f_p, f_s,P_bef, ro, U_large,t\n",
    "\n",
    "\n",
    "\n",
    "    def calc_P_out(self,start,end):\n",
    "        i = np.where(\n",
    "            np.abs(self.fv - start) == np.min(np.abs(self.fv - start)))[0][0]\n",
    "        j = np.where(\n",
    "            np.abs(self.fv - end) == np.min(np.abs(self.fv - end)))[0][0]\n",
    "        E_out = simps(self.spec[i:j]*(self.tt[1] - self.tt[0])**2, self.fv[i:j])\n",
    "        P_out = E_out/(2*np.max(self.tt))\n",
    "        return P_out   \n",
    "\n",
    "\n",
    "    def calc_CE(self):\n",
    "        CE = 100*self.P_out/self.P_in\n",
    "        return CE\n",
    "\n",
    "\n",
    "    \n",
    "    def P_out_round(self,filesave):\n",
    "        \"\"\"Plots the output average power with respect to round trip number\"\"\"\n",
    "        self.l_p = 1e-3*c/self.f_p\n",
    "        fig = plt.figure(figsize=(20,10))\n",
    "        plt.plot(range(len(self.P_out_vec)), self.P_out_vec)\n",
    "        plt.xlabel('Rounds')\n",
    "        plt.ylabel('Output Power')\n",
    "        plt.title(f\"$P_p=$ {float(CE.P0_p):.{2}} W, $P_s=$ {float(CE.P0_s*1e3):.{2}} mW, $\\lambda_p=$ {float(CE.lamp):.{6}} nm,  $\\lambda_s=$ {float(CE.l_s):.{6}} nm, maximum output at: {float(CE.lami):.{6}} nm\")\n",
    "        plt.savefig('power_per_round'+filesave+'.png')\n",
    "\n",
    "        data = (range(len(self.P_out_vec)), self.P_out_vec)\n",
    "        _data ={'pump_power':self.P0_p, 'pump_wavelength': self.l_p, 'out_wave': self.lami}\n",
    "        with open('power_per_round'+filesave+'.pickle','wb') as f:\n",
    "            pl.dump(fig,f)\n",
    "        plt.clf()\n",
    "        plt.close('all')\n",
    "\n",
    "    def P_out_round_casc(self,filesave):\n",
    "        \"\"\"Plots the output average power with respect to round trip number\"\"\"\n",
    "        self.l_p = 1e-3*c/self.f_p\n",
    "        fig = plt.figure(figsize=(20,10))\n",
    "        plt.plot(range(len(self.P_out_vec)), self.P_out_vec_casc)\n",
    "        plt.xlabel('Rounds')\n",
    "        plt.ylabel('Output Power')\n",
    "        plt.title(f\"$P_p=$ {float(CE.P0_p):.{2}} W, $P_s=$ {float(CE.P0_s*1e3):.{2}} mW, $\\lambda_p=$ {float(CE.lamp):.{6}} nm,  $\\lambda_s=$ {float(CE.l_s):.{6}} nm, maximum output at: {float(CE.lami):.{6}} nm\")\n",
    "        plt.savefig('power_per_round_casc'+filesave+'.png')\n",
    "        data = (range(len(self.P_out_vec)), self.P_out_vec)\n",
    "        _data ={'pump_power':self.P0_p, 'pump_wavelength': self.l_p, 'out_wave': self.lami}\n",
    "        with open('power_per_round_casc'+filesave+'.pickle','wb') as f:\n",
    "            pl.dump(fig,f)\n",
    "        plt.clf()\n",
    "        plt.close('all')\n"
   ]
  },
  {
   "cell_type": "code",
   "execution_count": 18,
   "metadata": {
    "collapsed": true
   },
   "outputs": [],
   "source": [
    "def read_write_CE_table(filename,var = None, P_p = None, P_s = None, f_p = None, f_s = None,P_out = None, P_bef = None,CE = None, var2 = 'CE',std = None,file_path=''):\n",
    "        \n",
    "        \"\"\" Given values of the parameters this function uses pandas to open an\n",
    "            hdf5 file and append to the dataframe there. It also returns the full data\n",
    "            for post-processing. \n",
    "            \n",
    "            It returns a tuple of 2 numpy arrays the first with the variable var and the second with\n",
    "            the conversion efficiencty (as default). If no input is given( default then it just reads the )\n",
    "        \"\"\"\n",
    "        try:\n",
    "            l_s = 1e-3*c/f_s\n",
    "        except TypeError:\n",
    "            l_s = None\n",
    "            pass\n",
    "        try:\n",
    "            l_p = 1e-3*c/f_p\n",
    "        except TypeError:\n",
    "            l_p = None\n",
    "            pass\n",
    "        A = np.array([P_p, P_s, f_p, f_s,l_s,l_p, P_out, P_bef, CE]).T\n",
    "        a = pd.DataFrame(A, index = ['P_p', 'P_s','f_p', 'f_s','l_s','l_p', 'P_out','P_bef', 'CE']).T\n",
    "        try:\n",
    "            ab = pd.read_hdf(file_path+filename+'.hdf5')\n",
    "            if not(A.any() == None):\n",
    "                ab = ab.append(a, ignore_index=True)\n",
    "        except IOError:\n",
    "            if not(A.any() == None):\n",
    "                ab = a\n",
    "            else: \n",
    "                sys.exit(\"There is no data in file or given\")\n",
    "            pass\n",
    "        store = ab.to_hdf(file_path+filename+'.hdf5',key='a')\n",
    "        b = pd.DataFrame.from_dict([std])\n",
    "        try:\n",
    "            ba = pd.read_hdf(file_path+filename+'_std.hdf5', key = 'b')\n",
    "            if not(A.any() == None):\n",
    "                ba = ba.append(b, ignore_index=True)\n",
    "        except IOError:\n",
    "            if not(A.any() == None):\n",
    "                ba = b\n",
    "            else: \n",
    "                sys.exit(\"There is no data in file or given\")\n",
    "            pass\n",
    "        store2 = ba.to_hdf(file_path+filename+'_std.hdf5', key = 'b')\n",
    "\n",
    "        if var is None:\n",
    "            return None\n",
    "        else:\n",
    "            return ab[var].as_matrix(),ab[var2].as_matrix(),ba\n",
    "\n",
    "\n",
    "def plot_CE(var,var2 = 'CE',filename = 'CE', filepath='output_final/', filesave= None):\n",
    "    var_val, CE,std = read_write_CE_table(filename,var,var2 = var2,file_path=filepath)\n",
    "    std = std[var2].as_matrix()\n",
    "    fig = plt.figure(figsize=(20.0, 10.0))\n",
    "    plt.errorbar(var_val, CE, yerr=std, capsize= 10)\n",
    "    plt.gca().get_yaxis().get_major_formatter().set_useOffset(False)\n",
    "    plt.gca().get_xaxis().get_major_formatter().set_useOffset(False)\n",
    "    plt.xlabel(var)\n",
    "    plt.ylabel(var2)\n",
    "    plt.savefig(filesave+'.png',bbox_inches = 'tight')\n",
    "    data = (var_val, CE)\n",
    "    with open(str(filesave)+'.pickle','wb') as f:\n",
    "        pl.dump((fig,data),f)\n",
    "    plt.clf()\n",
    "    plt.close('all')\n",
    "\n",
    "    return None"
   ]
  },
  {
   "cell_type": "code",
   "execution_count": 19,
   "metadata": {
    "collapsed": true
   },
   "outputs": [],
   "source": [
    "def contor_plot(CE,fmin = None,fmax = None,  rounds = None,filename = None):\n",
    "    if not(fmin):\n",
    "        fmin = CE.fv[CE.fv_id] - CE.freq_band\n",
    "    if not(fmax):\n",
    "        fmax = CE.fv[CE.fv_id] + CE.freq_band\n",
    "    print(fmin,fmax)\n",
    "    i = np.where(np.abs(CE.fv - fmin) == np.min(np.abs(CE.fv - fmin)))[0][0]\n",
    "    j = np.where(np.abs(CE.fv - fmax) == np.min(np.abs(CE.fv - fmax)))[0][0]\n",
    "    \n",
    "\n",
    "\n",
    "    if rounds is None:\n",
    "        rounds = np.shape(CE.U_large_norm)[0]\n",
    "   \n",
    "    CE.ro = range(rounds)\n",
    "    x,y = np.meshgrid(CE.ro[:rounds], CE.fv[i:j])\n",
    "    z = CE.U_large_norm[:rounds,i:j].T\n",
    "    #print(np.shape(x), np.shape(z))\n",
    "    low_values_indices = z < -60  # Where values are low\n",
    "    z[low_values_indices] = -60  # All low values set to 0\n",
    "    fig = plt.figure(figsize=(20,10))\n",
    "    plt.contourf(x,y, z,np.arange(-60,np.max(CE.U_large_norm),1), extend = 'min',cmap=plt.cm.jet)\n",
    "    plt.xlabel(r'$rounds$')\n",
    "    plt.ylim(fmin,fmax)\n",
    "    #plt.xlim(0,200)\n",
    "    plt.ylabel(r'$f(THz)$')\n",
    "    plt.colorbar()\n",
    "    l_p = 1e-3*c/CE.f_p\n",
    "    plt.title(f\"$P_p=$ {float(CE.P0_p):.{2}} W, $P_s=$ {float(CE.P0_s*1e3):.{2}} mW, $\\lambda_p=$ {float(CE.lamp):.{6}} nm,  $\\lambda_s=$ {float(CE.l_s):.{6}} nm, maximum output at: {float(CE.lami):.{6}} nm\")\n",
    "    data = (CE.ro, CE.fv, z )\n",
    "    _data ={'pump_power':CE.P0_p, 'pump_wavelength': l_p, 'out_wave': CE.lami}\n",
    "    if filename is not None:\n",
    "        plt.savefig(str(filename), bbox_inches = 'tight')\n",
    "        plt.clf()\n",
    "        plt.close('all')\n",
    "        #with open(str(filename)+'.pickle','wb') as f:\n",
    "        #    pl.dump((data,_data),f)\n",
    "\n",
    "\n",
    "    else:\n",
    "        plt.show()\n",
    "    return None"
   ]
  },
  {
   "cell_type": "code",
   "execution_count": 20,
   "metadata": {
    "collapsed": true
   },
   "outputs": [],
   "source": [
    "def final_1D_spec(ii,specs):\n",
    "    filename = 'spectrum_fopo_final'\n",
    "    fig = plt.figure(figsize=(20,10))\n",
    "    #fig = plt.figure()\n",
    "    ax1 = fig.add_subplot(111)\n",
    "    ax2 = ax1.twiny()\n",
    "\n",
    "    ax1.plot(specs.fv, specs.spec_s, label = r'$\\lambda_p$='+str(specs.l_p)+r', $\\lambda_s $='+str(specs.l_s))\n",
    "\n",
    "    ax1.set_xlabel(r'$f (THz)$')\n",
    "    ax1.set_ylabel(r'spec (dB)')\n",
    "    #ax1.set_xticks(np.arange(min(specs.fv), max(specs.fv)+1, 10))\n",
    "    #ax1.set_ylim(260,320)\n",
    "    #print(round(min(specs.fv)),round(max(specs.fv)))\n",
    "    #sys.exit()\n",
    "    ax1.set_xticks(np.arange(round(min(specs.fv)),round(max(specs.fv)),10))\n",
    "    new_tick_locations = ax1.get_xticks()\n",
    "\n",
    "    def tick_function(X):\n",
    "        l = 1e-3*c/X\n",
    "        return [\"%.2f\" % z for z in l]\n",
    "    \n",
    "    #ax1.set_ylim(-100,0)\n",
    "    ax2.set_xlim(ax1.get_xlim())\n",
    "    ax2.set_xticks(new_tick_locations)\n",
    "    ax2.set_xticklabels(tick_function(new_tick_locations))\n",
    "    ax2.set_xlabel(r\"$\\lambda (nm)$\")\n",
    "    #plt.ylim(260,320)\n",
    "    ax1.legend()\n",
    "    plt.savefig(filename+str(ii)+'.png', bbox_inches = 'tight')\n",
    "    #plt.show()\n",
    "    with open(filename+str(ii)+'.pickle','wb') as f:\n",
    "        pl.dump(fig,f)\n",
    "    plt.clf()\n",
    "    plt.close('all')\n",
    "\n",
    "    return None"
   ]
  },
  {
   "cell_type": "code",
   "execution_count": 21,
   "metadata": {
    "collapsed": true
   },
   "outputs": [],
   "source": [
    "which = 'output_dump_pump_wavelengths/7w'\n",
    "which = 'output_dump_pump_wavelengths/wrong'\n",
    "which = 'output_dump_pump_wavelengths'\n",
    "#which = 'output_dump_pump_wavelengths/2_rounds'\n",
    "#which ='output_dump_pump_powers/ram0ss0'\n",
    "#which = 'output_dump/'#_pump_powers'\n",
    "which_l = 'output_dump/output'\n",
    "#which_l = 'output'\n",
    "outside_vec = (3,)\n",
    "inside_vec = range(6)"
   ]
  },
  {
   "cell_type": "code",
   "execution_count": 22,
   "metadata": {
    "scrolled": false,
    "slideshow": {
     "slide_type": "slide"
    }
   },
   "outputs": [
    {
     "name": "stdout",
     "output_type": "stream",
     "text": [
      "3 0\n"
     ]
    },
    {
     "ename": "KeyboardInterrupt",
     "evalue": "",
     "output_type": "error",
     "traceback": [
      "\u001b[0;31m---------------------------------------------------------------------------\u001b[0m",
      "\u001b[0;31mKeyboardInterrupt\u001b[0m                         Traceback (most recent call last)",
      "\u001b[0;32m<ipython-input-22-df74d0b20fdd>\u001b[0m in \u001b[0;36m<module>\u001b[0;34m()\u001b[0m\n\u001b[1;32m      8\u001b[0m     \u001b[0;32mfor\u001b[0m \u001b[0mi\u001b[0m \u001b[0;32min\u001b[0m \u001b[0minside_vec\u001b[0m\u001b[0;34m:\u001b[0m\u001b[0;34m\u001b[0m\u001b[0m\n\u001b[1;32m      9\u001b[0m         \u001b[0mprint\u001b[0m\u001b[0;34m(\u001b[0m\u001b[0mii\u001b[0m\u001b[0;34m,\u001b[0m\u001b[0mi\u001b[0m\u001b[0;34m)\u001b[0m\u001b[0;34m\u001b[0m\u001b[0m\n\u001b[0;32m---> 10\u001b[0;31m         \u001b[0mCE\u001b[0m \u001b[0;34m=\u001b[0m \u001b[0mConversion_efficiency\u001b[0m\u001b[0;34m(\u001b[0m\u001b[0;36m2\u001b[0m\u001b[0;34m,\u001b[0m\u001b[0mpossition\u001b[0m \u001b[0;34m=\u001b[0m \u001b[0;34m'2'\u001b[0m\u001b[0;34m,\u001b[0m \u001b[0mfilename\u001b[0m \u001b[0;34m=\u001b[0m \u001b[0;34m'data_large'\u001b[0m\u001b[0;34m,\u001b[0m\u001b[0mfilepath\u001b[0m \u001b[0;34m=\u001b[0m \u001b[0mwhich\u001b[0m\u001b[0;34m+\u001b[0m\u001b[0;34m'/output'\u001b[0m\u001b[0;34m+\u001b[0m\u001b[0mstr\u001b[0m\u001b[0;34m(\u001b[0m\u001b[0mi\u001b[0m\u001b[0;34m)\u001b[0m\u001b[0;34m+\u001b[0m\u001b[0;34m'/data/'\u001b[0m\u001b[0;34m)\u001b[0m\u001b[0;34m\u001b[0m\u001b[0m\n\u001b[0m\u001b[1;32m     11\u001b[0m         \u001b[0mfmin\u001b[0m\u001b[0;34m,\u001b[0m\u001b[0mfmax\u001b[0m\u001b[0;34m,\u001b[0m\u001b[0mrounds\u001b[0m  \u001b[0;34m=\u001b[0m \u001b[0;36m310\u001b[0m\u001b[0;34m,\u001b[0m\u001b[0;36m330\u001b[0m\u001b[0;34m,\u001b[0m\u001b[0;32mNone\u001b[0m\u001b[0;31m#np.min(CE.fv),np.max(CE.fv),None\u001b[0m\u001b[0;34m\u001b[0m\u001b[0m\n\u001b[1;32m     12\u001b[0m         \u001b[0mfmin\u001b[0m\u001b[0;34m,\u001b[0m\u001b[0mfmax\u001b[0m\u001b[0;34m,\u001b[0m\u001b[0mrounds\u001b[0m \u001b[0;34m=\u001b[0m \u001b[0;32mNone\u001b[0m\u001b[0;34m,\u001b[0m \u001b[0;32mNone\u001b[0m\u001b[0;34m,\u001b[0m \u001b[0;32mNone\u001b[0m\u001b[0;34m\u001b[0m\u001b[0m\n",
      "\u001b[0;32m<ipython-input-17-900e4d4119bc>\u001b[0m in \u001b[0;36m__init__\u001b[0;34m(self, freq_band, possition, filename, filepath, filename2, filepath2)\u001b[0m\n\u001b[1;32m      7\u001b[0m         \u001b[0mself\u001b[0m\u001b[0;34m.\u001b[0m\u001b[0mP_max\u001b[0m \u001b[0;34m=\u001b[0m \u001b[0mnp\u001b[0m\u001b[0;34m.\u001b[0m\u001b[0mmax\u001b[0m\u001b[0;34m(\u001b[0m\u001b[0mw2dbm\u001b[0m\u001b[0;34m(\u001b[0m\u001b[0mself\u001b[0m\u001b[0;34m.\u001b[0m\u001b[0mspec\u001b[0m\u001b[0;34m)\u001b[0m\u001b[0;34m)\u001b[0m\u001b[0;34m\u001b[0m\u001b[0m\n\u001b[1;32m      8\u001b[0m \u001b[0;34m\u001b[0m\u001b[0m\n\u001b[0;32m----> 9\u001b[0;31m         \u001b[0mself\u001b[0m\u001b[0;34m.\u001b[0m\u001b[0mspec\u001b[0m\u001b[0;34m,\u001b[0m \u001b[0mself\u001b[0m\u001b[0;34m.\u001b[0m\u001b[0mfv\u001b[0m\u001b[0;34m,\u001b[0m \u001b[0mself\u001b[0m\u001b[0;34m.\u001b[0m\u001b[0mt\u001b[0m\u001b[0;34m,\u001b[0m \u001b[0mself\u001b[0m\u001b[0;34m.\u001b[0m\u001b[0mP0_p\u001b[0m\u001b[0;34m,\u001b[0m \u001b[0mself\u001b[0m\u001b[0;34m.\u001b[0m\u001b[0mP0_s\u001b[0m\u001b[0;34m,\u001b[0m\u001b[0mself\u001b[0m\u001b[0;34m.\u001b[0m\u001b[0mf_p\u001b[0m\u001b[0;34m,\u001b[0m \u001b[0mself\u001b[0m\u001b[0;34m.\u001b[0m\u001b[0mf_s\u001b[0m\u001b[0;34m,\u001b[0m \u001b[0mself\u001b[0m\u001b[0;34m.\u001b[0m\u001b[0mP_bef\u001b[0m\u001b[0;34m,\u001b[0m\u001b[0mself\u001b[0m\u001b[0;34m.\u001b[0m\u001b[0mro\u001b[0m\u001b[0;34m,\u001b[0m\u001b[0mU_large\u001b[0m\u001b[0;34m,\u001b[0m\u001b[0mtt\u001b[0m \u001b[0;34m=\u001b[0m            \u001b[0mself\u001b[0m\u001b[0;34m.\u001b[0m\u001b[0mload_spectrum\u001b[0m\u001b[0;34m(\u001b[0m\u001b[0mpossition\u001b[0m\u001b[0;34m,\u001b[0m\u001b[0mfilename\u001b[0m\u001b[0;34m,\u001b[0m \u001b[0mfilepath\u001b[0m\u001b[0;34m)\u001b[0m\u001b[0;34m\u001b[0m\u001b[0m\n\u001b[0m\u001b[1;32m     10\u001b[0m         \u001b[0mself\u001b[0m\u001b[0;34m.\u001b[0m\u001b[0mtt\u001b[0m \u001b[0;34m=\u001b[0m \u001b[0mtt\u001b[0m\u001b[0;34m\u001b[0m\u001b[0m\n\u001b[1;32m     11\u001b[0m \u001b[0;34m\u001b[0m\u001b[0m\n",
      "\u001b[0;32m<ipython-input-17-900e4d4119bc>\u001b[0m in \u001b[0;36mload_spectrum\u001b[0;34m(self, possition, filename, filepath)\u001b[0m\n\u001b[1;32m     92\u001b[0m                 \u001b[0msteady_state\u001b[0m \u001b[0;34m=\u001b[0m \u001b[0mi\u001b[0m\u001b[0;34m\u001b[0m\u001b[0m\n\u001b[1;32m     93\u001b[0m                 \u001b[0mlayers\u001b[0m \u001b[0;34m=\u001b[0m \u001b[0mpossition\u001b[0m \u001b[0;34m+\u001b[0m \u001b[0;34m'/'\u001b[0m \u001b[0;34m+\u001b[0m \u001b[0msteady_state\u001b[0m\u001b[0;34m\u001b[0m\u001b[0m\n\u001b[0;32m---> 94\u001b[0;31m                 \u001b[0mD\u001b[0m \u001b[0;34m=\u001b[0m \u001b[0mread_variables\u001b[0m\u001b[0;34m(\u001b[0m\u001b[0mfilename\u001b[0m\u001b[0;34m,\u001b[0m\u001b[0mlayers\u001b[0m\u001b[0;34m,\u001b[0m \u001b[0mfilepath\u001b[0m\u001b[0;34m)\u001b[0m\u001b[0;34m\u001b[0m\u001b[0m\n\u001b[0m\u001b[1;32m     95\u001b[0m                 \u001b[0mU\u001b[0m \u001b[0;34m=\u001b[0m \u001b[0mD\u001b[0m\u001b[0;34m[\u001b[0m\u001b[0;34m'U'\u001b[0m\u001b[0;34m]\u001b[0m\u001b[0;34m\u001b[0m\u001b[0m\n\u001b[1;32m     96\u001b[0m                 \u001b[0mU_large\u001b[0m \u001b[0;34m+=\u001b[0m \u001b[0;34m(\u001b[0m\u001b[0mU\u001b[0m\u001b[0;34m,\u001b[0m\u001b[0;34m)\u001b[0m\u001b[0;34m\u001b[0m\u001b[0m\n",
      "\u001b[0;32m/home/john/storage/nextcloud/phd_years/FOPO/single-mode-fibre-opo/Single-mode-only/strict-SM-FOPO/data_plotters_animators.py\u001b[0m in \u001b[0;36mread_variables\u001b[0;34m(filename, layer, filepath)\u001b[0m\n\u001b[1;32m    181\u001b[0m                 \u001b[0;32mfor\u001b[0m \u001b[0mi\u001b[0m \u001b[0;32min\u001b[0m \u001b[0mf\u001b[0m\u001b[0;34m.\u001b[0m\u001b[0mget\u001b[0m\u001b[0;34m(\u001b[0m\u001b[0mlayer\u001b[0m\u001b[0;34m)\u001b[0m\u001b[0;34m.\u001b[0m\u001b[0mkeys\u001b[0m\u001b[0;34m(\u001b[0m\u001b[0;34m)\u001b[0m\u001b[0;34m:\u001b[0m\u001b[0;34m\u001b[0m\u001b[0m\n\u001b[1;32m    182\u001b[0m                         \u001b[0;32mtry\u001b[0m\u001b[0;34m:\u001b[0m\u001b[0;34m\u001b[0m\u001b[0m\n\u001b[0;32m--> 183\u001b[0;31m                                 \u001b[0mD\u001b[0m\u001b[0;34m[\u001b[0m\u001b[0mstr\u001b[0m\u001b[0;34m(\u001b[0m\u001b[0mi\u001b[0m\u001b[0;34m)\u001b[0m\u001b[0;34m]\u001b[0m \u001b[0;34m=\u001b[0m \u001b[0mf\u001b[0m\u001b[0;34m.\u001b[0m\u001b[0mget\u001b[0m\u001b[0;34m(\u001b[0m\u001b[0mlayer\u001b[0m \u001b[0;34m+\u001b[0m \u001b[0;34m'/'\u001b[0m \u001b[0;34m+\u001b[0m \u001b[0mstr\u001b[0m\u001b[0;34m(\u001b[0m\u001b[0mi\u001b[0m\u001b[0;34m)\u001b[0m\u001b[0;34m)\u001b[0m\u001b[0;34m.\u001b[0m\u001b[0mvalue\u001b[0m\u001b[0;34m\u001b[0m\u001b[0m\n\u001b[0m\u001b[1;32m    184\u001b[0m                         \u001b[0;32mexcept\u001b[0m \u001b[0mAttributeError\u001b[0m\u001b[0;34m:\u001b[0m\u001b[0;34m\u001b[0m\u001b[0m\n\u001b[1;32m    185\u001b[0m                                 \u001b[0;32mpass\u001b[0m\u001b[0;34m\u001b[0m\u001b[0m\n",
      "\u001b[0;32mh5py/_objects.pyx\u001b[0m in \u001b[0;36mh5py._objects.with_phil.wrapper (/home/ilan/minonda/conda-bld/h5py_1490027780283/work/h5py/_objects.c:2846)\u001b[0;34m()\u001b[0m\n",
      "\u001b[0;32mh5py/_objects.pyx\u001b[0m in \u001b[0;36mh5py._objects.with_phil.wrapper (/home/ilan/minonda/conda-bld/h5py_1490027780283/work/h5py/_objects.c:2804)\u001b[0;34m()\u001b[0m\n",
      "\u001b[0;32m/home/john/miniconda3/lib/python3.6/site-packages/h5py/_hl/dataset.py\u001b[0m in \u001b[0;36mvalue\u001b[0;34m(self)\u001b[0m\n\u001b[1;32m    244\u001b[0m         DeprecationWarning(\"dataset.value has been deprecated. \"\n\u001b[1;32m    245\u001b[0m             \"Use dataset[()] instead.\")\n\u001b[0;32m--> 246\u001b[0;31m         \u001b[0;32mreturn\u001b[0m \u001b[0mself\u001b[0m\u001b[0;34m[\u001b[0m\u001b[0;34m(\u001b[0m\u001b[0;34m)\u001b[0m\u001b[0;34m]\u001b[0m\u001b[0;34m\u001b[0m\u001b[0m\n\u001b[0m\u001b[1;32m    247\u001b[0m \u001b[0;34m\u001b[0m\u001b[0m\n\u001b[1;32m    248\u001b[0m     \u001b[0;34m@\u001b[0m\u001b[0mproperty\u001b[0m\u001b[0;34m\u001b[0m\u001b[0m\n",
      "\u001b[0;32mh5py/_objects.pyx\u001b[0m in \u001b[0;36mh5py._objects.with_phil.wrapper (/home/ilan/minonda/conda-bld/h5py_1490027780283/work/h5py/_objects.c:2846)\u001b[0;34m()\u001b[0m\n",
      "\u001b[0;32mh5py/_objects.pyx\u001b[0m in \u001b[0;36mh5py._objects.with_phil.wrapper (/home/ilan/minonda/conda-bld/h5py_1490027780283/work/h5py/_objects.c:2804)\u001b[0;34m()\u001b[0m\n",
      "\u001b[0;32m/home/john/miniconda3/lib/python3.6/site-packages/h5py/_hl/dataset.py\u001b[0m in \u001b[0;36m__getitem__\u001b[0;34m(self, args)\u001b[0m\n\u001b[1;32m    492\u001b[0m         \u001b[0mmspace\u001b[0m \u001b[0;34m=\u001b[0m \u001b[0mh5s\u001b[0m\u001b[0;34m.\u001b[0m\u001b[0mcreate_simple\u001b[0m\u001b[0;34m(\u001b[0m\u001b[0mmshape\u001b[0m\u001b[0;34m)\u001b[0m\u001b[0;34m\u001b[0m\u001b[0m\n\u001b[1;32m    493\u001b[0m         \u001b[0mfspace\u001b[0m \u001b[0;34m=\u001b[0m \u001b[0mselection\u001b[0m\u001b[0;34m.\u001b[0m\u001b[0mid\u001b[0m\u001b[0;34m\u001b[0m\u001b[0m\n\u001b[0;32m--> 494\u001b[0;31m         \u001b[0mself\u001b[0m\u001b[0;34m.\u001b[0m\u001b[0mid\u001b[0m\u001b[0;34m.\u001b[0m\u001b[0mread\u001b[0m\u001b[0;34m(\u001b[0m\u001b[0mmspace\u001b[0m\u001b[0;34m,\u001b[0m \u001b[0mfspace\u001b[0m\u001b[0;34m,\u001b[0m \u001b[0marr\u001b[0m\u001b[0;34m,\u001b[0m \u001b[0mmtype\u001b[0m\u001b[0;34m,\u001b[0m \u001b[0mdxpl\u001b[0m\u001b[0;34m=\u001b[0m\u001b[0mself\u001b[0m\u001b[0;34m.\u001b[0m\u001b[0m_dxpl\u001b[0m\u001b[0;34m)\u001b[0m\u001b[0;34m\u001b[0m\u001b[0m\n\u001b[0m\u001b[1;32m    495\u001b[0m \u001b[0;34m\u001b[0m\u001b[0m\n\u001b[1;32m    496\u001b[0m         \u001b[0;31m# Patch up the output for NumPy\u001b[0m\u001b[0;34m\u001b[0m\u001b[0;34m\u001b[0m\u001b[0m\n",
      "\u001b[0;31mKeyboardInterrupt\u001b[0m: "
     ]
    }
   ],
   "source": [
    "os.system('mkdir output_final')\n",
    "for ii in outside_vec:\n",
    "    ii = str(ii)\n",
    "    which = which_l+ ii\n",
    "    os.system('rm output_final/CE.hdf5 output_final/CE_std.hdf5')\n",
    "    os.system('mkdir output_final/'+str(ii))\n",
    "\n",
    "    for i in inside_vec:\n",
    "        print(ii,i)\n",
    "        CE = Conversion_efficiency(2,possition = '2', filename = 'data_large',filepath = which+'/output'+str(i)+'/data/')\n",
    "        fmin,fmax,rounds  = 310,330,None#np.min(CE.fv),np.max(CE.fv),None\n",
    "        fmin,fmax,rounds = None, None, None\n",
    "        fmin,fmax,rounds = np.min(CE.fv),np.max(CE.fv), None\n",
    "        \n",
    "\n",
    "        contor_plot(CE,fmin,fmax,rounds,filename= str(ii)+'_'+str(i))\n",
    "        CE.P_out_round(filesave = str(ii)+'_'+str(i))\n",
    "        CE.P_out_round_casc(filesave = str(ii)+'_'+str(i))\n",
    "        final_1D_spec(i,CE)\n",
    "        print(1e-3*c/CE.f_p, CE.lami)\n",
    "        del CE\n",
    "        gc.collect()\n",
    "    #var1, var2 = 'P_bef', 'P_out'\n",
    "   \n",
    "   "
   ]
  },
  {
   "cell_type": "code",
   "execution_count": null,
   "metadata": {
    "collapsed": true
   },
   "outputs": [],
   "source": [
    "os.system('mv ../output_final/1 output_final')"
   ]
  },
  {
   "cell_type": "code",
   "execution_count": 16,
   "metadata": {},
   "outputs": [
    {
     "name": "stdout",
     "output_type": "stream",
     "text": [
      "P_out\n"
     ]
    },
    {
     "name": "stderr",
     "output_type": "stream",
     "text": [
      "/home/john/miniconda3/lib/python3.6/site-packages/pandas/core/generic.py:1138: PerformanceWarning: \n",
      "your performance may suffer as PyTables will pickle object types that it cannot\n",
      "map directly to c-types [inferred_type->mixed,key->block1_values] [items->['P_bef', 'P_p', 'P_s', 'f_p', 'f_s', 'l_p', 'l_s,P_out', 'rounds']]\n",
      "\n",
      "  return pytables.to_hdf(path_or_buf, key, self, **kwargs)\n"
     ]
    },
    {
     "name": "stdout",
     "output_type": "stream",
     "text": [
      "CE\n",
      "P_out\n",
      "CE\n",
      "P_out\n",
      "CE\n",
      "P_out\n",
      "CE\n",
      "P_out\n",
      "CE\n",
      "P_out\n",
      "CE\n"
     ]
    }
   ],
   "source": [
    "for ii in outside_vec:\n",
    "    for i in inside_vec:\n",
    "\n",
    "        for var1,var2 in (('P_p', 'P_out'), ('P_p', 'CE')):\n",
    "            print(var2)\n",
    "            plot_CE(var1, var2,filesave = 'output_final/'+str(ii)+'/'+var2+str(ii))  \n",
    "\n",
    "        os.system('mv *png output_final/'+str(ii))\n",
    "        os.system('mv *pickle output_final/'+str(ii))\n"
   ]
  },
  {
   "cell_type": "code",
   "execution_count": null,
   "metadata": {
    "collapsed": true
   },
   "outputs": [],
   "source": [
    "import os\n",
    "ii = str(0)\n",
    "os.system('mv *png output_final/'+ii)\n",
    "os.system('mv *pickle output_final/'+ii)"
   ]
  }
 ],
 "metadata": {
  "anaconda-cloud": {},
  "kernelspec": {
   "display_name": "Python 3",
   "language": "python",
   "name": "python3"
  },
  "language_info": {
   "codemirror_mode": {
    "name": "ipython",
    "version": 3
   },
   "file_extension": ".py",
   "mimetype": "text/x-python",
   "name": "python",
   "nbconvert_exporter": "python",
   "pygments_lexer": "ipython3",
   "version": "3.6.1"
  },
  "nbpresent": {
   "slides": {},
   "themes": {
    "default": "76a933dd-2b7a-4539-97ef-87229f33bd0b",
    "theme": {}
   }
  }
 },
 "nbformat": 4,
 "nbformat_minor": 2
}
