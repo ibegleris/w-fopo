{
 "cells": [
  {
   "cell_type": "code",
   "execution_count": 1,
   "metadata": {
    "collapsed": false
   },
   "outputs": [
    {
     "data": {
      "application/javascript": [
       "IPython.OutputArea.prototype._should_scroll = function(lines) {\n",
       "    return false;\n",
       "}"
      ],
      "text/plain": [
       "<IPython.core.display.Javascript object>"
      ]
     },
     "metadata": {},
     "output_type": "display_data"
    }
   ],
   "source": [
    "%%javascript\n",
    "IPython.OutputArea.prototype._should_scroll = function(lines) {\n",
    "    return false;\n",
    "}"
   ]
  },
  {
   "cell_type": "code",
   "execution_count": 2,
   "metadata": {
    "collapsed": false
   },
   "outputs": [],
   "source": [
    "from functions import *\n",
    "import numpy as np\n",
    "import pandas as pd\n",
    "import matplotlib\n",
    "import os\n",
    "import pickle as pl\n",
    "import h5py\n",
    "from scipy.constants import c, pi\n",
    "import matplotlib.pyplot as plt"
   ]
  },
  {
   "cell_type": "code",
   "execution_count": 3,
   "metadata": {
    "collapsed": false
   },
   "outputs": [],
   "source": [
    "from numpy.fft import fftshift\n",
    "from fft_module import *\n",
    "import scipy"
   ]
  },
  {
   "cell_type": "code",
   "execution_count": 4,
   "metadata": {
    "collapsed": false
   },
   "outputs": [],
   "source": [
    "def fft(x):\n",
    "    return scipy.fft(x.T).T"
   ]
  },
  {
   "cell_type": "code",
   "execution_count": 21,
   "metadata": {
    "collapsed": false
   },
   "outputs": [],
   "source": [
    "class Conversion_efficiency(object):\n",
    "\n",
    "    def __init__(self, freq_band, possition, filename=None, filepath='',filename2 = 'CE',filepath2 = 'output_final/'):\n",
    "        self.variables = ('P_p', 'P_s', 'f_p', 'f_s','l_p','l_s,' 'P_out', 'P_bef','CE','rounds')\n",
    "        \n",
    "        self.spec, self.fv, self.t, self.P0_p, self.P0_s,self.f_p, self.f_s, self.P_bef,self.ro,U_large,tt =\\\n",
    "            self.load_spectrum('0',filename, filepath)\n",
    "        self.P_max = np.max(w2dbm(self.spec))\n",
    "        \n",
    "        self.spec, self.fv, self.t, self.P0_p, self.P0_s,self.f_p, self.f_s, self.P_bef,self.ro,U_large,tt =\\\n",
    "            self.load_spectrum(possition,filename, filepath)\n",
    "        self.tt = tt\n",
    "       \n",
    "    \n",
    "        #self.U = np.zeros(np.shape(U_large),dtype = np.complex)\n",
    "        \n",
    "\n",
    "        #for i in range(np.shape(self.U)[0]):\n",
    "        #    self.U[i,:] = U_large[i][:]\n",
    "        \n",
    "        self.spec = self.spec\n",
    "        #self.spec = np.mean(np.abs(self.U[100:,:])**2, axis = 0)\n",
    "        \n",
    "        \n",
    "        self.U_large = np.asanyarray(U_large)#[:,:,0]\n",
    "        self.nt = np.shape(self.spec)[0]\n",
    "        fv_id = self.pos_of_idler()\n",
    "        self.fv_id = fv_id\n",
    "        self.start, self.end= self.fv[fv_id] - freq_band, self.fv[fv_id] + freq_band\n",
    "        self.P_in = self.P0_p + self.P0_s\n",
    "        #self.P_out = self.calc_P_out()\n",
    "        \n",
    "        P_out_vec = []\n",
    "        for i in U_large:\n",
    "            self.spec = np.abs(i)**2\n",
    "            P_out_vec.append(self.calc_P_out())\n",
    "        \n",
    "        self.P_out = np.mean(P_out_vec)\n",
    "        self.CE = self.calc_CE()\n",
    "        \n",
    "        self.std = { i : None for i in ('P_p', 'P_s', 'f_p', 'f_s','l_p','l_s,' 'P_out', 'P_bef','CE','rounds')}\n",
    "        self.std['P_out'] = np.std(P_out_vec)\n",
    "        self.std['CE'] = self.std['P_out']*self.CE/self.P_in\n",
    "        \n",
    "        self.read_write_CE_table(filename2,var = None, P_p = self.P0_p, P_s = self.P0_s, f_p = self.f_p,\n",
    "                                         f_s = self.f_s,P_out = self.P_out,P_bef = self.P_bef, CE = self.CE, var2 = 'CE',std = self.std,file_path=filepath2)\n",
    "        self.spec = np.mean(np.abs(U_large[0:][:])**2, axis = 0)\n",
    "        lami = 1e-3*c/self.fv[fv_id]\n",
    "        self.lami = lami\n",
    "        self.lamp = 1e-3*c/self.f_p\n",
    "        self.spec_s = w2dbm(self.spec)-self.P_max \n",
    "        return None\n",
    "\n",
    "    \n",
    "    def pos_of_idler(self):\n",
    "        plom = self.nt//2+10\n",
    "        fv_id = np.where(self.spec[plom:] == np.max(self.spec[plom:]))[0][0]\n",
    "        fv_id += plom\n",
    "        return fv_id\n",
    "    \n",
    "    \n",
    "    def load_spectrum(self, possition,filename='data_large', filepath=''):\n",
    "        with h5py.File(filepath+filename+'.hdf5','r') as f: \n",
    "            l = f.get(possition)\n",
    "            U_large = ()\n",
    "            for i in l.keys():\n",
    "                steady_state = i \n",
    "                layers = possition + '/' + steady_state\n",
    "                D = read_variables(filename,layers, filepath)\n",
    "                U = D['U']\n",
    "                U_large += (U,)\n",
    "            fv = D['fv']\n",
    "            ro = D['ro']\n",
    "\n",
    "            Uabs = w2dbm(np.abs(U)**2)\n",
    "            P0_s = D['P0_s']\n",
    "            P0_p = D['P0_p']\n",
    "            t = D['t']\n",
    "            f_p = D['f_p']\n",
    "            f_s = D['f_s']\n",
    "            layers = '1/0'\n",
    "            \n",
    "            D = read_variables(filename,layers, filepath)\n",
    "            Uabss =np.abs(D['U'])**2\n",
    "            fvs = D['fv']\n",
    "            tt = D['t']\n",
    "\n",
    "            P_bef = simps(Uabss,fvs)\n",
    "            P_bef /= 2*np.max(tt)\n",
    "        return dbm2w(Uabs), fv,t, P0_p, P0_s, f_p, f_s,P_bef, ro, U_large,t\n",
    "\n",
    "\n",
    "\n",
    "    def calc_P_out(self):\n",
    "        i = np.where(\n",
    "            np.abs(self.fv - self.start) == np.min(np.abs(self.fv - self.start)))[0][0]\n",
    "        j = np.where(\n",
    "            np.abs(self.fv - self.end) == np.min(np.abs(self.fv - self.end)))[0][0]\n",
    "        #print(np.shape(self.fv[i:j]),np.shape(self.spec[i:j]))\n",
    "        E_out = simps(self.spec[i:j], self.fv[i:j])\n",
    "        P_out = E_out/(2*np.max(self.tt))\n",
    "        #print(P_out)\n",
    "        return P_out   \n",
    "\n",
    "\n",
    "    def calc_CE(self):\n",
    "        CE = 100*self.P_out/self.P_in\n",
    "        return CE\n",
    "\n",
    "\n",
    "    def read_write_CE_table(self,filename,var = None, P_p = None, P_s = None, f_p = None, f_s = None,P_out = None, P_bef = None,CE = None, var2 = 'CE',std = None,file_path=''):\n",
    "        \n",
    "        \"\"\" Given values of the parameters this function uses pandas to open an\n",
    "            hdf5 file and append to the dataframe there. It also returns the full data\n",
    "            for post-processing. \n",
    "            \n",
    "            It returns a tuple of 2 numpy arrays the first with the variable var and the second with\n",
    "            the conversion efficiencty (as default). If no input is given( default then it just reads the )\n",
    "        \"\"\"\n",
    "        try:\n",
    "            l_s = 1e-3*c/f_s\n",
    "        except TypeError:\n",
    "            l_s = None\n",
    "            pass\n",
    "        try:\n",
    "            l_p = 1e-3*c/f_p\n",
    "        except TypeError:\n",
    "            l_p = None\n",
    "            pass\n",
    "        A = np.array([P_p, P_s, f_p, f_s,l_s,l_p, P_out, P_bef, CE]).T\n",
    "        a = pd.DataFrame(A, index = ['P_p', 'P_s','f_p', 'f_s','l_s','l_p', 'P_out','P_bef', 'CE']).T\n",
    "        try:\n",
    "            ab = pd.read_hdf(file_path+filename+'.hdf5')\n",
    "            if not(A.any() == None):\n",
    "                ab = ab.append(a, ignore_index=True)\n",
    "        except IOError:\n",
    "            if not(A.any() == None):\n",
    "                ab = a\n",
    "            else: \n",
    "                sys.exit(\"There is no data in file or given\")\n",
    "            pass\n",
    "        store = ab.to_hdf(file_path+filename+'.hdf5',key='a')\n",
    "        b = pd.DataFrame.from_dict([std])\n",
    "        try:\n",
    "            ba = pd.read_hdf(file_path+filename+'_std.hdf5', key = 'b')\n",
    "            if not(A.any() == None):\n",
    "                ba = ba.append(b, ignore_index=True)\n",
    "        except IOError:\n",
    "            if not(A.any() == None):\n",
    "                ba = b\n",
    "            else: \n",
    "                sys.exit(\"There is no data in file or given\")\n",
    "            pass\n",
    "        store2 = ba.to_hdf(file_path+filename+'_std.hdf5', key = 'b')\n",
    "\n",
    "        if var is None:\n",
    "            return None\n",
    "        else:\n",
    "            return ab[var].as_matrix(),ab[var2].as_matrix(),ba\n",
    "\n",
    "\n",
    "    def plot_CE(self,var,var2 = 'CE',filename = 'CE', filepath='output_final/', filesave= None):\n",
    "        var_val, CE,std = self.read_write_CE_table(filename,var,var2 = var2,file_path=filepath)\n",
    "        std = std[var2].as_matrix()\n",
    "        fig = plt.figure(figsize=(20.0, 10.0))\n",
    "        plt.errorbar(var_val, CE, yerr=std, capsize= 10)\n",
    "        plt.gca().get_yaxis().get_major_formatter().set_useOffset(False)\n",
    "        plt.gca().get_xaxis().get_major_formatter().set_useOffset(False)\n",
    "        plt.xlabel(var)\n",
    "        plt.ylabel(var2)\n",
    "        plt.savefig(filesave+'.png',bbox_inches = 'tight')\n",
    "        pl.dump(fig,open(str(filesave)+'.pickle','wb'))\n",
    "           \n",
    "        #plt.close(fig)\n",
    "        return None\n"
   ]
  },
  {
   "cell_type": "code",
   "execution_count": 22,
   "metadata": {
    "collapsed": false
   },
   "outputs": [],
   "source": [
    "def contor_plot(fmin,fmax,CE,rounds = None,filename = None):\n",
    "    \n",
    "    \n",
    "    i = np.where(np.abs(CE.fv - fmin) == np.min(np.abs(CE.fv - fmin)))[0][0]\n",
    "    j = np.where(np.abs(CE.fv - fmax) == np.min(np.abs(CE.fv - fmax)))[0][0]\n",
    "    U = np.asanyarray(CE.U_large)\n",
    "    if rounds is None:\n",
    "        rounds = np.shape(U)[0]\n",
    "   \n",
    "    CE.ro = range(rounds)\n",
    "    x,y = np.meshgrid(CE.ro, CE.fv[i:j])\n",
    "    z = w2dbm(np.abs(U.T[i:j,:rounds])**2)\n",
    "    low_values_indices = z < -5  # Where values are low\n",
    "    z[low_values_indices] = -5  # All low values set to 0\n",
    "    fig = plt.figure(figsize=(20,10))\n",
    "    plt.contourf(x,y, z,100)\n",
    "    plt.xlabel(r'$rounds$')\n",
    "    #plt.ylim((320,325))\n",
    "    plt.ylabel(r'$f(THz)$')\n",
    "    plt.colorbar()\n",
    "    if filename is not None:\n",
    "        plt.savefig(str(filename), bbox_inches = 'tight')\n",
    "        pl.dump(fig,open(str(filename)+'.pickle','wb'))\n",
    "        plt.close('all')\n",
    "    else:\n",
    "        plt.show()\n",
    "    return None"
   ]
  },
  {
   "cell_type": "code",
   "execution_count": 23,
   "metadata": {
    "collapsed": false
   },
   "outputs": [],
   "source": [
    "which = 'output_dump_pump_wavelengths/7w'\n",
    "which = 'output_dump_pump_wavelengths/wrong'\n",
    "which = 'output_dump_pump_wavelengths'\n",
    "#which = 'output_dump_pump_wavelengths/2_rounds'\n",
    "#which ='output_dump_pump_powers/ram0ss0'\n",
    "which = 'output_dump_pump_powers'\n",
    "which_l = 'output_dump_pump_powers/'"
   ]
  },
  {
   "cell_type": "code",
   "execution_count": 24,
   "metadata": {
    "collapsed": false,
    "scrolled": false,
    "slideshow": {
     "slide_type": "slide"
    }
   },
   "outputs": [
    {
     "name": "stderr",
     "output_type": "stream",
     "text": [
      "/home/john/miniconda3/lib/python3.5/site-packages/pandas/core/generic.py:1138: PerformanceWarning: \n",
      "your performance may suffer as PyTables will pickle object types that it cannot\n",
      "map directly to c-types [inferred_type->mixed,key->block1_values] [items->['P_bef', 'P_p', 'P_s', 'f_p', 'f_s', 'l_p', 'l_s,P_out', 'rounds']]\n",
      "\n",
      "  return pytables.to_hdf(path_or_buf, key, self, **kwargs)\n"
     ]
    },
    {
     "name": "stdout",
     "output_type": "stream",
     "text": [
      "1048.91614702 942.045837052\n"
     ]
    }
   ],
   "source": [
    "for ii in range(2):\n",
    "    if ii == 0:\n",
    "        continue\n",
    "    ii = str(ii)\n",
    "    which = which_l+ ii\n",
    "    os.system('rm output_final/CE.hdf5 output_final/CE_std.hdf5')\n",
    "    lami_vec = []\n",
    "    lamp_vec = []\n",
    "    specs_large = []\n",
    "    for i in range(1):\n",
    "        CE = Conversion_efficiency(1,possition = '4', filename = 'data_large',filepath = which+'/output'+str(i)+'/data/')\n",
    "\n",
    "\n",
    "        fmin,fmax,rounds  = (np.min(CE.fv)+np.max(CE.fv))/2 +10,np.max(CE.fv) - 100,None\n",
    "        #fmin,fmax,rounds = np.min(CE.fv) + 100, (np.min(CE.fv)+np.max(CE.fv))/2 -1,None\n",
    "        #print(fmin,fmax)\n",
    "        #sys.exit()\n",
    "        lami_vec.append(CE.lami)\n",
    "        specs_large.append(CE)\n",
    "        #plt.show()\n",
    "        lamp_vec.append(CE.lamp)\n",
    "        #fmin,fmax,rounds  = 317,320, None\n",
    "        contor_plot(fmin,fmax,CE,rounds,filename= str(i))\n",
    "        print(1e-3*c/CE.f_p, CE.lami)\n",
    "    var1, var2 = 'P_bef', 'P_out'\n",
    "    os.system('mkdir '+ii)\n",
    "    os.system('mv *png '+ii)\n",
    "    os.system('mv *pickle '+ii)\n",
    "    #for var1,var2 in (('P_bef', 'P_out'), ('P_p', 'CE')):\n",
    "    #    print(var2)\n",
    "    #    CE.plot_CE(var1, var2,filesave = ii+'/'+var2)  "
   ]
  },
  {
   "cell_type": "code",
   "execution_count": 20,
   "metadata": {
    "collapsed": false
   },
   "outputs": [
    {
     "name": "stderr",
     "output_type": "stream",
     "text": [
      "/home/john/miniconda3/lib/python3.5/site-packages/pandas/core/generic.py:1138: PerformanceWarning: \n",
      "your performance may suffer as PyTables will pickle object types that it cannot\n",
      "map directly to c-types [inferred_type->mixed,key->block1_values] [items->['P_bef', 'P_p', 'P_s', 'f_p', 'f_s', 'l_p', 'l_s,P_out', 'rounds']]\n",
      "\n",
      "  return pytables.to_hdf(path_or_buf, key, self, **kwargs)\n"
     ]
    },
    {
     "data": {
      "image/png": "[encoded data removed]",
      "text/plain": [
       "<matplotlib.figure.Figure at 0x7f4992402b00>"
      ]
     },
     "metadata": {},
     "output_type": "display_data"
    }
   ],
   "source": [
    "%matplotlib inline\n",
    "CE.plot_CE('P_bef',var2 = 'P_out',filename = 'CE', filepath='output_final/', filesave= 'power')"
   ]
  },
  {
   "cell_type": "code",
   "execution_count": 10,
   "metadata": {
    "collapsed": false
   },
   "outputs": [],
   "source": [
    "filename = 'spectrum_fopo_1.png'\n",
    "fig = plt.figure(figsize=(20,10))\n",
    "for i in specs_large[:]:\n",
    "    \n",
    "    i.lp = i.fv\n",
    "    i.l_p = i.f_p\n",
    "    plt.plot(i.lp, i.spec_s, label = i.l_p)\n",
    "    #plt.xlim(900,1250)\n",
    "    plt.legend()\n",
    "    plt.xlabel(r'$\\lambda (\\mu m)$')\n",
    "    plt.ylabel(r'spec (dB)')\n",
    "    #plt.ylim(-100,0)\n",
    "plt.savefig(filename, bbox_inches = 'tight')\n",
    "pl.dump(fig,open(filename,'wb'))\n",
    "\n",
    "plt.show()\n",
    "plt.close('all')"
   ]
  },
  {
   "cell_type": "markdown",
   "metadata": {
    "collapsed": false
   },
   "source": [
    "var1, var2 = 'P_bef', 'P_out'\n",
    "for var1,var2 in (('P_bef', 'P_out'), ('P_p', 'CE')):\n",
    "    print(var2)\n",
    "    CE.plot_CE(var1, var2,filesave = '1/'+var2)"
   ]
  }
 ],
 "metadata": {
  "anaconda-cloud": {},
  "kernelspec": {
   "display_name": "Python 3",
   "language": "python",
   "name": "python3"
  },
  "language_info": {
   "codemirror_mode": {
    "name": "ipython",
    "version": 3
   },
   "file_extension": ".py",
   "mimetype": "text/x-python",
   "name": "python",
   "nbconvert_exporter": "python",
   "pygments_lexer": "ipython3",
   "version": "3.5.2"
  },
  "nbpresent": {
   "slides": {},
   "themes": {
    "default": "76a933dd-2b7a-4539-97ef-87229f33bd0b",
    "theme": {}
   }
  }
 },
 "nbformat": 4,
 "nbformat_minor": 2
}
